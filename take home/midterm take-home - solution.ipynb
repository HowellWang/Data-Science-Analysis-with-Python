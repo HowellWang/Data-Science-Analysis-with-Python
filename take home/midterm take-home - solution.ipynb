{
 "cells": [
  {
   "cell_type": "markdown",
   "metadata": {
    "deletable": true,
    "editable": true
   },
   "source": [
    "# Midterm take-home - solution"
   ]
  },
  {
   "cell_type": "markdown",
   "metadata": {
    "deletable": true,
    "editable": true
   },
   "source": [
    "<p>Instructions\n",
    "<ol>\n",
    "<li>Download the files <i>medical_payment.csv</i> and <i>geo-data.csv</i> into the same folder\n",
    "<li>Read the file <i>Documentation.docx</i>\n",
    "<li>Run the code below and then answer the questions\n",
    "</ol></p>"
   ]
  },
  {
   "cell_type": "markdown",
   "metadata": {
    "deletable": true,
    "editable": true
   },
   "source": [
    "<b>Penalties:</b> You will incur penalties if:\n",
    "<ul>\n",
    "<li>Your answer is different from the correct one</li>\n",
    "<li>Your code is unncessarily slow</li>\n",
    "<li>Your code is longer than specified</li>\n",
    "<li>You will be penalized if, in an attempt to limit the lines of code, you make your code too hard to read or too slow -- for example, by copy-pasting pieces of code in the same line instead of declaring a variable in one line and using the variable in another.\n",
    "</ul>"
   ]
  },
  {
   "cell_type": "code",
   "execution_count": 1,
   "metadata": {
    "collapsed": false,
    "deletable": true,
    "editable": true
   },
   "outputs": [],
   "source": [
    "import pandas as pd\n",
    "from IPython.core.interactiveshell import InteractiveShell\n",
    "InteractiveShell.ast_node_interactivity = \"all\"\n",
    "import warnings\n",
    "warnings.filterwarnings('ignore')"
   ]
  },
  {
   "cell_type": "code",
   "execution_count": 2,
   "metadata": {
    "collapsed": true
   },
   "outputs": [],
   "source": [
    "df = pd.read_csv(\"medical_payment.csv\",dtype=str).rename(columns=lambda x: x.strip())"
   ]
  },
  {
   "cell_type": "markdown",
   "metadata": {
    "deletable": true,
    "editable": true
   },
   "source": [
    "## Data Description"
   ]
  },
  {
   "cell_type": "markdown",
   "metadata": {},
   "source": [
    "With this data set, people can see the price difference for a hundred common illnesses and procedures. Hospitals can set their own prices and differ substantially in some cases. These prices will surprise you. Just look at your state and compare."
   ]
  },
  {
   "cell_type": "code",
   "execution_count": 3,
   "metadata": {
    "collapsed": false,
    "deletable": true,
    "editable": true,
    "scrolled": true
   },
   "outputs": [
    {
     "data": {
      "text/plain": [
       "(163065, 10)"
      ]
     },
     "execution_count": 3,
     "metadata": {},
     "output_type": "execute_result"
    }
   ],
   "source": [
    "df.shape"
   ]
  },
  {
   "cell_type": "markdown",
   "metadata": {},
   "source": [
    "The columns are as follows:"
   ]
  },
  {
   "cell_type": "code",
   "execution_count": 4,
   "metadata": {
    "collapsed": false
   },
   "outputs": [
    {
     "data": {
      "text/plain": [
       "Index([u'DRG Definition', u'Provider Id', u'Provider Name',\n",
       "       u'Provider Street Address', u'Provider Zip Code',\n",
       "       u'Hospital Referral Region Description', u'Total Discharges',\n",
       "       u'Average Covered Charges', u'Average Total Payments',\n",
       "       u'Average Medicare Payments'],\n",
       "      dtype='object')"
      ]
     },
     "execution_count": 4,
     "metadata": {},
     "output_type": "execute_result"
    }
   ],
   "source": [
    "df.columns"
   ]
  },
  {
   "cell_type": "markdown",
   "metadata": {},
   "source": [
    "A sample of the dataset:"
   ]
  },
  {
   "cell_type": "code",
   "execution_count": 5,
   "metadata": {
    "collapsed": false,
    "deletable": true,
    "editable": true,
    "scrolled": false
   },
   "outputs": [
    {
     "data": {
      "text/html": [
       "<div>\n",
       "<style>\n",
       "    .dataframe thead tr:only-child th {\n",
       "        text-align: right;\n",
       "    }\n",
       "\n",
       "    .dataframe thead th {\n",
       "        text-align: left;\n",
       "    }\n",
       "\n",
       "    .dataframe tbody tr th {\n",
       "        vertical-align: top;\n",
       "    }\n",
       "</style>\n",
       "<table border=\"1\" class=\"dataframe\">\n",
       "  <thead>\n",
       "    <tr style=\"text-align: right;\">\n",
       "      <th></th>\n",
       "      <th>DRG Definition</th>\n",
       "      <th>Provider Id</th>\n",
       "      <th>Provider Name</th>\n",
       "      <th>Provider Street Address</th>\n",
       "      <th>Provider Zip Code</th>\n",
       "      <th>Hospital Referral Region Description</th>\n",
       "      <th>Total Discharges</th>\n",
       "      <th>Average Covered Charges</th>\n",
       "      <th>Average Total Payments</th>\n",
       "      <th>Average Medicare Payments</th>\n",
       "    </tr>\n",
       "  </thead>\n",
       "  <tbody>\n",
       "    <tr>\n",
       "      <th>30075</th>\n",
       "      <td>193 - SIMPLE PNEUMONIA &amp; PLEURISY W MCC</td>\n",
       "      <td>210033</td>\n",
       "      <td>CARROLL HOSPITAL CENTER</td>\n",
       "      <td>200 MEMORIAL AVE</td>\n",
       "      <td>21157</td>\n",
       "      <td>MD - Baltimore</td>\n",
       "      <td>23</td>\n",
       "      <td>$16,013.95</td>\n",
       "      <td>$15,102.30</td>\n",
       "      <td>$13,555.52</td>\n",
       "    </tr>\n",
       "    <tr>\n",
       "      <th>53790</th>\n",
       "      <td>280 - ACUTE MYOCARDIAL INFARCTION, DISCHARGED ...</td>\n",
       "      <td>150026</td>\n",
       "      <td>IU HEALTH GOSHEN HOSPITAL</td>\n",
       "      <td>200 HIGH PARK AVE</td>\n",
       "      <td>46526</td>\n",
       "      <td>IN - South Bend</td>\n",
       "      <td>11</td>\n",
       "      <td>$34,427.00</td>\n",
       "      <td>$9,429.09</td>\n",
       "      <td>$8,711.63</td>\n",
       "    </tr>\n",
       "    <tr>\n",
       "      <th>35917</th>\n",
       "      <td>195 - SIMPLE PNEUMONIA &amp; PLEURISY W/O CC/MCC</td>\n",
       "      <td>260180</td>\n",
       "      <td>CHRISTIAN HOSPITAL NORTHEAST</td>\n",
       "      <td>11133 DUNN ROAD</td>\n",
       "      <td>63136</td>\n",
       "      <td>MO - St. Louis</td>\n",
       "      <td>26</td>\n",
       "      <td>$16,288.38</td>\n",
       "      <td>$4,093.92</td>\n",
       "      <td>$3,312.69</td>\n",
       "    </tr>\n",
       "    <tr>\n",
       "      <th>1627</th>\n",
       "      <td>057 - DEGENERATIVE NERVOUS SYSTEM DISORDERS W/...</td>\n",
       "      <td>230024</td>\n",
       "      <td>SINAI-GRACE HOSPITAL</td>\n",
       "      <td>6071 W OUTER DRIVE</td>\n",
       "      <td>48235</td>\n",
       "      <td>MI - Detroit</td>\n",
       "      <td>22</td>\n",
       "      <td>$14,041.63</td>\n",
       "      <td>$8,260.90</td>\n",
       "      <td>$7,392.00</td>\n",
       "    </tr>\n",
       "    <tr>\n",
       "      <th>143707</th>\n",
       "      <td>690 - KIDNEY &amp; URINARY TRACT INFECTIONS W/O MCC</td>\n",
       "      <td>360112</td>\n",
       "      <td>MERCY ST VINCENT MEDICAL CENTER</td>\n",
       "      <td>2213 CHERRY STREET</td>\n",
       "      <td>43608</td>\n",
       "      <td>OH - Toledo</td>\n",
       "      <td>80</td>\n",
       "      <td>$20,527.33</td>\n",
       "      <td>$6,425.51</td>\n",
       "      <td>$5,713.80</td>\n",
       "    </tr>\n",
       "  </tbody>\n",
       "</table>\n",
       "</div>"
      ],
      "text/plain": [
       "                                           DRG Definition Provider Id  \\\n",
       "30075             193 - SIMPLE PNEUMONIA & PLEURISY W MCC      210033   \n",
       "53790   280 - ACUTE MYOCARDIAL INFARCTION, DISCHARGED ...      150026   \n",
       "35917        195 - SIMPLE PNEUMONIA & PLEURISY W/O CC/MCC      260180   \n",
       "1627    057 - DEGENERATIVE NERVOUS SYSTEM DISORDERS W/...      230024   \n",
       "143707    690 - KIDNEY & URINARY TRACT INFECTIONS W/O MCC      360112   \n",
       "\n",
       "                          Provider Name Provider Street Address  \\\n",
       "30075           CARROLL HOSPITAL CENTER        200 MEMORIAL AVE   \n",
       "53790         IU HEALTH GOSHEN HOSPITAL       200 HIGH PARK AVE   \n",
       "35917      CHRISTIAN HOSPITAL NORTHEAST         11133 DUNN ROAD   \n",
       "1627               SINAI-GRACE HOSPITAL      6071 W OUTER DRIVE   \n",
       "143707  MERCY ST VINCENT MEDICAL CENTER      2213 CHERRY STREET   \n",
       "\n",
       "       Provider Zip Code Hospital Referral Region Description  \\\n",
       "30075              21157                       MD - Baltimore   \n",
       "53790              46526                      IN - South Bend   \n",
       "35917              63136                       MO - St. Louis   \n",
       "1627               48235                         MI - Detroit   \n",
       "143707             43608                          OH - Toledo   \n",
       "\n",
       "       Total Discharges Average Covered Charges Average Total Payments  \\\n",
       "30075                23             $16,013.95             $15,102.30    \n",
       "53790                11             $34,427.00              $9,429.09    \n",
       "35917                26             $16,288.38              $4,093.92    \n",
       "1627                 22             $14,041.63              $8,260.90    \n",
       "143707               80             $20,527.33              $6,425.51    \n",
       "\n",
       "       Average Medicare Payments  \n",
       "30075                $13,555.52   \n",
       "53790                 $8,711.63   \n",
       "35917                 $3,312.69   \n",
       "1627                  $7,392.00   \n",
       "143707                $5,713.80   "
      ]
     },
     "execution_count": 5,
     "metadata": {},
     "output_type": "execute_result"
    }
   ],
   "source": [
    "df.sample(5, random_state=1234).head()"
   ]
  },
  {
   "cell_type": "markdown",
   "metadata": {
    "deletable": true,
    "editable": true
   },
   "source": [
    "# 1. Transform relevant columns"
   ]
  },
  {
   "cell_type": "markdown",
   "metadata": {
    "deletable": true,
    "editable": true
   },
   "source": [
    "All columns in the dataset are of type `str` (to preserve the ZIP code information). For **four** columns, str is the wrong type. Change the columns and explain why you changed which column."
   ]
  },
  {
   "cell_type": "code",
   "execution_count": 6,
   "metadata": {
    "collapsed": true
   },
   "outputs": [],
   "source": [
    "df['Total Discharges'] = pd.to_numeric(df['Total Discharges'])"
   ]
  },
  {
   "cell_type": "code",
   "execution_count": 7,
   "metadata": {
    "collapsed": false
   },
   "outputs": [],
   "source": [
    "df['Average Covered Charges'] = pd.to_numeric(df['Average Covered Charges'].apply(lambda x : x[1:].replace(\",\", \"\")))"
   ]
  },
  {
   "cell_type": "code",
   "execution_count": 8,
   "metadata": {
    "collapsed": true
   },
   "outputs": [],
   "source": [
    "df['Average Total Payments'] = pd.to_numeric(df['Average Total Payments'].apply(lambda x : x[1:].replace(\",\", \"\")))"
   ]
  },
  {
   "cell_type": "code",
   "execution_count": 9,
   "metadata": {
    "collapsed": true
   },
   "outputs": [],
   "source": [
    "df['Average Medicare Payments'] = pd.to_numeric(df['Average Medicare Payments'].apply(lambda x : x[1:].replace(\",\", \"\")))"
   ]
  },
  {
   "cell_type": "code",
   "execution_count": 10,
   "metadata": {
    "collapsed": false
   },
   "outputs": [
    {
     "data": {
      "text/html": [
       "<div>\n",
       "<style>\n",
       "    .dataframe thead tr:only-child th {\n",
       "        text-align: right;\n",
       "    }\n",
       "\n",
       "    .dataframe thead th {\n",
       "        text-align: left;\n",
       "    }\n",
       "\n",
       "    .dataframe tbody tr th {\n",
       "        vertical-align: top;\n",
       "    }\n",
       "</style>\n",
       "<table border=\"1\" class=\"dataframe\">\n",
       "  <thead>\n",
       "    <tr style=\"text-align: right;\">\n",
       "      <th></th>\n",
       "      <th>DRG Definition</th>\n",
       "      <th>Provider Id</th>\n",
       "      <th>Provider Name</th>\n",
       "      <th>Provider Street Address</th>\n",
       "      <th>Provider Zip Code</th>\n",
       "      <th>Hospital Referral Region Description</th>\n",
       "      <th>Total Discharges</th>\n",
       "      <th>Average Covered Charges</th>\n",
       "      <th>Average Total Payments</th>\n",
       "      <th>Average Medicare Payments</th>\n",
       "    </tr>\n",
       "  </thead>\n",
       "  <tbody>\n",
       "    <tr>\n",
       "      <th>0</th>\n",
       "      <td>039 - EXTRACRANIAL PROCEDURES W/O CC/MCC</td>\n",
       "      <td>10001</td>\n",
       "      <td>SOUTHEAST ALABAMA MEDICAL CENTER</td>\n",
       "      <td>1108 ROSS CLARK CIRCLE</td>\n",
       "      <td>36301</td>\n",
       "      <td>AL - Dothan</td>\n",
       "      <td>91</td>\n",
       "      <td>32963.07</td>\n",
       "      <td>5777.24</td>\n",
       "      <td>4763.73</td>\n",
       "    </tr>\n",
       "    <tr>\n",
       "      <th>1</th>\n",
       "      <td>039 - EXTRACRANIAL PROCEDURES W/O CC/MCC</td>\n",
       "      <td>10005</td>\n",
       "      <td>MARSHALL MEDICAL CENTER SOUTH</td>\n",
       "      <td>2505 U S HIGHWAY 431 NORTH</td>\n",
       "      <td>35957</td>\n",
       "      <td>AL - Birmingham</td>\n",
       "      <td>14</td>\n",
       "      <td>15131.85</td>\n",
       "      <td>5787.57</td>\n",
       "      <td>4976.71</td>\n",
       "    </tr>\n",
       "    <tr>\n",
       "      <th>2</th>\n",
       "      <td>039 - EXTRACRANIAL PROCEDURES W/O CC/MCC</td>\n",
       "      <td>10006</td>\n",
       "      <td>ELIZA COFFEE MEMORIAL HOSPITAL</td>\n",
       "      <td>205 MARENGO STREET</td>\n",
       "      <td>35631</td>\n",
       "      <td>AL - Birmingham</td>\n",
       "      <td>24</td>\n",
       "      <td>37560.37</td>\n",
       "      <td>5434.95</td>\n",
       "      <td>4453.79</td>\n",
       "    </tr>\n",
       "    <tr>\n",
       "      <th>3</th>\n",
       "      <td>039 - EXTRACRANIAL PROCEDURES W/O CC/MCC</td>\n",
       "      <td>10011</td>\n",
       "      <td>ST VINCENT'S EAST</td>\n",
       "      <td>50 MEDICAL PARK EAST DRIVE</td>\n",
       "      <td>35235</td>\n",
       "      <td>AL - Birmingham</td>\n",
       "      <td>25</td>\n",
       "      <td>13998.28</td>\n",
       "      <td>5417.56</td>\n",
       "      <td>4129.16</td>\n",
       "    </tr>\n",
       "    <tr>\n",
       "      <th>4</th>\n",
       "      <td>039 - EXTRACRANIAL PROCEDURES W/O CC/MCC</td>\n",
       "      <td>10016</td>\n",
       "      <td>SHELBY BAPTIST MEDICAL CENTER</td>\n",
       "      <td>1000 FIRST STREET NORTH</td>\n",
       "      <td>35007</td>\n",
       "      <td>AL - Birmingham</td>\n",
       "      <td>18</td>\n",
       "      <td>31633.27</td>\n",
       "      <td>5658.33</td>\n",
       "      <td>4851.44</td>\n",
       "    </tr>\n",
       "  </tbody>\n",
       "</table>\n",
       "</div>"
      ],
      "text/plain": [
       "                             DRG Definition Provider Id  \\\n",
       "0  039 - EXTRACRANIAL PROCEDURES W/O CC/MCC       10001   \n",
       "1  039 - EXTRACRANIAL PROCEDURES W/O CC/MCC       10005   \n",
       "2  039 - EXTRACRANIAL PROCEDURES W/O CC/MCC       10006   \n",
       "3  039 - EXTRACRANIAL PROCEDURES W/O CC/MCC       10011   \n",
       "4  039 - EXTRACRANIAL PROCEDURES W/O CC/MCC       10016   \n",
       "\n",
       "                      Provider Name     Provider Street Address  \\\n",
       "0  SOUTHEAST ALABAMA MEDICAL CENTER      1108 ROSS CLARK CIRCLE   \n",
       "1     MARSHALL MEDICAL CENTER SOUTH  2505 U S HIGHWAY 431 NORTH   \n",
       "2    ELIZA COFFEE MEMORIAL HOSPITAL          205 MARENGO STREET   \n",
       "3                 ST VINCENT'S EAST  50 MEDICAL PARK EAST DRIVE   \n",
       "4     SHELBY BAPTIST MEDICAL CENTER     1000 FIRST STREET NORTH   \n",
       "\n",
       "  Provider Zip Code Hospital Referral Region Description  Total Discharges  \\\n",
       "0             36301                          AL - Dothan                91   \n",
       "1             35957                      AL - Birmingham                14   \n",
       "2             35631                      AL - Birmingham                24   \n",
       "3             35235                      AL - Birmingham                25   \n",
       "4             35007                      AL - Birmingham                18   \n",
       "\n",
       "   Average Covered Charges  Average Total Payments  Average Medicare Payments  \n",
       "0                 32963.07                 5777.24                    4763.73  \n",
       "1                 15131.85                 5787.57                    4976.71  \n",
       "2                 37560.37                 5434.95                    4453.79  \n",
       "3                 13998.28                 5417.56                    4129.16  \n",
       "4                 31633.27                 5658.33                    4851.44  "
      ]
     },
     "execution_count": 10,
     "metadata": {},
     "output_type": "execute_result"
    }
   ],
   "source": [
    "df.head()"
   ]
  },
  {
   "cell_type": "markdown",
   "metadata": {},
   "source": [
    "# 2. Create an overview of heart disease"
   ]
  },
  {
   "cell_type": "markdown",
   "metadata": {},
   "source": [
    "0. **Be careful when you identify 'heart' disease. Make sure that you catch all of heart disease.**\n",
    "1. Create the overview (Make sure that the overview is understandable to everyone.)\n",
    "2. Choose an appropriate measure to aggregate the data."
   ]
  },
  {
   "cell_type": "code",
   "execution_count": 11,
   "metadata": {
    "collapsed": false
   },
   "outputs": [
    {
     "data": {
      "text/plain": [
       "array(['039 - EXTRACRANIAL PROCEDURES W/O CC/MCC',\n",
       "       '057 - DEGENERATIVE NERVOUS SYSTEM DISORDERS W/O MCC',\n",
       "       '069 - TRANSIENT ISCHEMIA',\n",
       "       '064 - INTRACRANIAL HEMORRHAGE OR CEREBRAL INFARCTION W MCC',\n",
       "       '065 - INTRACRANIAL HEMORRHAGE OR CEREBRAL INFARCTION W CC',\n",
       "       '066 - INTRACRANIAL HEMORRHAGE OR CEREBRAL INFARCTION W/O CC/MCC',\n",
       "       '074 - CRANIAL & PERIPHERAL NERVE DISORDERS W/O MCC',\n",
       "       '101 - SEIZURES W/O MCC', '149 - DYSEQUILIBRIUM',\n",
       "       '176 - PULMONARY EMBOLISM W/O MCC',\n",
       "       '177 - RESPIRATORY INFECTIONS & INFLAMMATIONS W MCC',\n",
       "       '189 - PULMONARY EDEMA & RESPIRATORY FAILURE',\n",
       "       '178 - RESPIRATORY INFECTIONS & INFLAMMATIONS W CC',\n",
       "       '190 - CHRONIC OBSTRUCTIVE PULMONARY DISEASE W MCC',\n",
       "       '191 - CHRONIC OBSTRUCTIVE PULMONARY DISEASE W CC',\n",
       "       '193 - SIMPLE PNEUMONIA & PLEURISY W MCC',\n",
       "       '194 - SIMPLE PNEUMONIA & PLEURISY W CC',\n",
       "       '192 - CHRONIC OBSTRUCTIVE PULMONARY DISEASE W/O CC/MCC',\n",
       "       '195 - SIMPLE PNEUMONIA & PLEURISY W/O CC/MCC',\n",
       "       '202 - BRONCHITIS & ASTHMA W CC/MCC',\n",
       "       '203 - BRONCHITIS & ASTHMA W/O CC/MCC',\n",
       "       '207 - RESPIRATORY SYSTEM DIAGNOSIS W VENTILATOR SUPPORT 96+ HOURS',\n",
       "       '238 - MAJOR CARDIOVASC PROCEDURES W/O MCC',\n",
       "       '252 - OTHER VASCULAR PROCEDURES W MCC',\n",
       "       '253 - OTHER VASCULAR PROCEDURES W CC',\n",
       "       '208 - RESPIRATORY SYSTEM DIAGNOSIS W VENTILATOR SUPPORT <96 HOURS',\n",
       "       '254 - OTHER VASCULAR PROCEDURES W/O CC/MCC',\n",
       "       '291 - HEART FAILURE & SHOCK W MCC',\n",
       "       '243 - PERMANENT CARDIAC PACEMAKER IMPLANT W CC',\n",
       "       '244 - PERMANENT CARDIAC PACEMAKER IMPLANT W/O CC/MCC',\n",
       "       '246 - PERC CARDIOVASC PROC W DRUG-ELUTING STENT W MCC OR 4+ VESSELS/STENTS',\n",
       "       '247 - PERC CARDIOVASC PROC W DRUG-ELUTING STENT W/O MCC',\n",
       "       '249 - PERC CARDIOVASC PROC W NON-DRUG-ELUTING STENT W/O MCC',\n",
       "       '251 - PERC CARDIOVASC PROC W/O CORONARY ARTERY STENT W/O MCC',\n",
       "       '280 - ACUTE MYOCARDIAL INFARCTION, DISCHARGED ALIVE W MCC',\n",
       "       '292 - HEART FAILURE & SHOCK W CC',\n",
       "       '281 - ACUTE MYOCARDIAL INFARCTION, DISCHARGED ALIVE W CC',\n",
       "       '282 - ACUTE MYOCARDIAL INFARCTION, DISCHARGED ALIVE W/O CC/MCC',\n",
       "       '286 - CIRCULATORY DISORDERS EXCEPT AMI, W CARD CATH W MCC',\n",
       "       '287 - CIRCULATORY DISORDERS EXCEPT AMI, W CARD CATH W/O MCC',\n",
       "       '293 - HEART FAILURE & SHOCK W/O CC/MCC',\n",
       "       '300 - PERIPHERAL VASCULAR DISORDERS W CC',\n",
       "       '301 - PERIPHERAL VASCULAR DISORDERS W/O CC/MCC',\n",
       "       '303 - ATHEROSCLEROSIS W/O MCC', '305 - HYPERTENSION W/O MCC',\n",
       "       '308 - CARDIAC ARRHYTHMIA & CONDUCTION DISORDERS W MCC',\n",
       "       '312 - SYNCOPE & COLLAPSE',\n",
       "       '309 - CARDIAC ARRHYTHMIA & CONDUCTION DISORDERS W CC',\n",
       "       '310 - CARDIAC ARRHYTHMIA & CONDUCTION DISORDERS W/O CC/MCC',\n",
       "       '313 - CHEST PAIN',\n",
       "       '314 - OTHER CIRCULATORY SYSTEM DIAGNOSES W MCC',\n",
       "       '315 - OTHER CIRCULATORY SYSTEM DIAGNOSES W CC',\n",
       "       '330 - MAJOR SMALL & LARGE BOWEL PROCEDURES W CC',\n",
       "       '377 - G.I. HEMORRHAGE W MCC',\n",
       "       '329 - MAJOR SMALL & LARGE BOWEL PROCEDURES W MCC',\n",
       "       '372 - MAJOR GASTROINTESTINAL DISORDERS & PERITONEAL INFECTIONS W CC',\n",
       "       '378 - G.I. HEMORRHAGE W CC', '379 - G.I. HEMORRHAGE W/O CC/MCC',\n",
       "       '389 - G.I. OBSTRUCTION W CC', '390 - G.I. OBSTRUCTION W/O CC/MCC',\n",
       "       '391 - ESOPHAGITIS, GASTROENT & MISC DIGEST DISORDERS W MCC',\n",
       "       '394 - OTHER DIGESTIVE SYSTEM DIAGNOSES W CC',\n",
       "       '439 - DISORDERS OF PANCREAS EXCEPT MALIGNANCY W CC',\n",
       "       '392 - ESOPHAGITIS, GASTROENT & MISC DIGEST DISORDERS W/O MCC',\n",
       "       '460 - SPINAL FUSION EXCEPT CERVICAL W/O MCC',\n",
       "       '473 - CERVICAL SPINAL FUSION W/O CC/MCC',\n",
       "       '418 - LAPAROSCOPIC CHOLECYSTECTOMY W/O C.D.E. W CC',\n",
       "       '419 - LAPAROSCOPIC CHOLECYSTECTOMY W/O C.D.E. W/O CC/MCC',\n",
       "       '469 - MAJOR JOINT REPLACEMENT OR REATTACHMENT OF LOWER EXTREMITY W MCC',\n",
       "       '470 - MAJOR JOINT REPLACEMENT OR REATTACHMENT OF LOWER EXTREMITY W/O MCC',\n",
       "       '480 - HIP & FEMUR PROCEDURES EXCEPT MAJOR JOINT W MCC',\n",
       "       '481 - HIP & FEMUR PROCEDURES EXCEPT MAJOR JOINT W CC',\n",
       "       '536 - FRACTURES OF HIP & PELVIS W/O MCC',\n",
       "       '482 - HIP & FEMUR PROCEDURES EXCEPT MAJOR JOINT W/O CC/MCC',\n",
       "       '552 - MEDICAL BACK PROBLEMS W/O MCC',\n",
       "       '491 - BACK & NECK PROC EXC SPINAL FUSION W/O CC/MCC',\n",
       "       '563 - FX, SPRN, STRN & DISL EXCEPT FEMUR, HIP, PELVIS & THIGH W/O MCC',\n",
       "       '602 - CELLULITIS W MCC', '603 - CELLULITIS W/O MCC',\n",
       "       '638 - DIABETES W CC',\n",
       "       '640 - MISC DISORDERS OF NUTRITION,METABOLISM,FLUIDS/ELECTROLYTES W MCC',\n",
       "       '682 - RENAL FAILURE W MCC',\n",
       "       '641 - MISC DISORDERS OF NUTRITION,METABOLISM,FLUIDS/ELECTROLYTES W/O MCC',\n",
       "       '683 - RENAL FAILURE W CC', '684 - RENAL FAILURE W/O CC/MCC',\n",
       "       '689 - KIDNEY & URINARY TRACT INFECTIONS W MCC',\n",
       "       '690 - KIDNEY & URINARY TRACT INFECTIONS W/O MCC',\n",
       "       '811 - RED BLOOD CELL DISORDERS W MCC',\n",
       "       '698 - OTHER KIDNEY & URINARY TRACT DIAGNOSES W MCC',\n",
       "       '699 - OTHER KIDNEY & URINARY TRACT DIAGNOSES W CC',\n",
       "       '812 - RED BLOOD CELL DISORDERS W/O MCC',\n",
       "       '853 - INFECTIOUS & PARASITIC DISEASES W O.R. PROCEDURE W MCC',\n",
       "       '885 - PSYCHOSES',\n",
       "       '870 - SEPTICEMIA OR SEVERE SEPSIS W MV 96+ HOURS',\n",
       "       '871 - SEPTICEMIA OR SEVERE SEPSIS W/O MV 96+ HOURS W MCC',\n",
       "       '872 - SEPTICEMIA OR SEVERE SEPSIS W/O MV 96+ HOURS W/O MCC',\n",
       "       '897 - ALCOHOL/DRUG ABUSE OR DEPENDENCE W/O REHABILITATION THERAPY W/O MCC',\n",
       "       '948 - SIGNS & SYMPTOMS W/O MCC',\n",
       "       '917 - POISONING & TOXIC EFFECTS OF DRUGS W MCC',\n",
       "       '918 - POISONING & TOXIC EFFECTS OF DRUGS W/O MCC'], dtype=object)"
      ]
     },
     "execution_count": 11,
     "metadata": {},
     "output_type": "execute_result"
    }
   ],
   "source": [
    "df['DRG Definition'].unique()"
   ]
  },
  {
   "cell_type": "code",
   "execution_count": 12,
   "metadata": {
    "collapsed": false
   },
   "outputs": [],
   "source": [
    "cardi = (df['DRG Definition'].str.contains('HEART')) | (df['DRG Definition'].str.contains('CARDI'))"
   ]
  },
  {
   "cell_type": "code",
   "execution_count": 13,
   "metadata": {
    "collapsed": false
   },
   "outputs": [
    {
     "data": {
      "text/html": [
       "<div>\n",
       "<style>\n",
       "    .dataframe thead tr:only-child th {\n",
       "        text-align: right;\n",
       "    }\n",
       "\n",
       "    .dataframe thead th {\n",
       "        text-align: left;\n",
       "    }\n",
       "\n",
       "    .dataframe tbody tr th {\n",
       "        vertical-align: top;\n",
       "    }\n",
       "</style>\n",
       "<table border=\"1\" class=\"dataframe\">\n",
       "  <thead>\n",
       "    <tr style=\"text-align: right;\">\n",
       "      <th></th>\n",
       "      <th>count</th>\n",
       "      <th>mean</th>\n",
       "      <th>std</th>\n",
       "      <th>min</th>\n",
       "      <th>25%</th>\n",
       "      <th>50%</th>\n",
       "      <th>75%</th>\n",
       "      <th>max</th>\n",
       "    </tr>\n",
       "    <tr>\n",
       "      <th>DRG Definition</th>\n",
       "      <th></th>\n",
       "      <th></th>\n",
       "      <th></th>\n",
       "      <th></th>\n",
       "      <th></th>\n",
       "      <th></th>\n",
       "      <th></th>\n",
       "      <th></th>\n",
       "    </tr>\n",
       "  </thead>\n",
       "  <tbody>\n",
       "    <tr>\n",
       "      <th>292 - HEART FAILURE &amp; SHOCK W CC</th>\n",
       "      <td>2953.0</td>\n",
       "      <td>6957.831656</td>\n",
       "      <td>1650.554829</td>\n",
       "      <td>4563.83</td>\n",
       "      <td>5905.0000</td>\n",
       "      <td>6444.830</td>\n",
       "      <td>7479.0700</td>\n",
       "      <td>16916.50</td>\n",
       "    </tr>\n",
       "    <tr>\n",
       "      <th>291 - HEART FAILURE &amp; SHOCK W MCC</th>\n",
       "      <td>2687.0</td>\n",
       "      <td>10266.545969</td>\n",
       "      <td>2747.538459</td>\n",
       "      <td>6738.80</td>\n",
       "      <td>8552.6350</td>\n",
       "      <td>9393.040</td>\n",
       "      <td>11060.9900</td>\n",
       "      <td>34358.15</td>\n",
       "    </tr>\n",
       "    <tr>\n",
       "      <th>293 - HEART FAILURE &amp; SHOCK W/O CC/MCC</th>\n",
       "      <td>2514.0</td>\n",
       "      <td>4693.197267</td>\n",
       "      <td>1101.860517</td>\n",
       "      <td>3267.92</td>\n",
       "      <td>3994.7750</td>\n",
       "      <td>4363.425</td>\n",
       "      <td>5002.2550</td>\n",
       "      <td>14081.00</td>\n",
       "    </tr>\n",
       "    <tr>\n",
       "      <th>310 - CARDIAC ARRHYTHMIA &amp; CONDUCTION DISORDERS W/O CC/MCC</th>\n",
       "      <td>2403.0</td>\n",
       "      <td>3967.388115</td>\n",
       "      <td>900.585352</td>\n",
       "      <td>2718.27</td>\n",
       "      <td>3386.6800</td>\n",
       "      <td>3688.560</td>\n",
       "      <td>4300.4900</td>\n",
       "      <td>8705.00</td>\n",
       "    </tr>\n",
       "    <tr>\n",
       "      <th>309 - CARDIAC ARRHYTHMIA &amp; CONDUCTION DISORDERS W CC</th>\n",
       "      <td>2363.0</td>\n",
       "      <td>5791.490597</td>\n",
       "      <td>1368.861034</td>\n",
       "      <td>4013.00</td>\n",
       "      <td>4908.6050</td>\n",
       "      <td>5357.160</td>\n",
       "      <td>6224.6500</td>\n",
       "      <td>12939.26</td>\n",
       "    </tr>\n",
       "    <tr>\n",
       "      <th>280 - ACUTE MYOCARDIAL INFARCTION, DISCHARGED ALIVE W MCC</th>\n",
       "      <td>1881.0</td>\n",
       "      <td>12441.672344</td>\n",
       "      <td>3305.660060</td>\n",
       "      <td>6638.00</td>\n",
       "      <td>10297.2700</td>\n",
       "      <td>11558.620</td>\n",
       "      <td>13648.8400</td>\n",
       "      <td>38703.18</td>\n",
       "    </tr>\n",
       "    <tr>\n",
       "      <th>308 - CARDIAC ARRHYTHMIA &amp; CONDUCTION DISORDERS W MCC</th>\n",
       "      <td>1880.0</td>\n",
       "      <td>8690.294303</td>\n",
       "      <td>2096.337440</td>\n",
       "      <td>5841.38</td>\n",
       "      <td>7268.1125</td>\n",
       "      <td>8071.500</td>\n",
       "      <td>9475.7200</td>\n",
       "      <td>23289.13</td>\n",
       "    </tr>\n",
       "    <tr>\n",
       "      <th>281 - ACUTE MYOCARDIAL INFARCTION, DISCHARGED ALIVE W CC</th>\n",
       "      <td>1561.0</td>\n",
       "      <td>7994.259071</td>\n",
       "      <td>1917.823385</td>\n",
       "      <td>4852.38</td>\n",
       "      <td>6707.3500</td>\n",
       "      <td>7491.860</td>\n",
       "      <td>8702.4600</td>\n",
       "      <td>19467.91</td>\n",
       "    </tr>\n",
       "    <tr>\n",
       "      <th>247 - PERC CARDIOVASC PROC W DRUG-ELUTING STENT W/O MCC</th>\n",
       "      <td>1408.0</td>\n",
       "      <td>14353.519659</td>\n",
       "      <td>3565.946606</td>\n",
       "      <td>9585.21</td>\n",
       "      <td>12134.9650</td>\n",
       "      <td>13589.090</td>\n",
       "      <td>15698.3250</td>\n",
       "      <td>83484.14</td>\n",
       "    </tr>\n",
       "    <tr>\n",
       "      <th>243 - PERMANENT CARDIAC PACEMAKER IMPLANT W CC</th>\n",
       "      <td>1150.0</td>\n",
       "      <td>18132.917496</td>\n",
       "      <td>3817.566566</td>\n",
       "      <td>12286.89</td>\n",
       "      <td>15549.5850</td>\n",
       "      <td>17165.010</td>\n",
       "      <td>19719.7075</td>\n",
       "      <td>38724.30</td>\n",
       "    </tr>\n",
       "    <tr>\n",
       "      <th>282 - ACUTE MYOCARDIAL INFARCTION, DISCHARGED ALIVE W/O CC/MCC</th>\n",
       "      <td>1111.0</td>\n",
       "      <td>5523.348488</td>\n",
       "      <td>1231.642989</td>\n",
       "      <td>3865.71</td>\n",
       "      <td>4682.4350</td>\n",
       "      <td>5197.150</td>\n",
       "      <td>6000.5000</td>\n",
       "      <td>13335.30</td>\n",
       "    </tr>\n",
       "    <tr>\n",
       "      <th>244 - PERMANENT CARDIAC PACEMAKER IMPLANT W/O CC/MCC</th>\n",
       "      <td>1075.0</td>\n",
       "      <td>13899.714288</td>\n",
       "      <td>2835.843601</td>\n",
       "      <td>9761.00</td>\n",
       "      <td>11956.1400</td>\n",
       "      <td>13224.450</td>\n",
       "      <td>15169.6100</td>\n",
       "      <td>43834.54</td>\n",
       "    </tr>\n",
       "    <tr>\n",
       "      <th>238 - MAJOR CARDIOVASC PROCEDURES W/O MCC</th>\n",
       "      <td>1054.0</td>\n",
       "      <td>21948.545104</td>\n",
       "      <td>4661.347511</td>\n",
       "      <td>13233.16</td>\n",
       "      <td>18703.7200</td>\n",
       "      <td>20825.280</td>\n",
       "      <td>23832.2600</td>\n",
       "      <td>54682.48</td>\n",
       "    </tr>\n",
       "    <tr>\n",
       "      <th>249 - PERC CARDIOVASC PROC W NON-DRUG-ELUTING STENT W/O MCC</th>\n",
       "      <td>955.0</td>\n",
       "      <td>12593.510618</td>\n",
       "      <td>3567.075896</td>\n",
       "      <td>8515.36</td>\n",
       "      <td>10571.6100</td>\n",
       "      <td>11801.730</td>\n",
       "      <td>13690.0150</td>\n",
       "      <td>84499.26</td>\n",
       "    </tr>\n",
       "    <tr>\n",
       "      <th>246 - PERC CARDIOVASC PROC W DRUG-ELUTING STENT W MCC OR 4+ VESSELS/STENTS</th>\n",
       "      <td>917.0</td>\n",
       "      <td>23326.339019</td>\n",
       "      <td>5322.214394</td>\n",
       "      <td>15513.60</td>\n",
       "      <td>19648.9200</td>\n",
       "      <td>22202.730</td>\n",
       "      <td>25380.5000</td>\n",
       "      <td>54231.54</td>\n",
       "    </tr>\n",
       "    <tr>\n",
       "      <th>251 - PERC CARDIOVASC PROC W/O CORONARY ARTERY STENT W/O MCC</th>\n",
       "      <td>727.0</td>\n",
       "      <td>13315.209477</td>\n",
       "      <td>3422.207617</td>\n",
       "      <td>8759.00</td>\n",
       "      <td>11011.8100</td>\n",
       "      <td>12326.800</td>\n",
       "      <td>14625.8000</td>\n",
       "      <td>42928.29</td>\n",
       "    </tr>\n",
       "  </tbody>\n",
       "</table>\n",
       "</div>"
      ],
      "text/plain": [
       "                                                     count          mean  \\\n",
       "DRG Definition                                                             \n",
       "292 - HEART FAILURE & SHOCK W CC                    2953.0   6957.831656   \n",
       "291 - HEART FAILURE & SHOCK W MCC                   2687.0  10266.545969   \n",
       "293 - HEART FAILURE & SHOCK W/O CC/MCC              2514.0   4693.197267   \n",
       "310 - CARDIAC ARRHYTHMIA & CONDUCTION DISORDERS...  2403.0   3967.388115   \n",
       "309 - CARDIAC ARRHYTHMIA & CONDUCTION DISORDERS...  2363.0   5791.490597   \n",
       "280 - ACUTE MYOCARDIAL INFARCTION, DISCHARGED A...  1881.0  12441.672344   \n",
       "308 - CARDIAC ARRHYTHMIA & CONDUCTION DISORDERS...  1880.0   8690.294303   \n",
       "281 - ACUTE MYOCARDIAL INFARCTION, DISCHARGED A...  1561.0   7994.259071   \n",
       "247 - PERC CARDIOVASC PROC W DRUG-ELUTING STENT...  1408.0  14353.519659   \n",
       "243 - PERMANENT CARDIAC PACEMAKER IMPLANT W CC      1150.0  18132.917496   \n",
       "282 - ACUTE MYOCARDIAL INFARCTION, DISCHARGED A...  1111.0   5523.348488   \n",
       "244 - PERMANENT CARDIAC PACEMAKER IMPLANT W/O C...  1075.0  13899.714288   \n",
       "238 - MAJOR CARDIOVASC PROCEDURES W/O MCC           1054.0  21948.545104   \n",
       "249 - PERC CARDIOVASC PROC W NON-DRUG-ELUTING S...   955.0  12593.510618   \n",
       "246 - PERC CARDIOVASC PROC W DRUG-ELUTING STENT...   917.0  23326.339019   \n",
       "251 - PERC CARDIOVASC PROC W/O CORONARY ARTERY ...   727.0  13315.209477   \n",
       "\n",
       "                                                            std       min  \\\n",
       "DRG Definition                                                              \n",
       "292 - HEART FAILURE & SHOCK W CC                    1650.554829   4563.83   \n",
       "291 - HEART FAILURE & SHOCK W MCC                   2747.538459   6738.80   \n",
       "293 - HEART FAILURE & SHOCK W/O CC/MCC              1101.860517   3267.92   \n",
       "310 - CARDIAC ARRHYTHMIA & CONDUCTION DISORDERS...   900.585352   2718.27   \n",
       "309 - CARDIAC ARRHYTHMIA & CONDUCTION DISORDERS...  1368.861034   4013.00   \n",
       "280 - ACUTE MYOCARDIAL INFARCTION, DISCHARGED A...  3305.660060   6638.00   \n",
       "308 - CARDIAC ARRHYTHMIA & CONDUCTION DISORDERS...  2096.337440   5841.38   \n",
       "281 - ACUTE MYOCARDIAL INFARCTION, DISCHARGED A...  1917.823385   4852.38   \n",
       "247 - PERC CARDIOVASC PROC W DRUG-ELUTING STENT...  3565.946606   9585.21   \n",
       "243 - PERMANENT CARDIAC PACEMAKER IMPLANT W CC      3817.566566  12286.89   \n",
       "282 - ACUTE MYOCARDIAL INFARCTION, DISCHARGED A...  1231.642989   3865.71   \n",
       "244 - PERMANENT CARDIAC PACEMAKER IMPLANT W/O C...  2835.843601   9761.00   \n",
       "238 - MAJOR CARDIOVASC PROCEDURES W/O MCC           4661.347511  13233.16   \n",
       "249 - PERC CARDIOVASC PROC W NON-DRUG-ELUTING S...  3567.075896   8515.36   \n",
       "246 - PERC CARDIOVASC PROC W DRUG-ELUTING STENT...  5322.214394  15513.60   \n",
       "251 - PERC CARDIOVASC PROC W/O CORONARY ARTERY ...  3422.207617   8759.00   \n",
       "\n",
       "                                                           25%        50%  \\\n",
       "DRG Definition                                                              \n",
       "292 - HEART FAILURE & SHOCK W CC                     5905.0000   6444.830   \n",
       "291 - HEART FAILURE & SHOCK W MCC                    8552.6350   9393.040   \n",
       "293 - HEART FAILURE & SHOCK W/O CC/MCC               3994.7750   4363.425   \n",
       "310 - CARDIAC ARRHYTHMIA & CONDUCTION DISORDERS...   3386.6800   3688.560   \n",
       "309 - CARDIAC ARRHYTHMIA & CONDUCTION DISORDERS...   4908.6050   5357.160   \n",
       "280 - ACUTE MYOCARDIAL INFARCTION, DISCHARGED A...  10297.2700  11558.620   \n",
       "308 - CARDIAC ARRHYTHMIA & CONDUCTION DISORDERS...   7268.1125   8071.500   \n",
       "281 - ACUTE MYOCARDIAL INFARCTION, DISCHARGED A...   6707.3500   7491.860   \n",
       "247 - PERC CARDIOVASC PROC W DRUG-ELUTING STENT...  12134.9650  13589.090   \n",
       "243 - PERMANENT CARDIAC PACEMAKER IMPLANT W CC      15549.5850  17165.010   \n",
       "282 - ACUTE MYOCARDIAL INFARCTION, DISCHARGED A...   4682.4350   5197.150   \n",
       "244 - PERMANENT CARDIAC PACEMAKER IMPLANT W/O C...  11956.1400  13224.450   \n",
       "238 - MAJOR CARDIOVASC PROCEDURES W/O MCC           18703.7200  20825.280   \n",
       "249 - PERC CARDIOVASC PROC W NON-DRUG-ELUTING S...  10571.6100  11801.730   \n",
       "246 - PERC CARDIOVASC PROC W DRUG-ELUTING STENT...  19648.9200  22202.730   \n",
       "251 - PERC CARDIOVASC PROC W/O CORONARY ARTERY ...  11011.8100  12326.800   \n",
       "\n",
       "                                                           75%       max  \n",
       "DRG Definition                                                            \n",
       "292 - HEART FAILURE & SHOCK W CC                     7479.0700  16916.50  \n",
       "291 - HEART FAILURE & SHOCK W MCC                   11060.9900  34358.15  \n",
       "293 - HEART FAILURE & SHOCK W/O CC/MCC               5002.2550  14081.00  \n",
       "310 - CARDIAC ARRHYTHMIA & CONDUCTION DISORDERS...   4300.4900   8705.00  \n",
       "309 - CARDIAC ARRHYTHMIA & CONDUCTION DISORDERS...   6224.6500  12939.26  \n",
       "280 - ACUTE MYOCARDIAL INFARCTION, DISCHARGED A...  13648.8400  38703.18  \n",
       "308 - CARDIAC ARRHYTHMIA & CONDUCTION DISORDERS...   9475.7200  23289.13  \n",
       "281 - ACUTE MYOCARDIAL INFARCTION, DISCHARGED A...   8702.4600  19467.91  \n",
       "247 - PERC CARDIOVASC PROC W DRUG-ELUTING STENT...  15698.3250  83484.14  \n",
       "243 - PERMANENT CARDIAC PACEMAKER IMPLANT W CC      19719.7075  38724.30  \n",
       "282 - ACUTE MYOCARDIAL INFARCTION, DISCHARGED A...   6000.5000  13335.30  \n",
       "244 - PERMANENT CARDIAC PACEMAKER IMPLANT W/O C...  15169.6100  43834.54  \n",
       "238 - MAJOR CARDIOVASC PROCEDURES W/O MCC           23832.2600  54682.48  \n",
       "249 - PERC CARDIOVASC PROC W NON-DRUG-ELUTING S...  13690.0150  84499.26  \n",
       "246 - PERC CARDIOVASC PROC W DRUG-ELUTING STENT...  25380.5000  54231.54  \n",
       "251 - PERC CARDIOVASC PROC W/O CORONARY ARTERY ...  14625.8000  42928.29  "
      ]
     },
     "execution_count": 13,
     "metadata": {},
     "output_type": "execute_result"
    }
   ],
   "source": [
    "df[cardi].groupby('DRG Definition')['Average Total Payments'].describe().sort_values(by='count',ascending=False)"
   ]
  },
  {
   "cell_type": "markdown",
   "metadata": {
    "deletable": true,
    "editable": true
   },
   "source": [
    "# 3. Identify the five cheapest hospitals offer lung disease cure for personal"
   ]
  },
  {
   "cell_type": "code",
   "execution_count": 14,
   "metadata": {
    "collapsed": true
   },
   "outputs": [],
   "source": [
    "lung = (df['DRG Definition'].str.contains('pulmonary')) | (df['DRG Definition'].str.contains('PNEUMONIA'))"
   ]
  },
  {
   "cell_type": "code",
   "execution_count": 15,
   "metadata": {
    "collapsed": false
   },
   "outputs": [
    {
     "data": {
      "text/plain": [
       "Provider Name\n",
       "SARTORI MEMORIAL HOSPITAL            4309.49\n",
       "WOODWARD REGIONAL HOSPITAL           4238.00\n",
       "PARKVIEW ADVENTIST MEDICAL CENTER    3926.60\n",
       "HARTSELLE MEDICAL CENTER             3814.00\n",
       "GROVE HILL MEMORIAL HOSPITAL         3710.00\n",
       "Name: Average Total Payments, dtype: float64"
      ]
     },
     "execution_count": 15,
     "metadata": {},
     "output_type": "execute_result"
    }
   ],
   "source": [
    "df[lung].groupby('Provider Name')['Average Total Payments'].mean().sort_values(ascending=False).tail()"
   ]
  },
  {
   "cell_type": "markdown",
   "metadata": {
    "deletable": true,
    "editable": true
   },
   "source": [
    "# 4. Augment the datset with information about the state"
   ]
  },
  {
   "cell_type": "markdown",
   "metadata": {
    "collapsed": true,
    "deletable": true,
    "editable": true
   },
   "source": [
    "Read the file `geo-data.csv` into an object `zip_codes`. **Make sure that you read all columns as string.** ([Link](https://github.com/scpike/us-state-county-zip))<br>\n",
    "**Attention: After merging, there are some columns (state and state_abbr) have nan value, please fill in those by new dataframe**"
   ]
  },
  {
   "cell_type": "code",
   "execution_count": 16,
   "metadata": {
    "collapsed": true
   },
   "outputs": [],
   "source": [
    "zip_codes = pd.read_csv(\"geo-data.csv\",dtype=str)"
   ]
  },
  {
   "cell_type": "code",
   "execution_count": 17,
   "metadata": {
    "collapsed": true
   },
   "outputs": [],
   "source": [
    "zip_codes.rename(columns = {'zipcode':'Provider Zip Code'}, inplace=True)"
   ]
  },
  {
   "cell_type": "code",
   "execution_count": 18,
   "metadata": {
    "collapsed": true
   },
   "outputs": [],
   "source": [
    "res = pd.merge(df, zip_codes, how='left', on='Provider Zip Code')"
   ]
  },
  {
   "cell_type": "code",
   "execution_count": 19,
   "metadata": {
    "collapsed": false
   },
   "outputs": [],
   "source": [
    "res.loc[res.state.isnull(), 'state_abbr'] = res['Hospital Referral Region Description'].apply(lambda x : x.split(\" - \")[0])"
   ]
  },
  {
   "cell_type": "code",
   "execution_count": 20,
   "metadata": {
    "collapsed": false
   },
   "outputs": [],
   "source": [
    "zip_codes_temp = zip_codes[['state','state_abbr']]"
   ]
  },
  {
   "cell_type": "code",
   "execution_count": 21,
   "metadata": {
    "collapsed": true
   },
   "outputs": [],
   "source": [
    "d = zip_codes_temp.set_index('state_abbr').T.to_dict('list')"
   ]
  },
  {
   "cell_type": "code",
   "execution_count": 22,
   "metadata": {
    "collapsed": false
   },
   "outputs": [],
   "source": [
    "res.loc[res.state.isnull(), 'state'] = res.state_abbr.map(d)[0]"
   ]
  },
  {
   "cell_type": "code",
   "execution_count": 23,
   "metadata": {
    "collapsed": false
   },
   "outputs": [
    {
     "data": {
      "text/html": [
       "<div>\n",
       "<style>\n",
       "    .dataframe thead tr:only-child th {\n",
       "        text-align: right;\n",
       "    }\n",
       "\n",
       "    .dataframe thead th {\n",
       "        text-align: left;\n",
       "    }\n",
       "\n",
       "    .dataframe tbody tr th {\n",
       "        vertical-align: top;\n",
       "    }\n",
       "</style>\n",
       "<table border=\"1\" class=\"dataframe\">\n",
       "  <thead>\n",
       "    <tr style=\"text-align: right;\">\n",
       "      <th></th>\n",
       "      <th>DRG Definition</th>\n",
       "      <th>Provider Id</th>\n",
       "      <th>Provider Name</th>\n",
       "      <th>Provider Street Address</th>\n",
       "      <th>Provider Zip Code</th>\n",
       "      <th>Hospital Referral Region Description</th>\n",
       "      <th>Total Discharges</th>\n",
       "      <th>Average Covered Charges</th>\n",
       "      <th>Average Total Payments</th>\n",
       "      <th>Average Medicare Payments</th>\n",
       "      <th>state_fips</th>\n",
       "      <th>state</th>\n",
       "      <th>state_abbr</th>\n",
       "      <th>county</th>\n",
       "      <th>city</th>\n",
       "    </tr>\n",
       "  </thead>\n",
       "  <tbody>\n",
       "    <tr>\n",
       "      <th>0</th>\n",
       "      <td>039 - EXTRACRANIAL PROCEDURES W/O CC/MCC</td>\n",
       "      <td>10001</td>\n",
       "      <td>SOUTHEAST ALABAMA MEDICAL CENTER</td>\n",
       "      <td>1108 ROSS CLARK CIRCLE</td>\n",
       "      <td>36301</td>\n",
       "      <td>AL - Dothan</td>\n",
       "      <td>91</td>\n",
       "      <td>32963.07</td>\n",
       "      <td>5777.24</td>\n",
       "      <td>4763.73</td>\n",
       "      <td>1</td>\n",
       "      <td>Alabama</td>\n",
       "      <td>AL</td>\n",
       "      <td>Houston</td>\n",
       "      <td>Taylor</td>\n",
       "    </tr>\n",
       "    <tr>\n",
       "      <th>1</th>\n",
       "      <td>039 - EXTRACRANIAL PROCEDURES W/O CC/MCC</td>\n",
       "      <td>10005</td>\n",
       "      <td>MARSHALL MEDICAL CENTER SOUTH</td>\n",
       "      <td>2505 U S HIGHWAY 431 NORTH</td>\n",
       "      <td>35957</td>\n",
       "      <td>AL - Birmingham</td>\n",
       "      <td>14</td>\n",
       "      <td>15131.85</td>\n",
       "      <td>5787.57</td>\n",
       "      <td>4976.71</td>\n",
       "      <td>1</td>\n",
       "      <td>Alabama</td>\n",
       "      <td>AL</td>\n",
       "      <td>Marshall</td>\n",
       "      <td>Boaz</td>\n",
       "    </tr>\n",
       "    <tr>\n",
       "      <th>2</th>\n",
       "      <td>039 - EXTRACRANIAL PROCEDURES W/O CC/MCC</td>\n",
       "      <td>10006</td>\n",
       "      <td>ELIZA COFFEE MEMORIAL HOSPITAL</td>\n",
       "      <td>205 MARENGO STREET</td>\n",
       "      <td>35631</td>\n",
       "      <td>AL - Birmingham</td>\n",
       "      <td>24</td>\n",
       "      <td>37560.37</td>\n",
       "      <td>5434.95</td>\n",
       "      <td>4453.79</td>\n",
       "      <td>NaN</td>\n",
       "      <td>Alabama</td>\n",
       "      <td>AL</td>\n",
       "      <td>NaN</td>\n",
       "      <td>NaN</td>\n",
       "    </tr>\n",
       "    <tr>\n",
       "      <th>3</th>\n",
       "      <td>039 - EXTRACRANIAL PROCEDURES W/O CC/MCC</td>\n",
       "      <td>10011</td>\n",
       "      <td>ST VINCENT'S EAST</td>\n",
       "      <td>50 MEDICAL PARK EAST DRIVE</td>\n",
       "      <td>35235</td>\n",
       "      <td>AL - Birmingham</td>\n",
       "      <td>25</td>\n",
       "      <td>13998.28</td>\n",
       "      <td>5417.56</td>\n",
       "      <td>4129.16</td>\n",
       "      <td>1</td>\n",
       "      <td>Alabama</td>\n",
       "      <td>AL</td>\n",
       "      <td>Jefferson</td>\n",
       "      <td>Center point</td>\n",
       "    </tr>\n",
       "    <tr>\n",
       "      <th>4</th>\n",
       "      <td>039 - EXTRACRANIAL PROCEDURES W/O CC/MCC</td>\n",
       "      <td>10016</td>\n",
       "      <td>SHELBY BAPTIST MEDICAL CENTER</td>\n",
       "      <td>1000 FIRST STREET NORTH</td>\n",
       "      <td>35007</td>\n",
       "      <td>AL - Birmingham</td>\n",
       "      <td>18</td>\n",
       "      <td>31633.27</td>\n",
       "      <td>5658.33</td>\n",
       "      <td>4851.44</td>\n",
       "      <td>1</td>\n",
       "      <td>Alabama</td>\n",
       "      <td>AL</td>\n",
       "      <td>Shelby</td>\n",
       "      <td>Keystone</td>\n",
       "    </tr>\n",
       "  </tbody>\n",
       "</table>\n",
       "</div>"
      ],
      "text/plain": [
       "                             DRG Definition Provider Id  \\\n",
       "0  039 - EXTRACRANIAL PROCEDURES W/O CC/MCC       10001   \n",
       "1  039 - EXTRACRANIAL PROCEDURES W/O CC/MCC       10005   \n",
       "2  039 - EXTRACRANIAL PROCEDURES W/O CC/MCC       10006   \n",
       "3  039 - EXTRACRANIAL PROCEDURES W/O CC/MCC       10011   \n",
       "4  039 - EXTRACRANIAL PROCEDURES W/O CC/MCC       10016   \n",
       "\n",
       "                      Provider Name     Provider Street Address  \\\n",
       "0  SOUTHEAST ALABAMA MEDICAL CENTER      1108 ROSS CLARK CIRCLE   \n",
       "1     MARSHALL MEDICAL CENTER SOUTH  2505 U S HIGHWAY 431 NORTH   \n",
       "2    ELIZA COFFEE MEMORIAL HOSPITAL          205 MARENGO STREET   \n",
       "3                 ST VINCENT'S EAST  50 MEDICAL PARK EAST DRIVE   \n",
       "4     SHELBY BAPTIST MEDICAL CENTER     1000 FIRST STREET NORTH   \n",
       "\n",
       "  Provider Zip Code Hospital Referral Region Description  Total Discharges  \\\n",
       "0             36301                          AL - Dothan                91   \n",
       "1             35957                      AL - Birmingham                14   \n",
       "2             35631                      AL - Birmingham                24   \n",
       "3             35235                      AL - Birmingham                25   \n",
       "4             35007                      AL - Birmingham                18   \n",
       "\n",
       "   Average Covered Charges  Average Total Payments  Average Medicare Payments  \\\n",
       "0                 32963.07                 5777.24                    4763.73   \n",
       "1                 15131.85                 5787.57                    4976.71   \n",
       "2                 37560.37                 5434.95                    4453.79   \n",
       "3                 13998.28                 5417.56                    4129.16   \n",
       "4                 31633.27                 5658.33                    4851.44   \n",
       "\n",
       "  state_fips    state state_abbr     county          city  \n",
       "0          1  Alabama         AL    Houston        Taylor  \n",
       "1          1  Alabama         AL   Marshall          Boaz  \n",
       "2        NaN  Alabama         AL        NaN           NaN  \n",
       "3          1  Alabama         AL  Jefferson  Center point  \n",
       "4          1  Alabama         AL     Shelby      Keystone  "
      ]
     },
     "execution_count": 23,
     "metadata": {},
     "output_type": "execute_result"
    }
   ],
   "source": [
    "res.head()"
   ]
  },
  {
   "cell_type": "markdown",
   "metadata": {},
   "source": [
    "# 5"
   ]
  },
  {
   "cell_type": "markdown",
   "metadata": {},
   "source": [
    "5.1 Create an overview of the change of average covered charges in lung disease across U.S. states. See which state is the cheapest one and which state is the most expensive one."
   ]
  },
  {
   "cell_type": "code",
   "execution_count": 24,
   "metadata": {
    "collapsed": true
   },
   "outputs": [],
   "source": [
    "lung = (res['DRG Definition'].str.contains('pulmonary')) | (res['DRG Definition'].str.contains('PNEUMONIA'))"
   ]
  },
  {
   "cell_type": "code",
   "execution_count": 25,
   "metadata": {
    "collapsed": false
   },
   "outputs": [
    {
     "data": {
      "text/plain": [
       "state\n",
       "Maryland                10173.184333\n",
       "North dakota            13212.156429\n",
       "Vermont                 14107.591176\n",
       "Massachusetts           14251.808758\n",
       "West virginia           14289.211325\n",
       "Montana                 14911.031250\n",
       "South dakota            16132.674091\n",
       "Utah                    16452.093125\n",
       "Michigan                16656.030222\n",
       "Iowa                    16862.637553\n",
       "Idaho                   16881.325357\n",
       "Maine                   17197.962885\n",
       "Minnesota               18091.190336\n",
       "Delaware                18355.095385\n",
       "Kentucky                18673.144368\n",
       "Wisconsin               18878.238200\n",
       "North carolina          18913.566173\n",
       "Oregon                  19449.727105\n",
       "Wyoming                 19659.101667\n",
       "New hampshire           19764.897222\n",
       "Ohio                    19865.752978\n",
       "Oklahoma                19932.068562\n",
       "Indiana                 20449.240498\n",
       "Virginia                20543.886598\n",
       "Arkansas                20646.917755\n",
       "Connecticut             20797.140274\n",
       "Rhode island            21016.768519\n",
       "Tennessee               21390.960921\n",
       "New mexico              21660.842778\n",
       "Kansas                  22005.766762\n",
       "Washington              22737.561852\n",
       "Georgia                 22893.975439\n",
       "Mississippi             23402.421719\n",
       "New york                23505.069489\n",
       "Missouri                23649.885895\n",
       "Hawaii                  23943.466774\n",
       "Louisiana               24236.290932\n",
       "Alabama                 25281.872532\n",
       "Nebraska                26237.102500\n",
       "Colorado                26390.869457\n",
       "Illinois                27208.575618\n",
       "South carolina          27267.853106\n",
       "Alaska                  27401.328824\n",
       "Arizona                 28315.796260\n",
       "Pennsylvania            28846.566715\n",
       "District of columbia    29575.866471\n",
       "Texas                   30296.730354\n",
       "Florida                 37197.629485\n",
       "Nevada                  47787.090182\n",
       "California              50855.034435\n",
       "New jersey              56227.435266\n",
       "Name: Average Covered Charges, dtype: float64"
      ]
     },
     "execution_count": 25,
     "metadata": {},
     "output_type": "execute_result"
    }
   ],
   "source": [
    "res[lung].groupby('state')['Average Covered Charges'].mean().sort_values()"
   ]
  },
  {
   "cell_type": "markdown",
   "metadata": {},
   "source": [
    "5.2 Try the Average Total Payments, and check if there is a real big gap. Try to give some your personal assumption. "
   ]
  },
  {
   "cell_type": "code",
   "execution_count": 26,
   "metadata": {
    "collapsed": false,
    "scrolled": false
   },
   "outputs": [
    {
     "data": {
      "text/plain": [
       "state\n",
       "Tennessee                6140.986485\n",
       "Arkansas                 6186.155102\n",
       "West virginia            6226.694096\n",
       "Oklahoma                 6291.274726\n",
       "Mississippi              6295.104062\n",
       "Iowa                     6312.106277\n",
       "Kentucky                 6376.432931\n",
       "Kansas                   6399.006381\n",
       "Louisiana                6410.499876\n",
       "Utah                     6435.063750\n",
       "Indiana                  6481.000100\n",
       "Virginia                 6601.405103\n",
       "South dakota             6612.706818\n",
       "Ohio                     6612.990408\n",
       "Georgia                  6701.751213\n",
       "Florida                  6728.782529\n",
       "Missouri                 6744.441368\n",
       "South carolina           6768.437273\n",
       "North dakota             6801.880000\n",
       "Idaho                    6814.755357\n",
       "Texas                    6826.163569\n",
       "New hampshire            6848.493333\n",
       "Pennsylvania             6891.826916\n",
       "Nebraska                 6907.890625\n",
       "North carolina           6916.312347\n",
       "Wisconsin                6938.268867\n",
       "Montana                  6994.390417\n",
       "Colorado                 7026.151196\n",
       "Alabama                  7235.932148\n",
       "Minnesota                7325.122353\n",
       "Michigan                 7357.697822\n",
       "Illinois                 7393.404529\n",
       "Washington               7396.430000\n",
       "Delaware                 7401.216923\n",
       "Maine                    7407.397500\n",
       "Oregon                   7449.598158\n",
       "Rhode island             7640.518889\n",
       "Massachusetts            7693.684902\n",
       "New mexico               7742.639861\n",
       "Arizona                  7796.516504\n",
       "Nevada                   7897.862364\n",
       "New jersey               8149.693373\n",
       "Connecticut              8229.662192\n",
       "Wyoming                  8494.828333\n",
       "Vermont                  8676.034706\n",
       "New york                 8897.793917\n",
       "District of columbia     9177.989412\n",
       "California               9333.254550\n",
       "Hawaii                   9510.647742\n",
       "Maryland                 9582.829250\n",
       "Alaska                  11730.357647\n",
       "Name: Average Total Payments, dtype: float64"
      ]
     },
     "execution_count": 26,
     "metadata": {},
     "output_type": "execute_result"
    }
   ],
   "source": [
    "res[lung].groupby('state')['Average Total Payments'].mean().sort_values()"
   ]
  },
  {
   "cell_type": "markdown",
   "metadata": {},
   "source": [
    "# 6"
   ]
  },
  {
   "cell_type": "markdown",
   "metadata": {},
   "source": [
    "6.1 For California, which disease is the most expensive one?"
   ]
  },
  {
   "cell_type": "code",
   "execution_count": 27,
   "metadata": {
    "collapsed": false
   },
   "outputs": [
    {
     "data": {
      "text/plain": [
       "DRG Definition\n",
       "870 - SEPTICEMIA OR SEVERE SEPSIS W MV 96+ HOURS                              277004.642419\n",
       "207 - RESPIRATORY SYSTEM DIAGNOSIS W VENTILATOR SUPPORT 96+ HOURS             263542.549727\n",
       "329 - MAJOR SMALL & LARGE BOWEL PROCEDURES W MCC                              261315.859310\n",
       "853 - INFECTIOUS & PARASITIC DISEASES W O.R. PROCEDURE W MCC                  254341.504658\n",
       "246 - PERC CARDIOVASC PROC W DRUG-ELUTING STENT W MCC OR 4+ VESSELS/STENTS    161320.333571\n",
       "460 - SPINAL FUSION EXCEPT CERVICAL W/O MCC                                   158963.172813\n",
       "469 - MAJOR JOINT REPLACEMENT OR REATTACHMENT OF LOWER EXTREMITY W MCC        155249.255000\n",
       "238 - MAJOR CARDIOVASC PROCEDURES W/O MCC                                     145556.754714\n",
       "252 - OTHER VASCULAR PROCEDURES W MCC                                         137772.309346\n",
       "480 - HIP & FEMUR PROCEDURES EXCEPT MAJOR JOINT W MCC                         137747.758841\n",
       "253 - OTHER VASCULAR PROCEDURES W CC                                          125562.101978\n",
       "330 - MAJOR SMALL & LARGE BOWEL PROCEDURES W CC                               122453.651719\n",
       "208 - RESPIRATORY SYSTEM DIAGNOSIS W VENTILATOR SUPPORT <96 HOURS             120406.234790\n",
       "286 - CIRCULATORY DISORDERS EXCEPT AMI, W CARD CATH W MCC                     116796.438788\n",
       "243 - PERMANENT CARDIAC PACEMAKER IMPLANT W CC                                107832.185865\n",
       "247 - PERC CARDIOVASC PROC W DRUG-ELUTING STENT W/O MCC                       105702.411382\n",
       "251 - PERC CARDIOVASC PROC W/O CORONARY ARTERY STENT W/O MCC                  100786.786102\n",
       "177 - RESPIRATORY INFECTIONS & INFLAMMATIONS W MCC                             99513.377267\n",
       "249 - PERC CARDIOVASC PROC W NON-DRUG-ELUTING STENT W/O MCC                    98612.198983\n",
       "473 - CERVICAL SPINAL FUSION W/O CC/MCC                                        94163.180690\n",
       "064 - INTRACRANIAL HEMORRHAGE OR CEREBRAL INFARCTION W MCC                     89387.609091\n",
       "481 - HIP & FEMUR PROCEDURES EXCEPT MAJOR JOINT W CC                           88542.618160\n",
       "314 - OTHER CIRCULATORY SYSTEM DIAGNOSES W MCC                                 86789.796959\n",
       "470 - MAJOR JOINT REPLACEMENT OR REATTACHMENT OF LOWER EXTREMITY W/O MCC       86472.768383\n",
       "418 - LAPAROSCOPIC CHOLECYSTECTOMY W/O C.D.E. W CC                             83709.436119\n",
       "254 - OTHER VASCULAR PROCEDURES W/O CC/MCC                                     82959.453115\n",
       "871 - SEPTICEMIA OR SEVERE SEPSIS W/O MV 96+ HOURS W MCC                       82866.606886\n",
       "280 - ACUTE MYOCARDIAL INFARCTION, DISCHARGED ALIVE W MCC                      82123.218529\n",
       "244 - PERMANENT CARDIAC PACEMAKER IMPLANT W/O CC/MCC                           80649.209663\n",
       "377 - G.I. HEMORRHAGE W MCC                                                    79388.179051\n",
       "                                                                                  ...      \n",
       "552 - MEDICAL BACK PROBLEMS W/O MCC                                            40292.670130\n",
       "638 - DIABETES W CC                                                            38542.763062\n",
       "309 - CARDIAC ARRHYTHMIA & CONDUCTION DISORDERS W CC                           38366.366985\n",
       "563 - FX, SPRN, STRN & DISL EXCEPT FEMUR, HIP, PELVIS & THIGH W/O MCC          38169.699130\n",
       "101 - SEIZURES W/O MCC                                                         37126.868358\n",
       "069 - TRANSIENT ISCHEMIA                                                       37044.357651\n",
       "312 - SYNCOPE & COLLAPSE                                                       36558.973333\n",
       "192 - CHRONIC OBSTRUCTIVE PULMONARY DISEASE W/O CC/MCC                         35480.495730\n",
       "603 - CELLULITIS W/O MCC                                                       35252.091949\n",
       "195 - SIMPLE PNEUMONIA & PLEURISY W/O CC/MCC                                   35038.801404\n",
       "897 - ALCOHOL/DRUG ABUSE OR DEPENDENCE W/O REHABILITATION THERAPY W/O MCC      35004.996452\n",
       "948 - SIGNS & SYMPTOMS W/O MCC                                                 34982.355789\n",
       "885 - PSYCHOSES                                                                34837.466222\n",
       "203 - BRONCHITIS & ASTHMA W/O CC/MCC                                           34825.865854\n",
       "392 - ESOPHAGITIS, GASTROENT & MISC DIGEST DISORDERS W/O MCC                   34698.693145\n",
       "684 - RENAL FAILURE W/O CC/MCC                                                 34437.695897\n",
       "812 - RED BLOOD CELL DISORDERS W/O MCC                                         34433.537688\n",
       "690 - KIDNEY & URINARY TRACT INFECTIONS W/O MCC                                33692.844646\n",
       "293 - HEART FAILURE & SHOCK W/O CC/MCC                                         32996.148197\n",
       "918 - POISONING & TOXIC EFFECTS OF DRUGS W/O MCC                               32828.101828\n",
       "536 - FRACTURES OF HIP & PELVIS W/O MCC                                        32771.708701\n",
       "379 - G.I. HEMORRHAGE W/O CC/MCC                                               31801.186095\n",
       "149 - DYSEQUILIBRIUM                                                           31230.554138\n",
       "641 - MISC DISORDERS OF NUTRITION,METABOLISM,FLUIDS/ELECTROLYTES W/O MCC       30977.485234\n",
       "390 - G.I. OBSTRUCTION W/O CC/MCC                                              30644.122162\n",
       "301 - PERIPHERAL VASCULAR DISORDERS W/O CC/MCC                                 30300.731250\n",
       "305 - HYPERTENSION W/O MCC                                                     30073.748367\n",
       "303 - ATHEROSCLEROSIS W/O MCC                                                  29526.989326\n",
       "313 - CHEST PAIN                                                               29005.859502\n",
       "310 - CARDIAC ARRHYTHMIA & CONDUCTION DISORDERS W/O CC/MCC                     28549.486343\n",
       "Name: Average Covered Charges, Length: 100, dtype: float64"
      ]
     },
     "execution_count": 27,
     "metadata": {},
     "output_type": "execute_result"
    }
   ],
   "source": [
    "res[res.state_abbr == 'CA'].groupby('DRG Definition')['Average Covered Charges'].mean().sort_values(ascending=False)"
   ]
  },
  {
   "cell_type": "markdown",
   "metadata": {},
   "source": [
    "6.2 For each state, find the disease that is the most expensive one"
   ]
  },
  {
   "cell_type": "code",
   "execution_count": 28,
   "metadata": {
    "collapsed": false
   },
   "outputs": [],
   "source": [
    "expensive = res.groupby(['state', 'DRG Definition'])[['Average Covered Charges']].mean()"
   ]
  },
  {
   "cell_type": "code",
   "execution_count": 29,
   "metadata": {
    "collapsed": false
   },
   "outputs": [
    {
     "data": {
      "text/html": [
       "<div>\n",
       "<style>\n",
       "    .dataframe thead tr:only-child th {\n",
       "        text-align: right;\n",
       "    }\n",
       "\n",
       "    .dataframe thead th {\n",
       "        text-align: left;\n",
       "    }\n",
       "\n",
       "    .dataframe tbody tr th {\n",
       "        vertical-align: top;\n",
       "    }\n",
       "</style>\n",
       "<table border=\"1\" class=\"dataframe\">\n",
       "  <thead>\n",
       "    <tr style=\"text-align: right;\">\n",
       "      <th></th>\n",
       "      <th></th>\n",
       "      <th>Average Covered Charges</th>\n",
       "    </tr>\n",
       "    <tr>\n",
       "      <th>state</th>\n",
       "      <th>DRG Definition</th>\n",
       "      <th></th>\n",
       "    </tr>\n",
       "  </thead>\n",
       "  <tbody>\n",
       "    <tr>\n",
       "      <th>California</th>\n",
       "      <th>870 - SEPTICEMIA OR SEVERE SEPSIS W MV 96+ HOURS</th>\n",
       "      <td>273367.335690</td>\n",
       "    </tr>\n",
       "    <tr>\n",
       "      <th>Nevada</th>\n",
       "      <th>853 - INFECTIOUS &amp; PARASITIC DISEASES W O.R. PROCEDURE W MCC</th>\n",
       "      <td>257844.555000</td>\n",
       "    </tr>\n",
       "    <tr>\n",
       "      <th>New jersey</th>\n",
       "      <th>870 - SEPTICEMIA OR SEVERE SEPSIS W MV 96+ HOURS</th>\n",
       "      <td>253775.098235</td>\n",
       "    </tr>\n",
       "    <tr>\n",
       "      <th>Colorado</th>\n",
       "      <th>207 - RESPIRATORY SYSTEM DIAGNOSIS W VENTILATOR SUPPORT 96+ HOURS</th>\n",
       "      <td>198567.336667</td>\n",
       "    </tr>\n",
       "    <tr>\n",
       "      <th>Pennsylvania</th>\n",
       "      <th>870 - SEPTICEMIA OR SEVERE SEPSIS W MV 96+ HOURS</th>\n",
       "      <td>195479.045806</td>\n",
       "    </tr>\n",
       "    <tr>\n",
       "      <th>Florida</th>\n",
       "      <th>870 - SEPTICEMIA OR SEVERE SEPSIS W MV 96+ HOURS</th>\n",
       "      <td>184492.288305</td>\n",
       "    </tr>\n",
       "    <tr>\n",
       "      <th>Texas</th>\n",
       "      <th>870 - SEPTICEMIA OR SEVERE SEPSIS W MV 96+ HOURS</th>\n",
       "      <td>180654.953231</td>\n",
       "    </tr>\n",
       "    <tr>\n",
       "      <th>Kansas</th>\n",
       "      <th>870 - SEPTICEMIA OR SEVERE SEPSIS W MV 96+ HOURS</th>\n",
       "      <td>176302.070000</td>\n",
       "    </tr>\n",
       "    <tr>\n",
       "      <th>Oklahoma</th>\n",
       "      <th>870 - SEPTICEMIA OR SEVERE SEPSIS W MV 96+ HOURS</th>\n",
       "      <td>174034.075000</td>\n",
       "    </tr>\n",
       "    <tr>\n",
       "      <th>Arizona</th>\n",
       "      <th>870 - SEPTICEMIA OR SEVERE SEPSIS W MV 96+ HOURS</th>\n",
       "      <td>165875.718000</td>\n",
       "    </tr>\n",
       "    <tr>\n",
       "      <th>Washington</th>\n",
       "      <th>870 - SEPTICEMIA OR SEVERE SEPSIS W MV 96+ HOURS</th>\n",
       "      <td>163616.813333</td>\n",
       "    </tr>\n",
       "    <tr>\n",
       "      <th>Nebraska</th>\n",
       "      <th>853 - INFECTIOUS &amp; PARASITIC DISEASES W O.R. PROCEDURE W MCC</th>\n",
       "      <td>162952.732000</td>\n",
       "    </tr>\n",
       "    <tr>\n",
       "      <th>Alabama</th>\n",
       "      <th>870 - SEPTICEMIA OR SEVERE SEPSIS W MV 96+ HOURS</th>\n",
       "      <td>161464.583478</td>\n",
       "    </tr>\n",
       "    <tr>\n",
       "      <th>Minnesota</th>\n",
       "      <th>870 - SEPTICEMIA OR SEVERE SEPSIS W MV 96+ HOURS</th>\n",
       "      <td>158667.800000</td>\n",
       "    </tr>\n",
       "    <tr>\n",
       "      <th>District of columbia</th>\n",
       "      <th>207 - RESPIRATORY SYSTEM DIAGNOSIS W VENTILATOR SUPPORT 96+ HOURS</th>\n",
       "      <td>157356.406000</td>\n",
       "    </tr>\n",
       "    <tr>\n",
       "      <th>South carolina</th>\n",
       "      <th>870 - SEPTICEMIA OR SEVERE SEPSIS W MV 96+ HOURS</th>\n",
       "      <td>157255.484000</td>\n",
       "    </tr>\n",
       "    <tr>\n",
       "      <th>Missouri</th>\n",
       "      <th>870 - SEPTICEMIA OR SEVERE SEPSIS W MV 96+ HOURS</th>\n",
       "      <td>150654.380455</td>\n",
       "    </tr>\n",
       "    <tr>\n",
       "      <th>Oregon</th>\n",
       "      <th>870 - SEPTICEMIA OR SEVERE SEPSIS W MV 96+ HOURS</th>\n",
       "      <td>147989.650000</td>\n",
       "    </tr>\n",
       "    <tr>\n",
       "      <th>Rhode island</th>\n",
       "      <th>870 - SEPTICEMIA OR SEVERE SEPSIS W MV 96+ HOURS</th>\n",
       "      <td>145697.466667</td>\n",
       "    </tr>\n",
       "    <tr>\n",
       "      <th>Louisiana</th>\n",
       "      <th>853 - INFECTIOUS &amp; PARASITIC DISEASES W O.R. PROCEDURE W MCC</th>\n",
       "      <td>142725.418750</td>\n",
       "    </tr>\n",
       "    <tr>\n",
       "      <th>Georgia</th>\n",
       "      <th>870 - SEPTICEMIA OR SEVERE SEPSIS W MV 96+ HOURS</th>\n",
       "      <td>141311.585714</td>\n",
       "    </tr>\n",
       "    <tr>\n",
       "      <th>Mississippi</th>\n",
       "      <th>329 - MAJOR SMALL &amp; LARGE BOWEL PROCEDURES W MCC</th>\n",
       "      <td>141122.635625</td>\n",
       "    </tr>\n",
       "    <tr>\n",
       "      <th>Hawaii</th>\n",
       "      <th>329 - MAJOR SMALL &amp; LARGE BOWEL PROCEDURES W MCC</th>\n",
       "      <td>138147.285000</td>\n",
       "    </tr>\n",
       "    <tr>\n",
       "      <th>Tennessee</th>\n",
       "      <th>870 - SEPTICEMIA OR SEVERE SEPSIS W MV 96+ HOURS</th>\n",
       "      <td>135758.927143</td>\n",
       "    </tr>\n",
       "    <tr>\n",
       "      <th>Illinois</th>\n",
       "      <th>870 - SEPTICEMIA OR SEVERE SEPSIS W MV 96+ HOURS</th>\n",
       "      <td>134790.096522</td>\n",
       "    </tr>\n",
       "    <tr>\n",
       "      <th>South dakota</th>\n",
       "      <th>853 - INFECTIOUS &amp; PARASITIC DISEASES W O.R. PROCEDURE W MCC</th>\n",
       "      <td>134757.260000</td>\n",
       "    </tr>\n",
       "    <tr>\n",
       "      <th>New hampshire</th>\n",
       "      <th>207 - RESPIRATORY SYSTEM DIAGNOSIS W VENTILATOR SUPPORT 96+ HOURS</th>\n",
       "      <td>133638.860000</td>\n",
       "    </tr>\n",
       "    <tr>\n",
       "      <th>New mexico</th>\n",
       "      <th>207 - RESPIRATORY SYSTEM DIAGNOSIS W VENTILATOR SUPPORT 96+ HOURS</th>\n",
       "      <td>133136.320000</td>\n",
       "    </tr>\n",
       "    <tr>\n",
       "      <th>Wyoming</th>\n",
       "      <th>853 - INFECTIOUS &amp; PARASITIC DISEASES W O.R. PROCEDURE W MCC</th>\n",
       "      <td>131640.840000</td>\n",
       "    </tr>\n",
       "    <tr>\n",
       "      <th>Connecticut</th>\n",
       "      <th>870 - SEPTICEMIA OR SEVERE SEPSIS W MV 96+ HOURS</th>\n",
       "      <td>126641.562500</td>\n",
       "    </tr>\n",
       "    <tr>\n",
       "      <th>Virginia</th>\n",
       "      <th>870 - SEPTICEMIA OR SEVERE SEPSIS W MV 96+ HOURS</th>\n",
       "      <td>126046.624815</td>\n",
       "    </tr>\n",
       "    <tr>\n",
       "      <th>Wisconsin</th>\n",
       "      <th>207 - RESPIRATORY SYSTEM DIAGNOSIS W VENTILATOR SUPPORT 96+ HOURS</th>\n",
       "      <td>123743.696250</td>\n",
       "    </tr>\n",
       "    <tr>\n",
       "      <th>Indiana</th>\n",
       "      <th>870 - SEPTICEMIA OR SEVERE SEPSIS W MV 96+ HOURS</th>\n",
       "      <td>121764.483571</td>\n",
       "    </tr>\n",
       "    <tr>\n",
       "      <th>New york</th>\n",
       "      <th>870 - SEPTICEMIA OR SEVERE SEPSIS W MV 96+ HOURS</th>\n",
       "      <td>121298.623378</td>\n",
       "    </tr>\n",
       "    <tr>\n",
       "      <th>Iowa</th>\n",
       "      <th>207 - RESPIRATORY SYSTEM DIAGNOSIS W VENTILATOR SUPPORT 96+ HOURS</th>\n",
       "      <td>120564.112500</td>\n",
       "    </tr>\n",
       "    <tr>\n",
       "      <th>Alaska</th>\n",
       "      <th>460 - SPINAL FUSION EXCEPT CERVICAL W/O MCC</th>\n",
       "      <td>118025.565000</td>\n",
       "    </tr>\n",
       "    <tr>\n",
       "      <th>Idaho</th>\n",
       "      <th>870 - SEPTICEMIA OR SEVERE SEPSIS W MV 96+ HOURS</th>\n",
       "      <td>117492.085000</td>\n",
       "    </tr>\n",
       "    <tr>\n",
       "      <th>Delaware</th>\n",
       "      <th>870 - SEPTICEMIA OR SEVERE SEPSIS W MV 96+ HOURS</th>\n",
       "      <td>114578.290000</td>\n",
       "    </tr>\n",
       "    <tr>\n",
       "      <th>Ohio</th>\n",
       "      <th>870 - SEPTICEMIA OR SEVERE SEPSIS W MV 96+ HOURS</th>\n",
       "      <td>112585.731429</td>\n",
       "    </tr>\n",
       "    <tr>\n",
       "      <th>Arkansas</th>\n",
       "      <th>329 - MAJOR SMALL &amp; LARGE BOWEL PROCEDURES W MCC</th>\n",
       "      <td>111737.784286</td>\n",
       "    </tr>\n",
       "    <tr>\n",
       "      <th>Kentucky</th>\n",
       "      <th>870 - SEPTICEMIA OR SEVERE SEPSIS W MV 96+ HOURS</th>\n",
       "      <td>110534.236000</td>\n",
       "    </tr>\n",
       "    <tr>\n",
       "      <th>Maine</th>\n",
       "      <th>870 - SEPTICEMIA OR SEVERE SEPSIS W MV 96+ HOURS</th>\n",
       "      <td>108023.815000</td>\n",
       "    </tr>\n",
       "    <tr>\n",
       "      <th>North dakota</th>\n",
       "      <th>207 - RESPIRATORY SYSTEM DIAGNOSIS W VENTILATOR SUPPORT 96+ HOURS</th>\n",
       "      <td>103026.630000</td>\n",
       "    </tr>\n",
       "    <tr>\n",
       "      <th>Massachusetts</th>\n",
       "      <th>870 - SEPTICEMIA OR SEVERE SEPSIS W MV 96+ HOURS</th>\n",
       "      <td>96608.713500</td>\n",
       "    </tr>\n",
       "    <tr>\n",
       "      <th>Michigan</th>\n",
       "      <th>870 - SEPTICEMIA OR SEVERE SEPSIS W MV 96+ HOURS</th>\n",
       "      <td>96352.611212</td>\n",
       "    </tr>\n",
       "    <tr>\n",
       "      <th>North carolina</th>\n",
       "      <th>870 - SEPTICEMIA OR SEVERE SEPSIS W MV 96+ HOURS</th>\n",
       "      <td>96194.614000</td>\n",
       "    </tr>\n",
       "    <tr>\n",
       "      <th>Utah</th>\n",
       "      <th>329 - MAJOR SMALL &amp; LARGE BOWEL PROCEDURES W MCC</th>\n",
       "      <td>91109.854000</td>\n",
       "    </tr>\n",
       "    <tr>\n",
       "      <th>Montana</th>\n",
       "      <th>853 - INFECTIOUS &amp; PARASITIC DISEASES W O.R. PROCEDURE W MCC</th>\n",
       "      <td>84018.825000</td>\n",
       "    </tr>\n",
       "    <tr>\n",
       "      <th>Vermont</th>\n",
       "      <th>207 - RESPIRATORY SYSTEM DIAGNOSIS W VENTILATOR SUPPORT 96+ HOURS</th>\n",
       "      <td>82623.185000</td>\n",
       "    </tr>\n",
       "    <tr>\n",
       "      <th>West virginia</th>\n",
       "      <th>870 - SEPTICEMIA OR SEVERE SEPSIS W MV 96+ HOURS</th>\n",
       "      <td>81268.800000</td>\n",
       "    </tr>\n",
       "    <tr>\n",
       "      <th>Maryland</th>\n",
       "      <th>870 - SEPTICEMIA OR SEVERE SEPSIS W MV 96+ HOURS</th>\n",
       "      <td>51667.938636</td>\n",
       "    </tr>\n",
       "  </tbody>\n",
       "</table>\n",
       "</div>"
      ],
      "text/plain": [
       "                                                                         Average Covered Charges\n",
       "state                DRG Definition                                                             \n",
       "California           870 - SEPTICEMIA OR SEVERE SEPSIS W MV 96+ HOURS              273367.335690\n",
       "Nevada               853 - INFECTIOUS & PARASITIC DISEASES W O.R. PR...            257844.555000\n",
       "New jersey           870 - SEPTICEMIA OR SEVERE SEPSIS W MV 96+ HOURS              253775.098235\n",
       "Colorado             207 - RESPIRATORY SYSTEM DIAGNOSIS W VENTILATOR...            198567.336667\n",
       "Pennsylvania         870 - SEPTICEMIA OR SEVERE SEPSIS W MV 96+ HOURS              195479.045806\n",
       "Florida              870 - SEPTICEMIA OR SEVERE SEPSIS W MV 96+ HOURS              184492.288305\n",
       "Texas                870 - SEPTICEMIA OR SEVERE SEPSIS W MV 96+ HOURS              180654.953231\n",
       "Kansas               870 - SEPTICEMIA OR SEVERE SEPSIS W MV 96+ HOURS              176302.070000\n",
       "Oklahoma             870 - SEPTICEMIA OR SEVERE SEPSIS W MV 96+ HOURS              174034.075000\n",
       "Arizona              870 - SEPTICEMIA OR SEVERE SEPSIS W MV 96+ HOURS              165875.718000\n",
       "Washington           870 - SEPTICEMIA OR SEVERE SEPSIS W MV 96+ HOURS              163616.813333\n",
       "Nebraska             853 - INFECTIOUS & PARASITIC DISEASES W O.R. PR...            162952.732000\n",
       "Alabama              870 - SEPTICEMIA OR SEVERE SEPSIS W MV 96+ HOURS              161464.583478\n",
       "Minnesota            870 - SEPTICEMIA OR SEVERE SEPSIS W MV 96+ HOURS              158667.800000\n",
       "District of columbia 207 - RESPIRATORY SYSTEM DIAGNOSIS W VENTILATOR...            157356.406000\n",
       "South carolina       870 - SEPTICEMIA OR SEVERE SEPSIS W MV 96+ HOURS              157255.484000\n",
       "Missouri             870 - SEPTICEMIA OR SEVERE SEPSIS W MV 96+ HOURS              150654.380455\n",
       "Oregon               870 - SEPTICEMIA OR SEVERE SEPSIS W MV 96+ HOURS              147989.650000\n",
       "Rhode island         870 - SEPTICEMIA OR SEVERE SEPSIS W MV 96+ HOURS              145697.466667\n",
       "Louisiana            853 - INFECTIOUS & PARASITIC DISEASES W O.R. PR...            142725.418750\n",
       "Georgia              870 - SEPTICEMIA OR SEVERE SEPSIS W MV 96+ HOURS              141311.585714\n",
       "Mississippi          329 - MAJOR SMALL & LARGE BOWEL PROCEDURES W MCC              141122.635625\n",
       "Hawaii               329 - MAJOR SMALL & LARGE BOWEL PROCEDURES W MCC              138147.285000\n",
       "Tennessee            870 - SEPTICEMIA OR SEVERE SEPSIS W MV 96+ HOURS              135758.927143\n",
       "Illinois             870 - SEPTICEMIA OR SEVERE SEPSIS W MV 96+ HOURS              134790.096522\n",
       "South dakota         853 - INFECTIOUS & PARASITIC DISEASES W O.R. PR...            134757.260000\n",
       "New hampshire        207 - RESPIRATORY SYSTEM DIAGNOSIS W VENTILATOR...            133638.860000\n",
       "New mexico           207 - RESPIRATORY SYSTEM DIAGNOSIS W VENTILATOR...            133136.320000\n",
       "Wyoming              853 - INFECTIOUS & PARASITIC DISEASES W O.R. PR...            131640.840000\n",
       "Connecticut          870 - SEPTICEMIA OR SEVERE SEPSIS W MV 96+ HOURS              126641.562500\n",
       "Virginia             870 - SEPTICEMIA OR SEVERE SEPSIS W MV 96+ HOURS              126046.624815\n",
       "Wisconsin            207 - RESPIRATORY SYSTEM DIAGNOSIS W VENTILATOR...            123743.696250\n",
       "Indiana              870 - SEPTICEMIA OR SEVERE SEPSIS W MV 96+ HOURS              121764.483571\n",
       "New york             870 - SEPTICEMIA OR SEVERE SEPSIS W MV 96+ HOURS              121298.623378\n",
       "Iowa                 207 - RESPIRATORY SYSTEM DIAGNOSIS W VENTILATOR...            120564.112500\n",
       "Alaska               460 - SPINAL FUSION EXCEPT CERVICAL W/O MCC                   118025.565000\n",
       "Idaho                870 - SEPTICEMIA OR SEVERE SEPSIS W MV 96+ HOURS              117492.085000\n",
       "Delaware             870 - SEPTICEMIA OR SEVERE SEPSIS W MV 96+ HOURS              114578.290000\n",
       "Ohio                 870 - SEPTICEMIA OR SEVERE SEPSIS W MV 96+ HOURS              112585.731429\n",
       "Arkansas             329 - MAJOR SMALL & LARGE BOWEL PROCEDURES W MCC              111737.784286\n",
       "Kentucky             870 - SEPTICEMIA OR SEVERE SEPSIS W MV 96+ HOURS              110534.236000\n",
       "Maine                870 - SEPTICEMIA OR SEVERE SEPSIS W MV 96+ HOURS              108023.815000\n",
       "North dakota         207 - RESPIRATORY SYSTEM DIAGNOSIS W VENTILATOR...            103026.630000\n",
       "Massachusetts        870 - SEPTICEMIA OR SEVERE SEPSIS W MV 96+ HOURS               96608.713500\n",
       "Michigan             870 - SEPTICEMIA OR SEVERE SEPSIS W MV 96+ HOURS               96352.611212\n",
       "North carolina       870 - SEPTICEMIA OR SEVERE SEPSIS W MV 96+ HOURS               96194.614000\n",
       "Utah                 329 - MAJOR SMALL & LARGE BOWEL PROCEDURES W MCC               91109.854000\n",
       "Montana              853 - INFECTIOUS & PARASITIC DISEASES W O.R. PR...             84018.825000\n",
       "Vermont              207 - RESPIRATORY SYSTEM DIAGNOSIS W VENTILATOR...             82623.185000\n",
       "West virginia        870 - SEPTICEMIA OR SEVERE SEPSIS W MV 96+ HOURS               81268.800000\n",
       "Maryland             870 - SEPTICEMIA OR SEVERE SEPSIS W MV 96+ HOURS               51667.938636"
      ]
     },
     "execution_count": 29,
     "metadata": {},
     "output_type": "execute_result"
    }
   ],
   "source": [
    "expensive.apply(lambda x : x.sort_values(ascending=False)).groupby(level=0).head(1)"
   ]
  },
  {
   "cell_type": "markdown",
   "metadata": {},
   "source": [
    "6.3 Based on the result we get just now, try to give some analysis."
   ]
  },
  {
   "cell_type": "code",
   "execution_count": null,
   "metadata": {
    "collapsed": true
   },
   "outputs": [],
   "source": []
  },
  {
   "cell_type": "markdown",
   "metadata": {},
   "source": [
    "# 7. "
   ]
  },
  {
   "cell_type": "markdown",
   "metadata": {},
   "source": [
    "If there is a patient who is got \"misc disorders of nutrition,metabolism,fluids/electrolytes\", and that guy doesn't have much money to cure. So we need to help that guy find a good hostipal across the whole United States to decrease the spending. Please the whole row(s)."
   ]
  },
  {
   "cell_type": "code",
   "execution_count": 30,
   "metadata": {
    "collapsed": true
   },
   "outputs": [],
   "source": [
    "temp1 = \"misc disorders of nutrition,metabolism,fluids/electrolytes\".upper()"
   ]
  },
  {
   "cell_type": "code",
   "execution_count": 31,
   "metadata": {
    "collapsed": false
   },
   "outputs": [],
   "source": [
    "temp2 = res[res['DRG Definition'].str.contains(temp1)]"
   ]
  },
  {
   "cell_type": "code",
   "execution_count": 32,
   "metadata": {
    "collapsed": false
   },
   "outputs": [
    {
     "data": {
      "text/html": [
       "<div>\n",
       "<style>\n",
       "    .dataframe thead tr:only-child th {\n",
       "        text-align: right;\n",
       "    }\n",
       "\n",
       "    .dataframe thead th {\n",
       "        text-align: left;\n",
       "    }\n",
       "\n",
       "    .dataframe tbody tr th {\n",
       "        vertical-align: top;\n",
       "    }\n",
       "</style>\n",
       "<table border=\"1\" class=\"dataframe\">\n",
       "  <thead>\n",
       "    <tr style=\"text-align: right;\">\n",
       "      <th></th>\n",
       "      <th>DRG Definition</th>\n",
       "      <th>Provider Id</th>\n",
       "      <th>Provider Name</th>\n",
       "      <th>Provider Street Address</th>\n",
       "      <th>Provider Zip Code</th>\n",
       "      <th>Hospital Referral Region Description</th>\n",
       "      <th>Total Discharges</th>\n",
       "      <th>Average Covered Charges</th>\n",
       "      <th>Average Total Payments</th>\n",
       "      <th>Average Medicare Payments</th>\n",
       "      <th>state_fips</th>\n",
       "      <th>state</th>\n",
       "      <th>state_abbr</th>\n",
       "      <th>county</th>\n",
       "      <th>city</th>\n",
       "    </tr>\n",
       "  </thead>\n",
       "  <tbody>\n",
       "    <tr>\n",
       "      <th>133883</th>\n",
       "      <td>641 - MISC DISORDERS OF NUTRITION,METABOLISM,F...</td>\n",
       "      <td>450813</td>\n",
       "      <td>COMMUNITY GENERAL HOSPITAL</td>\n",
       "      <td>230 WEST MILLER</td>\n",
       "      <td>78017</td>\n",
       "      <td>TX - San Antonio</td>\n",
       "      <td>18</td>\n",
       "      <td>2995.61</td>\n",
       "      <td>3623.44</td>\n",
       "      <td>2872.33</td>\n",
       "      <td>48</td>\n",
       "      <td>Texas</td>\n",
       "      <td>TX</td>\n",
       "      <td>Frio</td>\n",
       "      <td>Dilley</td>\n",
       "    </tr>\n",
       "  </tbody>\n",
       "</table>\n",
       "</div>"
      ],
      "text/plain": [
       "                                           DRG Definition Provider Id  \\\n",
       "133883  641 - MISC DISORDERS OF NUTRITION,METABOLISM,F...      450813   \n",
       "\n",
       "                     Provider Name Provider Street Address Provider Zip Code  \\\n",
       "133883  COMMUNITY GENERAL HOSPITAL         230 WEST MILLER             78017   \n",
       "\n",
       "       Hospital Referral Region Description  Total Discharges  \\\n",
       "133883                     TX - San Antonio                18   \n",
       "\n",
       "        Average Covered Charges  Average Total Payments  \\\n",
       "133883                  2995.61                 3623.44   \n",
       "\n",
       "        Average Medicare Payments state_fips  state state_abbr county    city  \n",
       "133883                    2872.33         48  Texas         TX   Frio  Dilley  "
      ]
     },
     "execution_count": 32,
     "metadata": {},
     "output_type": "execute_result"
    }
   ],
   "source": [
    "temp2[temp2['Average Covered Charges'] == temp2['Average Covered Charges'].min()]"
   ]
  },
  {
   "cell_type": "code",
   "execution_count": 33,
   "metadata": {
    "collapsed": false
   },
   "outputs": [
    {
     "data": {
      "text/html": [
       "<div>\n",
       "<style>\n",
       "    .dataframe thead tr:only-child th {\n",
       "        text-align: right;\n",
       "    }\n",
       "\n",
       "    .dataframe thead th {\n",
       "        text-align: left;\n",
       "    }\n",
       "\n",
       "    .dataframe tbody tr th {\n",
       "        vertical-align: top;\n",
       "    }\n",
       "</style>\n",
       "<table border=\"1\" class=\"dataframe\">\n",
       "  <thead>\n",
       "    <tr style=\"text-align: right;\">\n",
       "      <th></th>\n",
       "      <th>DRG Definition</th>\n",
       "      <th>Provider Id</th>\n",
       "      <th>Provider Name</th>\n",
       "      <th>Provider Street Address</th>\n",
       "      <th>Provider Zip Code</th>\n",
       "      <th>Hospital Referral Region Description</th>\n",
       "      <th>Total Discharges</th>\n",
       "      <th>Average Covered Charges</th>\n",
       "      <th>Average Total Payments</th>\n",
       "      <th>Average Medicare Payments</th>\n",
       "      <th>state_fips</th>\n",
       "      <th>state</th>\n",
       "      <th>state_abbr</th>\n",
       "      <th>county</th>\n",
       "      <th>city</th>\n",
       "    </tr>\n",
       "  </thead>\n",
       "  <tbody>\n",
       "    <tr>\n",
       "      <th>134051</th>\n",
       "      <td>641 - MISC DISORDERS OF NUTRITION,METABOLISM,F...</td>\n",
       "      <td>510023</td>\n",
       "      <td>WEIRTON MEDICAL CENTER</td>\n",
       "      <td>601 COLLIERS WAY</td>\n",
       "      <td>26062</td>\n",
       "      <td>PA - Pittsburgh</td>\n",
       "      <td>27</td>\n",
       "      <td>6899.44</td>\n",
       "      <td>3286.11</td>\n",
       "      <td>2409.22</td>\n",
       "      <td>54</td>\n",
       "      <td>West virginia</td>\n",
       "      <td>WV</td>\n",
       "      <td>Hancock</td>\n",
       "      <td>Weirton</td>\n",
       "    </tr>\n",
       "  </tbody>\n",
       "</table>\n",
       "</div>"
      ],
      "text/plain": [
       "                                           DRG Definition Provider Id  \\\n",
       "134051  641 - MISC DISORDERS OF NUTRITION,METABOLISM,F...      510023   \n",
       "\n",
       "                 Provider Name Provider Street Address Provider Zip Code  \\\n",
       "134051  WEIRTON MEDICAL CENTER        601 COLLIERS WAY             26062   \n",
       "\n",
       "       Hospital Referral Region Description  Total Discharges  \\\n",
       "134051                      PA - Pittsburgh                27   \n",
       "\n",
       "        Average Covered Charges  Average Total Payments  \\\n",
       "134051                  6899.44                 3286.11   \n",
       "\n",
       "        Average Medicare Payments state_fips          state state_abbr  \\\n",
       "134051                    2409.22         54  West virginia         WV   \n",
       "\n",
       "         county     city  \n",
       "134051  Hancock  Weirton  "
      ]
     },
     "execution_count": 33,
     "metadata": {},
     "output_type": "execute_result"
    }
   ],
   "source": [
    "temp2[temp2['Average Total Payments'] == temp2['Average Total Payments'].min()]"
   ]
  },
  {
   "cell_type": "code",
   "execution_count": 34,
   "metadata": {
    "collapsed": false
   },
   "outputs": [
    {
     "data": {
      "text/plain": [
       "u'/Users/yuhaowang/Downloads/2802Midterm/take home'"
      ]
     },
     "execution_count": 34,
     "metadata": {},
     "output_type": "execute_result"
    }
   ],
   "source": [
    "pwd"
   ]
  },
  {
   "cell_type": "code",
   "execution_count": null,
   "metadata": {
    "collapsed": true
   },
   "outputs": [],
   "source": []
  }
 ],
 "metadata": {
  "kernelspec": {
   "display_name": "Python 2",
   "language": "python",
   "name": "python2"
  },
  "language_info": {
   "codemirror_mode": {
    "name": "ipython",
    "version": 2
   },
   "file_extension": ".py",
   "mimetype": "text/x-python",
   "name": "python",
   "nbconvert_exporter": "python",
   "pygments_lexer": "ipython2",
   "version": "2.7.11"
  }
 },
 "nbformat": 4,
 "nbformat_minor": 0
}
