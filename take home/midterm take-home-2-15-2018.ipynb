{
 "cells": [
  {
   "cell_type": "markdown",
   "metadata": {
    "deletable": true,
    "editable": true
   },
   "source": [
    "# DATA SCIENCE ANALYSIS WITH PYTHON\n",
    "# Midterm take-home"
   ]
  },
  {
   "cell_type": "markdown",
   "metadata": {},
   "source": [
    "### Due 2/19/2018 11:59 pm"
   ]
  },
  {
   "cell_type": "markdown",
   "metadata": {
    "deletable": true,
    "editable": true
   },
   "source": [
    "<p>Instructions\n",
    "<ol>\n",
    "<li>Download the files <i>medical_payment.csv</i> and <i>geo-data.csv</i> into the same folder\n",
    "<li>Read the file <i>Medical_Payment-pdf.pdf</i>\n",
    "<li>Run the code below and then answer the questions\n",
    "</ol></p>"
   ]
  },
  {
   "cell_type": "markdown",
   "metadata": {
    "deletable": true,
    "editable": true
   },
   "source": [
    "<b>Penalties:</b> You will incur penalties if:\n",
    "<ul>\n",
    "<li>Your answer is different from the correct one</li>\n",
    "<li>Your code is unnecessarily slow</li>\n",
    "<li>Your code is longer than specified</li>\n",
    "<li>You will be penalized if, in an attempt to limit the lines of code, you make your code too hard to read or too slow -- for example, by copy-pasting pieces of code in the same line instead of declaring a variable in one line and using the variable in another.\n",
    "</ul>"
   ]
  },
  {
   "cell_type": "code",
   "execution_count": 5,
   "metadata": {
    "collapsed": false,
    "deletable": true,
    "editable": true
   },
   "outputs": [],
   "source": [
    "import pandas as pd\n",
    "from IPython.core.interactiveshell import InteractiveShell\n",
    "InteractiveShell.ast_node_interactivity = \"all\"\n",
    "import warnings\n",
    "warnings.filterwarnings('ignore')"
   ]
  },
  {
   "cell_type": "code",
   "execution_count": 6,
   "metadata": {
    "collapsed": true,
    "deletable": true,
    "editable": true
   },
   "outputs": [],
   "source": [
    "df = pd.read_csv(\"medical_payment.csv\",dtype=str).\\\n",
    "        rename(columns=lambda x: x.strip())"
   ]
  },
  {
   "cell_type": "markdown",
   "metadata": {
    "deletable": true,
    "editable": true
   },
   "source": [
    "## Data Description"
   ]
  },
  {
   "cell_type": "markdown",
   "metadata": {
    "deletable": true,
    "editable": true
   },
   "source": [
    "With this data set, people can see the price difference for a hundred common illnesses and procedures. Hospitals can set their own prices and differ substantially in some cases.\n",
    " \n",
    "Before you move on, read the <b>Medical_Payment-pdf.pdf</b> to understand the dataset."
   ]
  },
  {
   "cell_type": "code",
   "execution_count": 7,
   "metadata": {
    "collapsed": false,
    "deletable": true,
    "editable": true,
    "scrolled": true
   },
   "outputs": [
    {
     "data": {
      "text/plain": [
       "(163065, 10)"
      ]
     },
     "execution_count": 7,
     "metadata": {},
     "output_type": "execute_result"
    }
   ],
   "source": [
    "df.shape"
   ]
  },
  {
   "cell_type": "markdown",
   "metadata": {
    "deletable": true,
    "editable": true
   },
   "source": [
    "The columns are as follows:"
   ]
  },
  {
   "cell_type": "code",
   "execution_count": 8,
   "metadata": {
    "collapsed": false,
    "deletable": true,
    "editable": true
   },
   "outputs": [
    {
     "data": {
      "text/plain": [
       "Index([u'DRG Definition', u'Provider Id', u'Provider Name',\n",
       "       u'Provider Street Address', u'Provider Zip Code',\n",
       "       u'Hospital Referral Region Description', u'Total Discharges',\n",
       "       u'Average Covered Charges', u'Average Total Payments',\n",
       "       u'Average Medicare Payments'],\n",
       "      dtype='object')"
      ]
     },
     "execution_count": 8,
     "metadata": {},
     "output_type": "execute_result"
    }
   ],
   "source": [
    "df.columns"
   ]
  },
  {
   "cell_type": "markdown",
   "metadata": {
    "deletable": true,
    "editable": true
   },
   "source": [
    "A sample of the dataset:"
   ]
  },
  {
   "cell_type": "code",
   "execution_count": 9,
   "metadata": {
    "collapsed": false,
    "deletable": true,
    "editable": true,
    "scrolled": false
   },
   "outputs": [
    {
     "data": {
      "text/html": [
       "<div>\n",
       "<style>\n",
       "    .dataframe thead tr:only-child th {\n",
       "        text-align: right;\n",
       "    }\n",
       "\n",
       "    .dataframe thead th {\n",
       "        text-align: left;\n",
       "    }\n",
       "\n",
       "    .dataframe tbody tr th {\n",
       "        vertical-align: top;\n",
       "    }\n",
       "</style>\n",
       "<table border=\"1\" class=\"dataframe\">\n",
       "  <thead>\n",
       "    <tr style=\"text-align: right;\">\n",
       "      <th></th>\n",
       "      <th>DRG Definition</th>\n",
       "      <th>Provider Id</th>\n",
       "      <th>Provider Name</th>\n",
       "      <th>Provider Street Address</th>\n",
       "      <th>Provider Zip Code</th>\n",
       "      <th>Hospital Referral Region Description</th>\n",
       "      <th>Total Discharges</th>\n",
       "      <th>Average Covered Charges</th>\n",
       "      <th>Average Total Payments</th>\n",
       "      <th>Average Medicare Payments</th>\n",
       "    </tr>\n",
       "  </thead>\n",
       "  <tbody>\n",
       "    <tr>\n",
       "      <th>30075</th>\n",
       "      <td>193 - SIMPLE PNEUMONIA &amp; PLEURISY W MCC</td>\n",
       "      <td>210033</td>\n",
       "      <td>CARROLL HOSPITAL CENTER</td>\n",
       "      <td>200 MEMORIAL AVE</td>\n",
       "      <td>21157</td>\n",
       "      <td>MD - Baltimore</td>\n",
       "      <td>23</td>\n",
       "      <td>$16,013.95</td>\n",
       "      <td>$15,102.30</td>\n",
       "      <td>$13,555.52</td>\n",
       "    </tr>\n",
       "    <tr>\n",
       "      <th>53790</th>\n",
       "      <td>280 - ACUTE MYOCARDIAL INFARCTION, DISCHARGED ...</td>\n",
       "      <td>150026</td>\n",
       "      <td>IU HEALTH GOSHEN HOSPITAL</td>\n",
       "      <td>200 HIGH PARK AVE</td>\n",
       "      <td>46526</td>\n",
       "      <td>IN - South Bend</td>\n",
       "      <td>11</td>\n",
       "      <td>$34,427.00</td>\n",
       "      <td>$9,429.09</td>\n",
       "      <td>$8,711.63</td>\n",
       "    </tr>\n",
       "    <tr>\n",
       "      <th>35917</th>\n",
       "      <td>195 - SIMPLE PNEUMONIA &amp; PLEURISY W/O CC/MCC</td>\n",
       "      <td>260180</td>\n",
       "      <td>CHRISTIAN HOSPITAL NORTHEAST</td>\n",
       "      <td>11133 DUNN ROAD</td>\n",
       "      <td>63136</td>\n",
       "      <td>MO - St. Louis</td>\n",
       "      <td>26</td>\n",
       "      <td>$16,288.38</td>\n",
       "      <td>$4,093.92</td>\n",
       "      <td>$3,312.69</td>\n",
       "    </tr>\n",
       "    <tr>\n",
       "      <th>1627</th>\n",
       "      <td>057 - DEGENERATIVE NERVOUS SYSTEM DISORDERS W/...</td>\n",
       "      <td>230024</td>\n",
       "      <td>SINAI-GRACE HOSPITAL</td>\n",
       "      <td>6071 W OUTER DRIVE</td>\n",
       "      <td>48235</td>\n",
       "      <td>MI - Detroit</td>\n",
       "      <td>22</td>\n",
       "      <td>$14,041.63</td>\n",
       "      <td>$8,260.90</td>\n",
       "      <td>$7,392.00</td>\n",
       "    </tr>\n",
       "    <tr>\n",
       "      <th>143707</th>\n",
       "      <td>690 - KIDNEY &amp; URINARY TRACT INFECTIONS W/O MCC</td>\n",
       "      <td>360112</td>\n",
       "      <td>MERCY ST VINCENT MEDICAL CENTER</td>\n",
       "      <td>2213 CHERRY STREET</td>\n",
       "      <td>43608</td>\n",
       "      <td>OH - Toledo</td>\n",
       "      <td>80</td>\n",
       "      <td>$20,527.33</td>\n",
       "      <td>$6,425.51</td>\n",
       "      <td>$5,713.80</td>\n",
       "    </tr>\n",
       "  </tbody>\n",
       "</table>\n",
       "</div>"
      ],
      "text/plain": [
       "                                           DRG Definition Provider Id  \\\n",
       "30075             193 - SIMPLE PNEUMONIA & PLEURISY W MCC      210033   \n",
       "53790   280 - ACUTE MYOCARDIAL INFARCTION, DISCHARGED ...      150026   \n",
       "35917        195 - SIMPLE PNEUMONIA & PLEURISY W/O CC/MCC      260180   \n",
       "1627    057 - DEGENERATIVE NERVOUS SYSTEM DISORDERS W/...      230024   \n",
       "143707    690 - KIDNEY & URINARY TRACT INFECTIONS W/O MCC      360112   \n",
       "\n",
       "                          Provider Name Provider Street Address  \\\n",
       "30075           CARROLL HOSPITAL CENTER        200 MEMORIAL AVE   \n",
       "53790         IU HEALTH GOSHEN HOSPITAL       200 HIGH PARK AVE   \n",
       "35917      CHRISTIAN HOSPITAL NORTHEAST         11133 DUNN ROAD   \n",
       "1627               SINAI-GRACE HOSPITAL      6071 W OUTER DRIVE   \n",
       "143707  MERCY ST VINCENT MEDICAL CENTER      2213 CHERRY STREET   \n",
       "\n",
       "       Provider Zip Code Hospital Referral Region Description  \\\n",
       "30075              21157                       MD - Baltimore   \n",
       "53790              46526                      IN - South Bend   \n",
       "35917              63136                       MO - St. Louis   \n",
       "1627               48235                         MI - Detroit   \n",
       "143707             43608                          OH - Toledo   \n",
       "\n",
       "       Total Discharges Average Covered Charges Average Total Payments  \\\n",
       "30075                23             $16,013.95             $15,102.30    \n",
       "53790                11             $34,427.00              $9,429.09    \n",
       "35917                26             $16,288.38              $4,093.92    \n",
       "1627                 22             $14,041.63              $8,260.90    \n",
       "143707               80             $20,527.33              $6,425.51    \n",
       "\n",
       "       Average Medicare Payments  \n",
       "30075                $13,555.52   \n",
       "53790                 $8,711.63   \n",
       "35917                 $3,312.69   \n",
       "1627                  $7,392.00   \n",
       "143707                $5,713.80   "
      ]
     },
     "execution_count": 9,
     "metadata": {},
     "output_type": "execute_result"
    }
   ],
   "source": [
    "df.sample(5, random_state=1234).head()"
   ]
  },
  {
   "cell_type": "markdown",
   "metadata": {
    "deletable": true,
    "editable": true
   },
   "source": [
    "## Q1. Transform relevant columns"
   ]
  },
  {
   "cell_type": "markdown",
   "metadata": {
    "deletable": true,
    "editable": true
   },
   "source": [
    "All columns in the dataset are of type str. At least 4 of them should be numeric."
   ]
  },
  {
   "cell_type": "markdown",
   "metadata": {
    "editable": true
   },
   "source": [
    "1.1 Identify them and convert the values of these columns to numeric."
   ]
  },
  {
   "cell_type": "code",
   "execution_count": null,
   "metadata": {
    "collapsed": true
   },
   "outputs": [],
   "source": []
  },
  {
   "cell_type": "markdown",
   "metadata": {
    "editable": true
   },
   "source": [
    "1.2 Explain why these values should be numeric."
   ]
  },
  {
   "cell_type": "code",
   "execution_count": null,
   "metadata": {
    "collapsed": true
   },
   "outputs": [],
   "source": []
  },
  {
   "cell_type": "markdown",
   "metadata": {
    "deletable": true,
    "editable": true
   },
   "source": [
    "## Q2. Let's take a look at heart disease"
   ]
  },
  {
   "cell_type": "markdown",
   "metadata": {
    "deletable": true,
    "editable": true
   },
   "source": [
    "**Be careful when you identify 'heart' disease.** There are more than one type of DRG definition related to heart diseases. Make sure you catch all of them.  (hint 1:  use .unique() to start your investigation. hint 2: there are two keywords can be used to find all 'heart' diseases."
   ]
  },
  {
   "cell_type": "markdown",
   "metadata": {
    "collapsed": true
   },
   "source": [
    "2.1, Total how many heart related disease cases across the whole country ?"
   ]
  },
  {
   "cell_type": "code",
   "execution_count": null,
   "metadata": {
    "collapsed": true
   },
   "outputs": [],
   "source": []
  },
  {
   "cell_type": "markdown",
   "metadata": {
    "collapsed": true
   },
   "source": [
    "2.2, Create an overview from the view point of 'Hospital Referral Region Description' and 'Average Total Payments', sorted by payments in descending order. List the top 10 only."
   ]
  },
  {
   "cell_type": "code",
   "execution_count": null,
   "metadata": {
    "collapsed": true
   },
   "outputs": [],
   "source": []
  },
  {
   "cell_type": "markdown",
   "metadata": {
    "collapsed": true
   },
   "source": [
    "2.3, Find out which hospital treat heart disease in \"CA - Alameda County\" region, sorted by the total case number they handle by descending order."
   ]
  },
  {
   "cell_type": "code",
   "execution_count": null,
   "metadata": {
    "collapsed": true
   },
   "outputs": [],
   "source": []
  },
  {
   "cell_type": "markdown",
   "metadata": {
    "deletable": true,
    "editable": true
   },
   "source": [
    "## Q3\n",
    "Merge the data set with mapping of US Zipcode, county, and state information from Census data.\n",
    "Read the file `geo-data.csv` into an object `zip_codes`(make sure that you read all columns as string). After merged, there may have some columns (state and state_abbr) have nan values, fill them in with the information you can find in the first dataframe."
   ]
  },
  {
   "cell_type": "markdown",
   "metadata": {
    "editable": true
   },
   "source": [
    "3.1 Based on the merged dataframe, find out the total DRG number for each city in California's Santa Clara county."
   ]
  },
  {
   "cell_type": "code",
   "execution_count": null,
   "metadata": {
    "collapsed": true
   },
   "outputs": [],
   "source": []
  },
  {
   "cell_type": "markdown",
   "metadata": {
    "editable": true
   },
   "source": [
    "## Q4\n",
    "4.1 Identify five hospitals and show the hospital name, city and state information that offer lowest spending on lung disease treatment \n",
    "\n",
    "hint 1: there are two keywords can be used to find all 'lung' diseases. \n",
    "\n",
    "hint 2: do not include any RESPIRATORY SYSTEM diseases."
   ]
  },
  {
   "cell_type": "code",
   "execution_count": null,
   "metadata": {
    "collapsed": true
   },
   "outputs": [],
   "source": []
  },
  {
   "cell_type": "markdown",
   "metadata": {
    "deletable": true,
    "editable": true
   },
   "source": [
    "## Q5"
   ]
  },
  {
   "cell_type": "markdown",
   "metadata": {
    "editable": true
   },
   "source": [
    "For a patient who has \"misc disorders of nutrition,metabolism,fluids/electrolytes\", which hospital across the whole United States will be able to offer the lowest cost from average total payments point of view.\n",
    "\n",
    "5.1 Please find that hospital."
   ]
  },
  {
   "cell_type": "code",
   "execution_count": null,
   "metadata": {
    "collapsed": true
   },
   "outputs": [],
   "source": []
  },
  {
   "cell_type": "markdown",
   "metadata": {},
   "source": [
    "5.2 From 'Average Covered Charges' point of view, What's the ratio between the city with the highest average and the lowest average ?\n",
    "What are those two cities ?"
   ]
  },
  {
   "cell_type": "code",
   "execution_count": null,
   "metadata": {
    "collapsed": true
   },
   "outputs": [],
   "source": []
  },
  {
   "cell_type": "markdown",
   "metadata": {
    "editable": true
   },
   "source": [
    "## Q6 "
   ]
  },
  {
   "cell_type": "markdown",
   "metadata": {
    "deletable": true,
    "editable": true
   },
   "source": [
    "6.1 For California, which disease is the most costly one?"
   ]
  },
  {
   "cell_type": "code",
   "execution_count": null,
   "metadata": {
    "collapsed": true
   },
   "outputs": [],
   "source": []
  },
  {
   "cell_type": "markdown",
   "metadata": {
    "deletable": true,
    "editable": true
   },
   "source": [
    "6.2 For each state, find the disease that is the most costly one"
   ]
  },
  {
   "cell_type": "code",
   "execution_count": null,
   "metadata": {
    "collapsed": true
   },
   "outputs": [],
   "source": []
  },
  {
   "cell_type": "markdown",
   "metadata": {
    "deletable": true,
    "editable": true
   },
   "source": [
    "6.3 Based on the above results, provide your analysis."
   ]
  },
  {
   "cell_type": "code",
   "execution_count": null,
   "metadata": {
    "collapsed": true,
    "deletable": true,
    "editable": true
   },
   "outputs": [],
   "source": []
  },
  {
   "cell_type": "markdown",
   "metadata": {},
   "source": [
    "## Q7\n",
    "Based on the merged data set, describe the most interesting or unexpected finding you may have. (note: you need to list the related code to back up/prove your statement."
   ]
  },
  {
   "cell_type": "code",
   "execution_count": null,
   "metadata": {
    "collapsed": true
   },
   "outputs": [],
   "source": []
  }
 ],
 "metadata": {
  "kernelspec": {
   "display_name": "Python 2",
   "language": "python",
   "name": "python2"
  },
  "language_info": {
   "codemirror_mode": {
    "name": "ipython",
    "version": 2
   },
   "file_extension": ".py",
   "mimetype": "text/x-python",
   "name": "python",
   "nbconvert_exporter": "python",
   "pygments_lexer": "ipython2",
   "version": "2.7.11"
  }
 },
 "nbformat": 4,
 "nbformat_minor": 0
}
