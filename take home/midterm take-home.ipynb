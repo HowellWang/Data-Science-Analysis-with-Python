{
 "cells": [
  {
   "cell_type": "markdown",
   "metadata": {
    "deletable": true,
    "editable": true
   },
   "source": [
    "# Midterm take-home"
   ]
  },
  {
   "cell_type": "markdown",
   "metadata": {
    "deletable": true,
    "editable": true
   },
   "source": [
    "<p>Instructions\n",
    "<ol>\n",
    "<li>Download the files <i>medical_payment.csv</i> and <i>geo-data.csv</i> into the same folder\n",
    "<li>Read the file <i>Documentation.docx</i>\n",
    "<li>Run the code below and then answer the questions\n",
    "</ol></p>"
   ]
  },
  {
   "cell_type": "markdown",
   "metadata": {
    "deletable": true,
    "editable": true
   },
   "source": [
    "<b>Penalties:</b> You will incur penalties if:\n",
    "<ul>\n",
    "<li>Your answer is different from the correct one</li>\n",
    "<li>Your code is unncessarily slow</li>\n",
    "<li>Your code is longer than specified</li>\n",
    "<li>You will be penalized if, in an attempt to limit the lines of code, you make your code too hard to read or too slow -- for example, by copy-pasting pieces of code in the same line instead of declaring a variable in one line and using the variable in another.\n",
    "</ul>"
   ]
  },
  {
   "cell_type": "code",
   "execution_count": 1,
   "metadata": {
    "collapsed": false,
    "deletable": true,
    "editable": true
   },
   "outputs": [],
   "source": [
    "import pandas as pd\n",
    "from IPython.core.interactiveshell import InteractiveShell\n",
    "InteractiveShell.ast_node_interactivity = \"all\"\n",
    "import warnings\n",
    "warnings.filterwarnings('ignore')"
   ]
  },
  {
   "cell_type": "code",
   "execution_count": 2,
   "metadata": {
    "collapsed": true,
    "deletable": true,
    "editable": true
   },
   "outputs": [],
   "source": [
    "df = pd.read_csv(\"medical_payment.csv\",dtype=str).rename(columns=lambda x: x.strip())"
   ]
  },
  {
   "cell_type": "markdown",
   "metadata": {
    "deletable": true,
    "editable": true
   },
   "source": [
    "## Data Description"
   ]
  },
  {
   "cell_type": "markdown",
   "metadata": {
    "deletable": true,
    "editable": true
   },
   "source": [
    "With this data set, people can see the price difference for a hundred common illnesses and procedures. Hospitals can set their own prices and differ substantially in some cases. These prices will surprise you. Just look at your state and compare."
   ]
  },
  {
   "cell_type": "code",
   "execution_count": 3,
   "metadata": {
    "collapsed": false,
    "deletable": true,
    "editable": true,
    "scrolled": true
   },
   "outputs": [
    {
     "data": {
      "text/plain": [
       "(163065, 10)"
      ]
     },
     "execution_count": 3,
     "metadata": {},
     "output_type": "execute_result"
    }
   ],
   "source": [
    "df.shape"
   ]
  },
  {
   "cell_type": "markdown",
   "metadata": {
    "deletable": true,
    "editable": true
   },
   "source": [
    "The columns are as follows:"
   ]
  },
  {
   "cell_type": "code",
   "execution_count": 4,
   "metadata": {
    "collapsed": false,
    "deletable": true,
    "editable": true
   },
   "outputs": [
    {
     "data": {
      "text/plain": [
       "Index([u'DRG Definition', u'Provider Id', u'Provider Name',\n",
       "       u'Provider Street Address', u'Provider Zip Code',\n",
       "       u'Hospital Referral Region Description', u'Total Discharges',\n",
       "       u'Average Covered Charges', u'Average Total Payments',\n",
       "       u'Average Medicare Payments'],\n",
       "      dtype='object')"
      ]
     },
     "execution_count": 4,
     "metadata": {},
     "output_type": "execute_result"
    }
   ],
   "source": [
    "df.columns"
   ]
  },
  {
   "cell_type": "markdown",
   "metadata": {
    "deletable": true,
    "editable": true
   },
   "source": [
    "A sample of the dataset:"
   ]
  },
  {
   "cell_type": "code",
   "execution_count": 5,
   "metadata": {
    "collapsed": false,
    "deletable": true,
    "editable": true,
    "scrolled": false
   },
   "outputs": [
    {
     "data": {
      "text/html": [
       "<div>\n",
       "<style>\n",
       "    .dataframe thead tr:only-child th {\n",
       "        text-align: right;\n",
       "    }\n",
       "\n",
       "    .dataframe thead th {\n",
       "        text-align: left;\n",
       "    }\n",
       "\n",
       "    .dataframe tbody tr th {\n",
       "        vertical-align: top;\n",
       "    }\n",
       "</style>\n",
       "<table border=\"1\" class=\"dataframe\">\n",
       "  <thead>\n",
       "    <tr style=\"text-align: right;\">\n",
       "      <th></th>\n",
       "      <th>DRG Definition</th>\n",
       "      <th>Provider Id</th>\n",
       "      <th>Provider Name</th>\n",
       "      <th>Provider Street Address</th>\n",
       "      <th>Provider Zip Code</th>\n",
       "      <th>Hospital Referral Region Description</th>\n",
       "      <th>Total Discharges</th>\n",
       "      <th>Average Covered Charges</th>\n",
       "      <th>Average Total Payments</th>\n",
       "      <th>Average Medicare Payments</th>\n",
       "    </tr>\n",
       "  </thead>\n",
       "  <tbody>\n",
       "    <tr>\n",
       "      <th>30075</th>\n",
       "      <td>193 - SIMPLE PNEUMONIA &amp; PLEURISY W MCC</td>\n",
       "      <td>210033</td>\n",
       "      <td>CARROLL HOSPITAL CENTER</td>\n",
       "      <td>200 MEMORIAL AVE</td>\n",
       "      <td>21157</td>\n",
       "      <td>MD - Baltimore</td>\n",
       "      <td>23</td>\n",
       "      <td>$16,013.95</td>\n",
       "      <td>$15,102.30</td>\n",
       "      <td>$13,555.52</td>\n",
       "    </tr>\n",
       "    <tr>\n",
       "      <th>53790</th>\n",
       "      <td>280 - ACUTE MYOCARDIAL INFARCTION, DISCHARGED ...</td>\n",
       "      <td>150026</td>\n",
       "      <td>IU HEALTH GOSHEN HOSPITAL</td>\n",
       "      <td>200 HIGH PARK AVE</td>\n",
       "      <td>46526</td>\n",
       "      <td>IN - South Bend</td>\n",
       "      <td>11</td>\n",
       "      <td>$34,427.00</td>\n",
       "      <td>$9,429.09</td>\n",
       "      <td>$8,711.63</td>\n",
       "    </tr>\n",
       "    <tr>\n",
       "      <th>35917</th>\n",
       "      <td>195 - SIMPLE PNEUMONIA &amp; PLEURISY W/O CC/MCC</td>\n",
       "      <td>260180</td>\n",
       "      <td>CHRISTIAN HOSPITAL NORTHEAST</td>\n",
       "      <td>11133 DUNN ROAD</td>\n",
       "      <td>63136</td>\n",
       "      <td>MO - St. Louis</td>\n",
       "      <td>26</td>\n",
       "      <td>$16,288.38</td>\n",
       "      <td>$4,093.92</td>\n",
       "      <td>$3,312.69</td>\n",
       "    </tr>\n",
       "    <tr>\n",
       "      <th>1627</th>\n",
       "      <td>057 - DEGENERATIVE NERVOUS SYSTEM DISORDERS W/...</td>\n",
       "      <td>230024</td>\n",
       "      <td>SINAI-GRACE HOSPITAL</td>\n",
       "      <td>6071 W OUTER DRIVE</td>\n",
       "      <td>48235</td>\n",
       "      <td>MI - Detroit</td>\n",
       "      <td>22</td>\n",
       "      <td>$14,041.63</td>\n",
       "      <td>$8,260.90</td>\n",
       "      <td>$7,392.00</td>\n",
       "    </tr>\n",
       "    <tr>\n",
       "      <th>143707</th>\n",
       "      <td>690 - KIDNEY &amp; URINARY TRACT INFECTIONS W/O MCC</td>\n",
       "      <td>360112</td>\n",
       "      <td>MERCY ST VINCENT MEDICAL CENTER</td>\n",
       "      <td>2213 CHERRY STREET</td>\n",
       "      <td>43608</td>\n",
       "      <td>OH - Toledo</td>\n",
       "      <td>80</td>\n",
       "      <td>$20,527.33</td>\n",
       "      <td>$6,425.51</td>\n",
       "      <td>$5,713.80</td>\n",
       "    </tr>\n",
       "  </tbody>\n",
       "</table>\n",
       "</div>"
      ],
      "text/plain": [
       "                                           DRG Definition Provider Id  \\\n",
       "30075             193 - SIMPLE PNEUMONIA & PLEURISY W MCC      210033   \n",
       "53790   280 - ACUTE MYOCARDIAL INFARCTION, DISCHARGED ...      150026   \n",
       "35917        195 - SIMPLE PNEUMONIA & PLEURISY W/O CC/MCC      260180   \n",
       "1627    057 - DEGENERATIVE NERVOUS SYSTEM DISORDERS W/...      230024   \n",
       "143707    690 - KIDNEY & URINARY TRACT INFECTIONS W/O MCC      360112   \n",
       "\n",
       "                          Provider Name Provider Street Address  \\\n",
       "30075           CARROLL HOSPITAL CENTER        200 MEMORIAL AVE   \n",
       "53790         IU HEALTH GOSHEN HOSPITAL       200 HIGH PARK AVE   \n",
       "35917      CHRISTIAN HOSPITAL NORTHEAST         11133 DUNN ROAD   \n",
       "1627               SINAI-GRACE HOSPITAL      6071 W OUTER DRIVE   \n",
       "143707  MERCY ST VINCENT MEDICAL CENTER      2213 CHERRY STREET   \n",
       "\n",
       "       Provider Zip Code Hospital Referral Region Description  \\\n",
       "30075              21157                       MD - Baltimore   \n",
       "53790              46526                      IN - South Bend   \n",
       "35917              63136                       MO - St. Louis   \n",
       "1627               48235                         MI - Detroit   \n",
       "143707             43608                          OH - Toledo   \n",
       "\n",
       "       Total Discharges Average Covered Charges Average Total Payments  \\\n",
       "30075                23             $16,013.95             $15,102.30    \n",
       "53790                11             $34,427.00              $9,429.09    \n",
       "35917                26             $16,288.38              $4,093.92    \n",
       "1627                 22             $14,041.63              $8,260.90    \n",
       "143707               80             $20,527.33              $6,425.51    \n",
       "\n",
       "       Average Medicare Payments  \n",
       "30075                $13,555.52   \n",
       "53790                 $8,711.63   \n",
       "35917                 $3,312.69   \n",
       "1627                  $7,392.00   \n",
       "143707                $5,713.80   "
      ]
     },
     "execution_count": 5,
     "metadata": {},
     "output_type": "execute_result"
    }
   ],
   "source": [
    "df.sample(5, random_state=1234).head()"
   ]
  },
  {
   "cell_type": "markdown",
   "metadata": {
    "deletable": true,
    "editable": true
   },
   "source": [
    "# 1. Transform relevant columns"
   ]
  },
  {
   "cell_type": "markdown",
   "metadata": {
    "deletable": true,
    "editable": true
   },
   "source": [
    "All columns in the dataset are of type `str` (to preserve the ZIP code information). For **four** columns, str is the wrong type. Change the columns and explain why you changed which column."
   ]
  },
  {
   "cell_type": "code",
   "execution_count": null,
   "metadata": {
    "collapsed": true
   },
   "outputs": [],
   "source": []
  },
  {
   "cell_type": "markdown",
   "metadata": {
    "deletable": true,
    "editable": true
   },
   "source": [
    "# 2. Create an overview of heart disease"
   ]
  },
  {
   "cell_type": "markdown",
   "metadata": {
    "deletable": true,
    "editable": true
   },
   "source": [
    "0. **Be careful when you identify 'heart' disease. Make sure that you catch all of heart disease.**\n",
    "1. Create the overview (Make sure that the overview is understandable to everyone.)\n",
    "2. Choose an appropriate measure to aggregate the data."
   ]
  },
  {
   "cell_type": "code",
   "execution_count": null,
   "metadata": {
    "collapsed": true
   },
   "outputs": [],
   "source": []
  },
  {
   "cell_type": "markdown",
   "metadata": {
    "deletable": true,
    "editable": true
   },
   "source": [
    "# 3. Identify the five cheapest hospitals offer lung disease cure for personal"
   ]
  },
  {
   "cell_type": "code",
   "execution_count": null,
   "metadata": {
    "collapsed": true
   },
   "outputs": [],
   "source": []
  },
  {
   "cell_type": "markdown",
   "metadata": {
    "deletable": true,
    "editable": true
   },
   "source": [
    "# 4. Augment the datset with information about the state"
   ]
  },
  {
   "cell_type": "markdown",
   "metadata": {
    "collapsed": true,
    "deletable": true,
    "editable": true
   },
   "source": [
    "Read the file `geo-data.csv` into an object `zip_codes`. **Make sure that you read all columns as string.** ([Link](https://github.com/scpike/us-state-county-zip))<br>\n",
    "**Attention: After merging, there are some columns (state and state_abbr) have nan value, please fill in those by new dataframe**"
   ]
  },
  {
   "cell_type": "code",
   "execution_count": null,
   "metadata": {
    "collapsed": true
   },
   "outputs": [],
   "source": []
  },
  {
   "cell_type": "markdown",
   "metadata": {
    "deletable": true,
    "editable": true
   },
   "source": [
    "# 5"
   ]
  },
  {
   "cell_type": "markdown",
   "metadata": {
    "deletable": true,
    "editable": true
   },
   "source": [
    "5.1 Create an overview of the change of average covered charges in lung disease across U.S. states. See which state is the cheapest one and which state is the most expensive one."
   ]
  },
  {
   "cell_type": "code",
   "execution_count": null,
   "metadata": {
    "collapsed": true
   },
   "outputs": [],
   "source": []
  },
  {
   "cell_type": "markdown",
   "metadata": {
    "deletable": true,
    "editable": true
   },
   "source": [
    "5.2 Try the Average Total Payments, and check if there is a real big gap. Try to give some your personal assumption. "
   ]
  },
  {
   "cell_type": "code",
   "execution_count": null,
   "metadata": {
    "collapsed": true
   },
   "outputs": [],
   "source": []
  },
  {
   "cell_type": "markdown",
   "metadata": {
    "deletable": true,
    "editable": true
   },
   "source": [
    "# 6"
   ]
  },
  {
   "cell_type": "markdown",
   "metadata": {
    "deletable": true,
    "editable": true
   },
   "source": [
    "6.1 For California, which disease is the most expensive one?"
   ]
  },
  {
   "cell_type": "code",
   "execution_count": null,
   "metadata": {
    "collapsed": true
   },
   "outputs": [],
   "source": []
  },
  {
   "cell_type": "markdown",
   "metadata": {
    "deletable": true,
    "editable": true
   },
   "source": [
    "6.2 For each state, find the disease that is the most expensive one"
   ]
  },
  {
   "cell_type": "code",
   "execution_count": null,
   "metadata": {
    "collapsed": true
   },
   "outputs": [],
   "source": []
  },
  {
   "cell_type": "markdown",
   "metadata": {
    "deletable": true,
    "editable": true
   },
   "source": [
    "6.3 Based on the result we get just now, try to give some analysis."
   ]
  },
  {
   "cell_type": "code",
   "execution_count": null,
   "metadata": {
    "collapsed": true,
    "deletable": true,
    "editable": true
   },
   "outputs": [],
   "source": []
  },
  {
   "cell_type": "markdown",
   "metadata": {
    "deletable": true,
    "editable": true
   },
   "source": [
    "# 7. "
   ]
  },
  {
   "cell_type": "markdown",
   "metadata": {
    "deletable": true,
    "editable": true
   },
   "source": [
    "If there is a patient who is got \"misc disorders of nutrition,metabolism,fluids/electrolytes\", and that guy doesn't have much money to cure. So we need to help that guy find a good hostipal across the whole United States to decrease the spending. Please the whole row(s)."
   ]
  },
  {
   "cell_type": "code",
   "execution_count": null,
   "metadata": {
    "collapsed": true
   },
   "outputs": [],
   "source": []
  }
 ],
 "metadata": {
  "kernelspec": {
   "display_name": "Python 2",
   "language": "python",
   "name": "python2"
  },
  "language_info": {
   "codemirror_mode": {
    "name": "ipython",
    "version": 2
   },
   "file_extension": ".py",
   "mimetype": "text/x-python",
   "name": "python",
   "nbconvert_exporter": "python",
   "pygments_lexer": "ipython2",
   "version": "2.7.11"
  }
 },
 "nbformat": 4,
 "nbformat_minor": 0
}
