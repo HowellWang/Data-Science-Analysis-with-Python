{
 "cells": [
  {
   "cell_type": "markdown",
   "metadata": {
    "deletable": true,
    "editable": true
   },
   "source": [
    "# DATA SCIENCE ANALYSIS WITH PYTHON\n",
    "# Midterm take-home"
   ]
  },
  {
   "cell_type": "markdown",
   "metadata": {},
   "source": [
    "### Due 2/19/2018 11:59 pm"
   ]
  },
  {
   "cell_type": "markdown",
   "metadata": {
    "deletable": true,
    "editable": true
   },
   "source": [
    "<p>Instructions\n",
    "<ol>\n",
    "<li>Download the files <i>medical_payment.csv</i> and <i>geo-data.csv</i> into the same folder\n",
    "<li>Read the file <i>Medical_Payment-pdf.pdf</i>\n",
    "<li>Run the code below and then answer the questions\n",
    "</ol></p>"
   ]
  },
  {
   "cell_type": "markdown",
   "metadata": {
    "deletable": true,
    "editable": true
   },
   "source": [
    "<b>Penalties:</b> You will incur penalties if:\n",
    "<ul>\n",
    "<li>Your answer is different from the correct one</li>\n",
    "<li>Your code is unnecessarily slow</li>\n",
    "<li>Your code is longer than specified</li>\n",
    "<li>You will be penalized if, in an attempt to limit the lines of code, you make your code too hard to read or too slow -- for example, by copy-pasting pieces of code in the same line instead of declaring a variable in one line and using the variable in another.\n",
    "</ul>"
   ]
  },
  {
   "cell_type": "code",
   "execution_count": 1,
   "metadata": {
    "collapsed": false,
    "deletable": true,
    "editable": true
   },
   "outputs": [],
   "source": [
    "import pandas as pd\n",
    "from IPython.core.interactiveshell import InteractiveShell\n",
    "InteractiveShell.ast_node_interactivity = \"all\"\n",
    "import warnings\n",
    "warnings.filterwarnings('ignore')"
   ]
  },
  {
   "cell_type": "code",
   "execution_count": 2,
   "metadata": {
    "collapsed": true,
    "deletable": true,
    "editable": true
   },
   "outputs": [],
   "source": [
    "df = pd.read_csv(\"medical_payment.csv\",dtype=str).\\\n",
    "        rename(columns=lambda x: x.strip())"
   ]
  },
  {
   "cell_type": "markdown",
   "metadata": {
    "deletable": true,
    "editable": true
   },
   "source": [
    "## Data Description"
   ]
  },
  {
   "cell_type": "markdown",
   "metadata": {
    "deletable": true,
    "editable": true
   },
   "source": [
    "With this data set, people can see the price difference for a hundred common illnesses and procedures. Hospitals can set their own prices and differ substantially in some cases.\n",
    " \n",
    "Before you move on, read the <b>Medical_Payment-pdf.pdf</b> to understand the dataset."
   ]
  },
  {
   "cell_type": "code",
   "execution_count": 3,
   "metadata": {
    "collapsed": false,
    "deletable": true,
    "editable": true,
    "scrolled": true
   },
   "outputs": [
    {
     "data": {
      "text/plain": [
       "(163065, 10)"
      ]
     },
     "execution_count": 3,
     "metadata": {},
     "output_type": "execute_result"
    }
   ],
   "source": [
    "df.shape"
   ]
  },
  {
   "cell_type": "markdown",
   "metadata": {
    "deletable": true,
    "editable": true
   },
   "source": [
    "The columns are as follows:"
   ]
  },
  {
   "cell_type": "code",
   "execution_count": 4,
   "metadata": {
    "collapsed": false,
    "deletable": true,
    "editable": true
   },
   "outputs": [
    {
     "data": {
      "text/plain": [
       "Index([u'DRG Definition', u'Provider Id', u'Provider Name',\n",
       "       u'Provider Street Address', u'Provider Zip Code',\n",
       "       u'Hospital Referral Region Description', u'Total Discharges',\n",
       "       u'Average Covered Charges', u'Average Total Payments',\n",
       "       u'Average Medicare Payments'],\n",
       "      dtype='object')"
      ]
     },
     "execution_count": 4,
     "metadata": {},
     "output_type": "execute_result"
    }
   ],
   "source": [
    "df.columns"
   ]
  },
  {
   "cell_type": "markdown",
   "metadata": {
    "deletable": true,
    "editable": true
   },
   "source": [
    "A sample of the dataset:"
   ]
  },
  {
   "cell_type": "code",
   "execution_count": 5,
   "metadata": {
    "collapsed": false,
    "deletable": true,
    "editable": true,
    "scrolled": false
   },
   "outputs": [
    {
     "data": {
      "text/html": [
       "<div>\n",
       "<style>\n",
       "    .dataframe thead tr:only-child th {\n",
       "        text-align: right;\n",
       "    }\n",
       "\n",
       "    .dataframe thead th {\n",
       "        text-align: left;\n",
       "    }\n",
       "\n",
       "    .dataframe tbody tr th {\n",
       "        vertical-align: top;\n",
       "    }\n",
       "</style>\n",
       "<table border=\"1\" class=\"dataframe\">\n",
       "  <thead>\n",
       "    <tr style=\"text-align: right;\">\n",
       "      <th></th>\n",
       "      <th>DRG Definition</th>\n",
       "      <th>Provider Id</th>\n",
       "      <th>Provider Name</th>\n",
       "      <th>Provider Street Address</th>\n",
       "      <th>Provider Zip Code</th>\n",
       "      <th>Hospital Referral Region Description</th>\n",
       "      <th>Total Discharges</th>\n",
       "      <th>Average Covered Charges</th>\n",
       "      <th>Average Total Payments</th>\n",
       "      <th>Average Medicare Payments</th>\n",
       "    </tr>\n",
       "  </thead>\n",
       "  <tbody>\n",
       "    <tr>\n",
       "      <th>30075</th>\n",
       "      <td>193 - SIMPLE PNEUMONIA &amp; PLEURISY W MCC</td>\n",
       "      <td>210033</td>\n",
       "      <td>CARROLL HOSPITAL CENTER</td>\n",
       "      <td>200 MEMORIAL AVE</td>\n",
       "      <td>21157</td>\n",
       "      <td>MD - Baltimore</td>\n",
       "      <td>23</td>\n",
       "      <td>$16,013.95</td>\n",
       "      <td>$15,102.30</td>\n",
       "      <td>$13,555.52</td>\n",
       "    </tr>\n",
       "    <tr>\n",
       "      <th>53790</th>\n",
       "      <td>280 - ACUTE MYOCARDIAL INFARCTION, DISCHARGED ...</td>\n",
       "      <td>150026</td>\n",
       "      <td>IU HEALTH GOSHEN HOSPITAL</td>\n",
       "      <td>200 HIGH PARK AVE</td>\n",
       "      <td>46526</td>\n",
       "      <td>IN - South Bend</td>\n",
       "      <td>11</td>\n",
       "      <td>$34,427.00</td>\n",
       "      <td>$9,429.09</td>\n",
       "      <td>$8,711.63</td>\n",
       "    </tr>\n",
       "    <tr>\n",
       "      <th>35917</th>\n",
       "      <td>195 - SIMPLE PNEUMONIA &amp; PLEURISY W/O CC/MCC</td>\n",
       "      <td>260180</td>\n",
       "      <td>CHRISTIAN HOSPITAL NORTHEAST</td>\n",
       "      <td>11133 DUNN ROAD</td>\n",
       "      <td>63136</td>\n",
       "      <td>MO - St. Louis</td>\n",
       "      <td>26</td>\n",
       "      <td>$16,288.38</td>\n",
       "      <td>$4,093.92</td>\n",
       "      <td>$3,312.69</td>\n",
       "    </tr>\n",
       "    <tr>\n",
       "      <th>1627</th>\n",
       "      <td>057 - DEGENERATIVE NERVOUS SYSTEM DISORDERS W/...</td>\n",
       "      <td>230024</td>\n",
       "      <td>SINAI-GRACE HOSPITAL</td>\n",
       "      <td>6071 W OUTER DRIVE</td>\n",
       "      <td>48235</td>\n",
       "      <td>MI - Detroit</td>\n",
       "      <td>22</td>\n",
       "      <td>$14,041.63</td>\n",
       "      <td>$8,260.90</td>\n",
       "      <td>$7,392.00</td>\n",
       "    </tr>\n",
       "    <tr>\n",
       "      <th>143707</th>\n",
       "      <td>690 - KIDNEY &amp; URINARY TRACT INFECTIONS W/O MCC</td>\n",
       "      <td>360112</td>\n",
       "      <td>MERCY ST VINCENT MEDICAL CENTER</td>\n",
       "      <td>2213 CHERRY STREET</td>\n",
       "      <td>43608</td>\n",
       "      <td>OH - Toledo</td>\n",
       "      <td>80</td>\n",
       "      <td>$20,527.33</td>\n",
       "      <td>$6,425.51</td>\n",
       "      <td>$5,713.80</td>\n",
       "    </tr>\n",
       "  </tbody>\n",
       "</table>\n",
       "</div>"
      ],
      "text/plain": [
       "                                           DRG Definition Provider Id  \\\n",
       "30075             193 - SIMPLE PNEUMONIA & PLEURISY W MCC      210033   \n",
       "53790   280 - ACUTE MYOCARDIAL INFARCTION, DISCHARGED ...      150026   \n",
       "35917        195 - SIMPLE PNEUMONIA & PLEURISY W/O CC/MCC      260180   \n",
       "1627    057 - DEGENERATIVE NERVOUS SYSTEM DISORDERS W/...      230024   \n",
       "143707    690 - KIDNEY & URINARY TRACT INFECTIONS W/O MCC      360112   \n",
       "\n",
       "                          Provider Name Provider Street Address  \\\n",
       "30075           CARROLL HOSPITAL CENTER        200 MEMORIAL AVE   \n",
       "53790         IU HEALTH GOSHEN HOSPITAL       200 HIGH PARK AVE   \n",
       "35917      CHRISTIAN HOSPITAL NORTHEAST         11133 DUNN ROAD   \n",
       "1627               SINAI-GRACE HOSPITAL      6071 W OUTER DRIVE   \n",
       "143707  MERCY ST VINCENT MEDICAL CENTER      2213 CHERRY STREET   \n",
       "\n",
       "       Provider Zip Code Hospital Referral Region Description  \\\n",
       "30075              21157                       MD - Baltimore   \n",
       "53790              46526                      IN - South Bend   \n",
       "35917              63136                       MO - St. Louis   \n",
       "1627               48235                         MI - Detroit   \n",
       "143707             43608                          OH - Toledo   \n",
       "\n",
       "       Total Discharges Average Covered Charges Average Total Payments  \\\n",
       "30075                23             $16,013.95             $15,102.30    \n",
       "53790                11             $34,427.00              $9,429.09    \n",
       "35917                26             $16,288.38              $4,093.92    \n",
       "1627                 22             $14,041.63              $8,260.90    \n",
       "143707               80             $20,527.33              $6,425.51    \n",
       "\n",
       "       Average Medicare Payments  \n",
       "30075                $13,555.52   \n",
       "53790                 $8,711.63   \n",
       "35917                 $3,312.69   \n",
       "1627                  $7,392.00   \n",
       "143707                $5,713.80   "
      ]
     },
     "execution_count": 5,
     "metadata": {},
     "output_type": "execute_result"
    }
   ],
   "source": [
    "df.sample(5, random_state=1234).head()"
   ]
  },
  {
   "cell_type": "markdown",
   "metadata": {
    "deletable": true,
    "editable": true
   },
   "source": [
    "## Q1. Transform relevant columns"
   ]
  },
  {
   "cell_type": "markdown",
   "metadata": {
    "deletable": true,
    "editable": true
   },
   "source": [
    "All columns in the dataset are of type str. At least 4 of them should be numeric."
   ]
  },
  {
   "cell_type": "code",
   "execution_count": 6,
   "metadata": {
    "collapsed": false
   },
   "outputs": [
    {
     "data": {
      "text/html": [
       "<div>\n",
       "<style>\n",
       "    .dataframe thead tr:only-child th {\n",
       "        text-align: right;\n",
       "    }\n",
       "\n",
       "    .dataframe thead th {\n",
       "        text-align: left;\n",
       "    }\n",
       "\n",
       "    .dataframe tbody tr th {\n",
       "        vertical-align: top;\n",
       "    }\n",
       "</style>\n",
       "<table border=\"1\" class=\"dataframe\">\n",
       "  <thead>\n",
       "    <tr style=\"text-align: right;\">\n",
       "      <th></th>\n",
       "      <th>DRG Definition</th>\n",
       "      <th>Provider Id</th>\n",
       "      <th>Provider Name</th>\n",
       "      <th>Provider Street Address</th>\n",
       "      <th>Provider Zip Code</th>\n",
       "      <th>Hospital Referral Region Description</th>\n",
       "      <th>Total Discharges</th>\n",
       "      <th>Average Covered Charges</th>\n",
       "      <th>Average Total Payments</th>\n",
       "      <th>Average Medicare Payments</th>\n",
       "    </tr>\n",
       "  </thead>\n",
       "  <tbody>\n",
       "    <tr>\n",
       "      <th>0</th>\n",
       "      <td>039 - EXTRACRANIAL PROCEDURES W/O CC/MCC</td>\n",
       "      <td>10001</td>\n",
       "      <td>SOUTHEAST ALABAMA MEDICAL CENTER</td>\n",
       "      <td>1108 ROSS CLARK CIRCLE</td>\n",
       "      <td>36301</td>\n",
       "      <td>AL - Dothan</td>\n",
       "      <td>91</td>\n",
       "      <td>$32,963.07</td>\n",
       "      <td>$5,777.24</td>\n",
       "      <td>$4,763.73</td>\n",
       "    </tr>\n",
       "    <tr>\n",
       "      <th>1</th>\n",
       "      <td>039 - EXTRACRANIAL PROCEDURES W/O CC/MCC</td>\n",
       "      <td>10005</td>\n",
       "      <td>MARSHALL MEDICAL CENTER SOUTH</td>\n",
       "      <td>2505 U S HIGHWAY 431 NORTH</td>\n",
       "      <td>35957</td>\n",
       "      <td>AL - Birmingham</td>\n",
       "      <td>14</td>\n",
       "      <td>$15,131.85</td>\n",
       "      <td>$5,787.57</td>\n",
       "      <td>$4,976.71</td>\n",
       "    </tr>\n",
       "    <tr>\n",
       "      <th>2</th>\n",
       "      <td>039 - EXTRACRANIAL PROCEDURES W/O CC/MCC</td>\n",
       "      <td>10006</td>\n",
       "      <td>ELIZA COFFEE MEMORIAL HOSPITAL</td>\n",
       "      <td>205 MARENGO STREET</td>\n",
       "      <td>35631</td>\n",
       "      <td>AL - Birmingham</td>\n",
       "      <td>24</td>\n",
       "      <td>$37,560.37</td>\n",
       "      <td>$5,434.95</td>\n",
       "      <td>$4,453.79</td>\n",
       "    </tr>\n",
       "    <tr>\n",
       "      <th>3</th>\n",
       "      <td>039 - EXTRACRANIAL PROCEDURES W/O CC/MCC</td>\n",
       "      <td>10011</td>\n",
       "      <td>ST VINCENT'S EAST</td>\n",
       "      <td>50 MEDICAL PARK EAST DRIVE</td>\n",
       "      <td>35235</td>\n",
       "      <td>AL - Birmingham</td>\n",
       "      <td>25</td>\n",
       "      <td>$13,998.28</td>\n",
       "      <td>$5,417.56</td>\n",
       "      <td>$4,129.16</td>\n",
       "    </tr>\n",
       "    <tr>\n",
       "      <th>4</th>\n",
       "      <td>039 - EXTRACRANIAL PROCEDURES W/O CC/MCC</td>\n",
       "      <td>10016</td>\n",
       "      <td>SHELBY BAPTIST MEDICAL CENTER</td>\n",
       "      <td>1000 FIRST STREET NORTH</td>\n",
       "      <td>35007</td>\n",
       "      <td>AL - Birmingham</td>\n",
       "      <td>18</td>\n",
       "      <td>$31,633.27</td>\n",
       "      <td>$5,658.33</td>\n",
       "      <td>$4,851.44</td>\n",
       "    </tr>\n",
       "  </tbody>\n",
       "</table>\n",
       "</div>"
      ],
      "text/plain": [
       "                             DRG Definition Provider Id  \\\n",
       "0  039 - EXTRACRANIAL PROCEDURES W/O CC/MCC       10001   \n",
       "1  039 - EXTRACRANIAL PROCEDURES W/O CC/MCC       10005   \n",
       "2  039 - EXTRACRANIAL PROCEDURES W/O CC/MCC       10006   \n",
       "3  039 - EXTRACRANIAL PROCEDURES W/O CC/MCC       10011   \n",
       "4  039 - EXTRACRANIAL PROCEDURES W/O CC/MCC       10016   \n",
       "\n",
       "                      Provider Name     Provider Street Address  \\\n",
       "0  SOUTHEAST ALABAMA MEDICAL CENTER      1108 ROSS CLARK CIRCLE   \n",
       "1     MARSHALL MEDICAL CENTER SOUTH  2505 U S HIGHWAY 431 NORTH   \n",
       "2    ELIZA COFFEE MEMORIAL HOSPITAL          205 MARENGO STREET   \n",
       "3                 ST VINCENT'S EAST  50 MEDICAL PARK EAST DRIVE   \n",
       "4     SHELBY BAPTIST MEDICAL CENTER     1000 FIRST STREET NORTH   \n",
       "\n",
       "  Provider Zip Code Hospital Referral Region Description Total Discharges  \\\n",
       "0             36301                          AL - Dothan               91   \n",
       "1             35957                      AL - Birmingham               14   \n",
       "2             35631                      AL - Birmingham               24   \n",
       "3             35235                      AL - Birmingham               25   \n",
       "4             35007                      AL - Birmingham               18   \n",
       "\n",
       "  Average Covered Charges Average Total Payments Average Medicare Payments  \n",
       "0             $32,963.07              $5,777.24                 $4,763.73   \n",
       "1             $15,131.85              $5,787.57                 $4,976.71   \n",
       "2             $37,560.37              $5,434.95                 $4,453.79   \n",
       "3             $13,998.28              $5,417.56                 $4,129.16   \n",
       "4             $31,633.27              $5,658.33                 $4,851.44   "
      ]
     },
     "execution_count": 6,
     "metadata": {},
     "output_type": "execute_result"
    }
   ],
   "source": [
    "df.head()"
   ]
  },
  {
   "cell_type": "markdown",
   "metadata": {
    "editable": true
   },
   "source": [
    "1.1 Identify them and convert the values of these columns to numeric."
   ]
  },
  {
   "cell_type": "code",
   "execution_count": 7,
   "metadata": {
    "collapsed": true
   },
   "outputs": [],
   "source": [
    "df['Total Discharges'] = pd.to_numeric(df['Total Discharges'])"
   ]
  },
  {
   "cell_type": "code",
   "execution_count": 8,
   "metadata": {
    "collapsed": false
   },
   "outputs": [],
   "source": [
    "df['Average Covered Charges']= pd.to_numeric(df['Average Covered Charges'].apply(\n",
    "                                                lambda x: x[1:].replace(',','')))"
   ]
  },
  {
   "cell_type": "code",
   "execution_count": 9,
   "metadata": {
    "collapsed": true
   },
   "outputs": [],
   "source": [
    "df['Average Total Payments']=pd.to_numeric(df['Average Total Payments'].apply(\n",
    "                                                lambda x: x[1:].replace(',','')))"
   ]
  },
  {
   "cell_type": "code",
   "execution_count": 10,
   "metadata": {
    "collapsed": false
   },
   "outputs": [],
   "source": [
    "df['Average Medicare Payments']= pd.to_numeric(df['Average Medicare Payments'].apply(\n",
    "                                                lambda x: x[1:].replace(',','')))"
   ]
  },
  {
   "cell_type": "markdown",
   "metadata": {
    "editable": true
   },
   "source": [
    "1.2 Explain why these values should be numeric."
   ]
  },
  {
   "cell_type": "markdown",
   "metadata": {
    "collapsed": true
   },
   "source": [
    "We will need these data in numeric instead of string to compare the value."
   ]
  },
  {
   "cell_type": "markdown",
   "metadata": {
    "deletable": true,
    "editable": true
   },
   "source": [
    "## Q2. Let's take a look at heart disease"
   ]
  },
  {
   "cell_type": "markdown",
   "metadata": {
    "deletable": true,
    "editable": true
   },
   "source": [
    "**Be careful when you identify 'heart' disease.** There are more than one type of DRG definition related to heart diseases. Make sure you catch all of them.  (hint 1:  use .unique() to start your investigation. hint 2: there are two keywords can be used to find all 'heart' diseases."
   ]
  },
  {
   "cell_type": "markdown",
   "metadata": {
    "collapsed": true
   },
   "source": [
    "2.1, Total how many heart related disease cases across the whole country ?"
   ]
  },
  {
   "cell_type": "code",
   "execution_count": 11,
   "metadata": {
    "collapsed": false
   },
   "outputs": [],
   "source": [
    "df_cardi=df[(df['DRG Definition'].str.contains('HEART')) | \n",
    "            (df['DRG Definition'].str.contains('CARDI'))]"
   ]
  },
  {
   "cell_type": "code",
   "execution_count": 12,
   "metadata": {
    "collapsed": false
   },
   "outputs": [
    {
     "data": {
      "text/html": [
       "<div>\n",
       "<style>\n",
       "    .dataframe thead tr:only-child th {\n",
       "        text-align: right;\n",
       "    }\n",
       "\n",
       "    .dataframe thead th {\n",
       "        text-align: left;\n",
       "    }\n",
       "\n",
       "    .dataframe tbody tr th {\n",
       "        vertical-align: top;\n",
       "    }\n",
       "</style>\n",
       "<table border=\"1\" class=\"dataframe\">\n",
       "  <thead>\n",
       "    <tr style=\"text-align: right;\">\n",
       "      <th></th>\n",
       "      <th>DRG Definition</th>\n",
       "      <th>Provider Id</th>\n",
       "      <th>Provider Name</th>\n",
       "      <th>Provider Street Address</th>\n",
       "      <th>Provider Zip Code</th>\n",
       "      <th>Hospital Referral Region Description</th>\n",
       "      <th>Total Discharges</th>\n",
       "      <th>Average Covered Charges</th>\n",
       "      <th>Average Total Payments</th>\n",
       "      <th>Average Medicare Payments</th>\n",
       "    </tr>\n",
       "  </thead>\n",
       "  <tbody>\n",
       "    <tr>\n",
       "      <th>39739</th>\n",
       "      <td>238 - MAJOR CARDIOVASC PROCEDURES W/O MCC</td>\n",
       "      <td>70033</td>\n",
       "      <td>DANBURY HOSPITAL</td>\n",
       "      <td>24 HOSPITAL AVE</td>\n",
       "      <td>6810</td>\n",
       "      <td>CT - New Haven</td>\n",
       "      <td>32</td>\n",
       "      <td>70117.68</td>\n",
       "      <td>25146.03</td>\n",
       "      <td>22800.37</td>\n",
       "    </tr>\n",
       "  </tbody>\n",
       "</table>\n",
       "</div>"
      ],
      "text/plain": [
       "                                  DRG Definition Provider Id  \\\n",
       "39739  238 - MAJOR CARDIOVASC PROCEDURES W/O MCC       70033   \n",
       "\n",
       "          Provider Name Provider Street Address Provider Zip Code  \\\n",
       "39739  DANBURY HOSPITAL         24 HOSPITAL AVE              6810   \n",
       "\n",
       "      Hospital Referral Region Description  Total Discharges  \\\n",
       "39739                       CT - New Haven                32   \n",
       "\n",
       "       Average Covered Charges  Average Total Payments  \\\n",
       "39739                 70117.68                25146.03   \n",
       "\n",
       "       Average Medicare Payments  \n",
       "39739                   22800.37  "
      ]
     },
     "execution_count": 12,
     "metadata": {},
     "output_type": "execute_result"
    }
   ],
   "source": [
    "df_cardi.head(1)"
   ]
  },
  {
   "cell_type": "code",
   "execution_count": 13,
   "metadata": {
    "collapsed": false
   },
   "outputs": [
    {
     "data": {
      "text/plain": [
       "1189090"
      ]
     },
     "execution_count": 13,
     "metadata": {},
     "output_type": "execute_result"
    }
   ],
   "source": [
    "df_cardi['Total Discharges'].sum()"
   ]
  },
  {
   "cell_type": "markdown",
   "metadata": {
    "collapsed": true
   },
   "source": [
    "2.2, Create an overview from the view point of 'Hospital Referral Region Description' and 'Average Total Payments', sorted by payments in descending order. List the top 10 only."
   ]
  },
  {
   "cell_type": "code",
   "execution_count": 14,
   "metadata": {
    "collapsed": false
   },
   "outputs": [
    {
     "data": {
      "text/html": [
       "<div>\n",
       "<style>\n",
       "    .dataframe thead tr:only-child th {\n",
       "        text-align: right;\n",
       "    }\n",
       "\n",
       "    .dataframe thead th {\n",
       "        text-align: left;\n",
       "    }\n",
       "\n",
       "    .dataframe tbody tr th {\n",
       "        vertical-align: top;\n",
       "    }\n",
       "</style>\n",
       "<table border=\"1\" class=\"dataframe\">\n",
       "  <thead>\n",
       "    <tr style=\"text-align: right;\">\n",
       "      <th></th>\n",
       "      <th>count</th>\n",
       "      <th>mean</th>\n",
       "      <th>std</th>\n",
       "      <th>min</th>\n",
       "      <th>25%</th>\n",
       "      <th>50%</th>\n",
       "      <th>75%</th>\n",
       "      <th>max</th>\n",
       "    </tr>\n",
       "    <tr>\n",
       "      <th>Hospital Referral Region Description</th>\n",
       "      <th></th>\n",
       "      <th></th>\n",
       "      <th></th>\n",
       "      <th></th>\n",
       "      <th></th>\n",
       "      <th></th>\n",
       "      <th></th>\n",
       "      <th></th>\n",
       "    </tr>\n",
       "  </thead>\n",
       "  <tbody>\n",
       "    <tr>\n",
       "      <th>CA - San Mateo County</th>\n",
       "      <td>47.0</td>\n",
       "      <td>16805.429574</td>\n",
       "      <td>9979.927368</td>\n",
       "      <td>4407.00</td>\n",
       "      <td>8558.2600</td>\n",
       "      <td>14226.510</td>\n",
       "      <td>23083.0050</td>\n",
       "      <td>40864.44</td>\n",
       "    </tr>\n",
       "    <tr>\n",
       "      <th>NY - Manhattan</th>\n",
       "      <td>279.0</td>\n",
       "      <td>16207.337384</td>\n",
       "      <td>7877.421900</td>\n",
       "      <td>4743.69</td>\n",
       "      <td>9757.7050</td>\n",
       "      <td>14895.420</td>\n",
       "      <td>20942.7950</td>\n",
       "      <td>41904.15</td>\n",
       "    </tr>\n",
       "    <tr>\n",
       "      <th>CA - Salinas</th>\n",
       "      <td>32.0</td>\n",
       "      <td>15910.470312</td>\n",
       "      <td>9908.305755</td>\n",
       "      <td>4908.72</td>\n",
       "      <td>8522.7950</td>\n",
       "      <td>14647.025</td>\n",
       "      <td>19468.4800</td>\n",
       "      <td>44286.90</td>\n",
       "    </tr>\n",
       "    <tr>\n",
       "      <th>CA - San Jose</th>\n",
       "      <td>75.0</td>\n",
       "      <td>15351.376400</td>\n",
       "      <td>8224.114956</td>\n",
       "      <td>4585.00</td>\n",
       "      <td>8698.5400</td>\n",
       "      <td>14219.480</td>\n",
       "      <td>20117.7600</td>\n",
       "      <td>38362.13</td>\n",
       "    </tr>\n",
       "    <tr>\n",
       "      <th>NY - Bronx</th>\n",
       "      <td>64.0</td>\n",
       "      <td>15077.005312</td>\n",
       "      <td>7202.381527</td>\n",
       "      <td>4514.20</td>\n",
       "      <td>9726.7675</td>\n",
       "      <td>13455.025</td>\n",
       "      <td>19870.6225</td>\n",
       "      <td>37446.43</td>\n",
       "    </tr>\n",
       "    <tr>\n",
       "      <th>CA - San Francisco</th>\n",
       "      <td>89.0</td>\n",
       "      <td>14535.558202</td>\n",
       "      <td>7672.439022</td>\n",
       "      <td>4839.00</td>\n",
       "      <td>8328.3800</td>\n",
       "      <td>13383.150</td>\n",
       "      <td>17018.2500</td>\n",
       "      <td>42422.60</td>\n",
       "    </tr>\n",
       "    <tr>\n",
       "      <th>CA - Alameda County</th>\n",
       "      <td>80.0</td>\n",
       "      <td>14445.442625</td>\n",
       "      <td>7544.800209</td>\n",
       "      <td>5157.63</td>\n",
       "      <td>8837.8925</td>\n",
       "      <td>12814.805</td>\n",
       "      <td>18692.8525</td>\n",
       "      <td>36598.07</td>\n",
       "    </tr>\n",
       "    <tr>\n",
       "      <th>MD - Baltimore</th>\n",
       "      <td>251.0</td>\n",
       "      <td>14117.053108</td>\n",
       "      <td>9009.682569</td>\n",
       "      <td>3854.75</td>\n",
       "      <td>7402.1400</td>\n",
       "      <td>11453.460</td>\n",
       "      <td>18121.0700</td>\n",
       "      <td>54682.48</td>\n",
       "    </tr>\n",
       "    <tr>\n",
       "      <th>AK - Anchorage</th>\n",
       "      <td>40.0</td>\n",
       "      <td>14001.218500</td>\n",
       "      <td>7088.255041</td>\n",
       "      <td>5160.63</td>\n",
       "      <td>8313.2300</td>\n",
       "      <td>11527.630</td>\n",
       "      <td>18414.1575</td>\n",
       "      <td>33012.57</td>\n",
       "    </tr>\n",
       "    <tr>\n",
       "      <th>CA - Santa Rosa</th>\n",
       "      <td>35.0</td>\n",
       "      <td>13663.912857</td>\n",
       "      <td>7185.018671</td>\n",
       "      <td>4761.72</td>\n",
       "      <td>8400.0350</td>\n",
       "      <td>10894.680</td>\n",
       "      <td>17830.5050</td>\n",
       "      <td>33133.73</td>\n",
       "    </tr>\n",
       "  </tbody>\n",
       "</table>\n",
       "</div>"
      ],
      "text/plain": [
       "                                      count          mean          std  \\\n",
       "Hospital Referral Region Description                                     \n",
       "CA - San Mateo County                  47.0  16805.429574  9979.927368   \n",
       "NY - Manhattan                        279.0  16207.337384  7877.421900   \n",
       "CA - Salinas                           32.0  15910.470312  9908.305755   \n",
       "CA - San Jose                          75.0  15351.376400  8224.114956   \n",
       "NY - Bronx                             64.0  15077.005312  7202.381527   \n",
       "CA - San Francisco                     89.0  14535.558202  7672.439022   \n",
       "CA - Alameda County                    80.0  14445.442625  7544.800209   \n",
       "MD - Baltimore                        251.0  14117.053108  9009.682569   \n",
       "AK - Anchorage                         40.0  14001.218500  7088.255041   \n",
       "CA - Santa Rosa                        35.0  13663.912857  7185.018671   \n",
       "\n",
       "                                          min        25%        50%  \\\n",
       "Hospital Referral Region Description                                  \n",
       "CA - San Mateo County                 4407.00  8558.2600  14226.510   \n",
       "NY - Manhattan                        4743.69  9757.7050  14895.420   \n",
       "CA - Salinas                          4908.72  8522.7950  14647.025   \n",
       "CA - San Jose                         4585.00  8698.5400  14219.480   \n",
       "NY - Bronx                            4514.20  9726.7675  13455.025   \n",
       "CA - San Francisco                    4839.00  8328.3800  13383.150   \n",
       "CA - Alameda County                   5157.63  8837.8925  12814.805   \n",
       "MD - Baltimore                        3854.75  7402.1400  11453.460   \n",
       "AK - Anchorage                        5160.63  8313.2300  11527.630   \n",
       "CA - Santa Rosa                       4761.72  8400.0350  10894.680   \n",
       "\n",
       "                                             75%       max  \n",
       "Hospital Referral Region Description                        \n",
       "CA - San Mateo County                 23083.0050  40864.44  \n",
       "NY - Manhattan                        20942.7950  41904.15  \n",
       "CA - Salinas                          19468.4800  44286.90  \n",
       "CA - San Jose                         20117.7600  38362.13  \n",
       "NY - Bronx                            19870.6225  37446.43  \n",
       "CA - San Francisco                    17018.2500  42422.60  \n",
       "CA - Alameda County                   18692.8525  36598.07  \n",
       "MD - Baltimore                        18121.0700  54682.48  \n",
       "AK - Anchorage                        18414.1575  33012.57  \n",
       "CA - Santa Rosa                       17830.5050  33133.73  "
      ]
     },
     "execution_count": 14,
     "metadata": {},
     "output_type": "execute_result"
    }
   ],
   "source": [
    "df_cardi.groupby('Hospital Referral Region Description')['Average Total Payments']\\\n",
    "                .describe().sort_values('mean',ascending=False).head(10)"
   ]
  },
  {
   "cell_type": "markdown",
   "metadata": {
    "collapsed": true
   },
   "source": [
    "2.3, Find out which hospital treat heart disease in \"CA - Alameda County\" region, sorted by the total case number they handle by descending order."
   ]
  },
  {
   "cell_type": "code",
   "execution_count": 68,
   "metadata": {
    "collapsed": false
   },
   "outputs": [],
   "source": [
    "df_Alameda = df_cardi[df_cardi['Hospital Referral Region Description'].\\\n",
    "    str.contains('CA - Alameda County')]"
   ]
  },
  {
   "cell_type": "code",
   "execution_count": 69,
   "metadata": {
    "collapsed": false
   },
   "outputs": [
    {
     "data": {
      "text/plain": [
       "80"
      ]
     },
     "execution_count": 69,
     "metadata": {},
     "output_type": "execute_result"
    }
   ],
   "source": [
    "len(df_Alameda)"
   ]
  },
  {
   "cell_type": "code",
   "execution_count": 71,
   "metadata": {
    "collapsed": false
   },
   "outputs": [
    {
     "data": {
      "text/html": [
       "<div>\n",
       "<style>\n",
       "    .dataframe thead tr:only-child th {\n",
       "        text-align: right;\n",
       "    }\n",
       "\n",
       "    .dataframe thead th {\n",
       "        text-align: left;\n",
       "    }\n",
       "\n",
       "    .dataframe tbody tr th {\n",
       "        vertical-align: top;\n",
       "    }\n",
       "</style>\n",
       "<table border=\"1\" class=\"dataframe\">\n",
       "  <thead>\n",
       "    <tr style=\"text-align: right;\">\n",
       "      <th></th>\n",
       "      <th>Total Discharges</th>\n",
       "    </tr>\n",
       "    <tr>\n",
       "      <th>Provider Name</th>\n",
       "      <th></th>\n",
       "    </tr>\n",
       "  </thead>\n",
       "  <tbody>\n",
       "    <tr>\n",
       "      <th>ALTA BATES SUMMIT MEDICAL CENTER</th>\n",
       "      <td>658</td>\n",
       "    </tr>\n",
       "    <tr>\n",
       "      <th>WASHINGTON HOSPITAL</th>\n",
       "      <td>430</td>\n",
       "    </tr>\n",
       "    <tr>\n",
       "      <th>EDEN MEDICAL CENTER</th>\n",
       "      <td>400</td>\n",
       "    </tr>\n",
       "    <tr>\n",
       "      <th>ALTA BATES SUMMIT MEDICAL CENTER - ALTA BATES CAMP</th>\n",
       "      <td>297</td>\n",
       "    </tr>\n",
       "    <tr>\n",
       "      <th>ST ROSE HOSPITAL</th>\n",
       "      <td>264</td>\n",
       "    </tr>\n",
       "    <tr>\n",
       "      <th>VALLEYCARE MEDICAL CENTER</th>\n",
       "      <td>197</td>\n",
       "    </tr>\n",
       "    <tr>\n",
       "      <th>ALAMEDA HOSPITAL</th>\n",
       "      <td>118</td>\n",
       "    </tr>\n",
       "    <tr>\n",
       "      <th>KAISER FOUNDATION HOSPITAL OAKLAND/RICHMOND</th>\n",
       "      <td>70</td>\n",
       "    </tr>\n",
       "    <tr>\n",
       "      <th>ALAMEDA COUNTY MEDICAL CENTER</th>\n",
       "      <td>62</td>\n",
       "    </tr>\n",
       "    <tr>\n",
       "      <th>SAN LEANDRO HOSPITAL</th>\n",
       "      <td>33</td>\n",
       "    </tr>\n",
       "    <tr>\n",
       "      <th>KAISER FOUNDATION HOSPITAL FREMONT/HAYWARD</th>\n",
       "      <td>27</td>\n",
       "    </tr>\n",
       "  </tbody>\n",
       "</table>\n",
       "</div>"
      ],
      "text/plain": [
       "                                                    Total Discharges\n",
       "Provider Name                                                       \n",
       "ALTA BATES SUMMIT MEDICAL CENTER                                 658\n",
       "WASHINGTON HOSPITAL                                              430\n",
       "EDEN MEDICAL CENTER                                              400\n",
       "ALTA BATES SUMMIT MEDICAL CENTER - ALTA BATES CAMP               297\n",
       "ST ROSE HOSPITAL                                                 264\n",
       "VALLEYCARE MEDICAL CENTER                                        197\n",
       "ALAMEDA HOSPITAL                                                 118\n",
       "KAISER FOUNDATION HOSPITAL OAKLAND/RICHMOND                       70\n",
       "ALAMEDA COUNTY MEDICAL CENTER                                     62\n",
       "SAN LEANDRO HOSPITAL                                              33\n",
       "KAISER FOUNDATION HOSPITAL FREMONT/HAYWARD                        27"
      ]
     },
     "execution_count": 71,
     "metadata": {},
     "output_type": "execute_result"
    }
   ],
   "source": [
    "df_Alameda.groupby('Provider Name').\\\n",
    "            agg({'Total Discharges':'sum'}).sort_values(by = \\\n",
    "                    'Total Discharges',ascending = False)"
   ]
  },
  {
   "cell_type": "markdown",
   "metadata": {
    "deletable": true,
    "editable": true
   },
   "source": [
    "## Q3\n",
    "Merge the data set with mapping of US Zipcode, county, and state information from Census data.\n",
    "Read the file `geo-data.csv` into an object `zip_codes`(make sure that you read all columns as string). After merged, there may have some columns (state and state_abbr) have nan values, fill them in with the information you can find in the first dataframe."
   ]
  },
  {
   "cell_type": "markdown",
   "metadata": {
    "editable": true
   },
   "source": [
    "3.1 Based on the merged dataframe, find out the total DRG number for each city in California's Santa Clara county."
   ]
  },
  {
   "cell_type": "code",
   "execution_count": 16,
   "metadata": {
    "collapsed": true
   },
   "outputs": [],
   "source": [
    "zip_codes = pd.read_csv(\"geo-data.csv\",dtype=str)"
   ]
  },
  {
   "cell_type": "code",
   "execution_count": 17,
   "metadata": {
    "collapsed": true
   },
   "outputs": [],
   "source": [
    "zip_codes.rename(columns = {'zipcode':'Provider Zip Code'}, inplace=True)"
   ]
  },
  {
   "cell_type": "code",
   "execution_count": 18,
   "metadata": {
    "collapsed": false
   },
   "outputs": [
    {
     "data": {
      "text/html": [
       "<div>\n",
       "<style>\n",
       "    .dataframe thead tr:only-child th {\n",
       "        text-align: right;\n",
       "    }\n",
       "\n",
       "    .dataframe thead th {\n",
       "        text-align: left;\n",
       "    }\n",
       "\n",
       "    .dataframe tbody tr th {\n",
       "        vertical-align: top;\n",
       "    }\n",
       "</style>\n",
       "<table border=\"1\" class=\"dataframe\">\n",
       "  <thead>\n",
       "    <tr style=\"text-align: right;\">\n",
       "      <th></th>\n",
       "      <th>state_fips</th>\n",
       "      <th>state</th>\n",
       "      <th>state_abbr</th>\n",
       "      <th>Provider Zip Code</th>\n",
       "      <th>county</th>\n",
       "      <th>city</th>\n",
       "    </tr>\n",
       "  </thead>\n",
       "  <tbody>\n",
       "    <tr>\n",
       "      <th>0</th>\n",
       "      <td>1</td>\n",
       "      <td>Alabama</td>\n",
       "      <td>AL</td>\n",
       "      <td>35004</td>\n",
       "      <td>St. Clair</td>\n",
       "      <td>Acmar</td>\n",
       "    </tr>\n",
       "  </tbody>\n",
       "</table>\n",
       "</div>"
      ],
      "text/plain": [
       "  state_fips    state state_abbr Provider Zip Code     county   city\n",
       "0          1  Alabama         AL             35004  St. Clair  Acmar"
      ]
     },
     "execution_count": 18,
     "metadata": {},
     "output_type": "execute_result"
    }
   ],
   "source": [
    "zip_codes.head(1)"
   ]
  },
  {
   "cell_type": "code",
   "execution_count": 19,
   "metadata": {
    "collapsed": false
   },
   "outputs": [],
   "source": [
    "df_merged=df.merge(zip_codes, how='left', left_on='Provider Zip Code', \\\n",
    "                                          right_on='Provider Zip Code')"
   ]
  },
  {
   "cell_type": "markdown",
   "metadata": {},
   "source": [
    "the zip_codes data set is not clean. Has some duplications."
   ]
  },
  {
   "cell_type": "code",
   "execution_count": 20,
   "metadata": {
    "collapsed": false,
    "scrolled": true
   },
   "outputs": [
    {
     "data": {
      "text/html": [
       "<div>\n",
       "<style>\n",
       "    .dataframe thead tr:only-child th {\n",
       "        text-align: right;\n",
       "    }\n",
       "\n",
       "    .dataframe thead th {\n",
       "        text-align: left;\n",
       "    }\n",
       "\n",
       "    .dataframe tbody tr th {\n",
       "        vertical-align: top;\n",
       "    }\n",
       "</style>\n",
       "<table border=\"1\" class=\"dataframe\">\n",
       "  <thead>\n",
       "    <tr style=\"text-align: right;\">\n",
       "      <th></th>\n",
       "      <th>state_fips</th>\n",
       "      <th>state</th>\n",
       "      <th>state_abbr</th>\n",
       "      <th>Provider Zip Code</th>\n",
       "      <th>county</th>\n",
       "      <th>city</th>\n",
       "    </tr>\n",
       "  </thead>\n",
       "  <tbody>\n",
       "    <tr>\n",
       "      <th>6624</th>\n",
       "      <td>17</td>\n",
       "      <td>Illinois</td>\n",
       "      <td>IL</td>\n",
       "      <td>52761</td>\n",
       "      <td>Rock Island</td>\n",
       "      <td>NaN</td>\n",
       "    </tr>\n",
       "    <tr>\n",
       "      <th>9728</th>\n",
       "      <td>19</td>\n",
       "      <td>Iowa</td>\n",
       "      <td>IA</td>\n",
       "      <td>52761</td>\n",
       "      <td>Muscatine</td>\n",
       "      <td>Muscatine</td>\n",
       "    </tr>\n",
       "  </tbody>\n",
       "</table>\n",
       "</div>"
      ],
      "text/plain": [
       "     state_fips     state state_abbr Provider Zip Code       county       city\n",
       "6624         17  Illinois         IL             52761  Rock Island        NaN\n",
       "9728         19      Iowa         IA             52761    Muscatine  Muscatine"
      ]
     },
     "execution_count": 20,
     "metadata": {},
     "output_type": "execute_result"
    }
   ],
   "source": [
    "zip_codes[zip_codes['Provider Zip Code']=='52761']"
   ]
  },
  {
   "cell_type": "code",
   "execution_count": 21,
   "metadata": {
    "collapsed": false
   },
   "outputs": [
    {
     "data": {
      "text/plain": [
       "163065"
      ]
     },
     "execution_count": 21,
     "metadata": {},
     "output_type": "execute_result"
    }
   ],
   "source": [
    "len(df)"
   ]
  },
  {
   "cell_type": "code",
   "execution_count": 22,
   "metadata": {
    "collapsed": false
   },
   "outputs": [
    {
     "data": {
      "text/plain": [
       "163166"
      ]
     },
     "execution_count": 22,
     "metadata": {},
     "output_type": "execute_result"
    }
   ],
   "source": [
    "len(df_merged)"
   ]
  },
  {
   "cell_type": "code",
   "execution_count": 23,
   "metadata": {
    "collapsed": false
   },
   "outputs": [
    {
     "data": {
      "text/html": [
       "<div>\n",
       "<style>\n",
       "    .dataframe thead tr:only-child th {\n",
       "        text-align: right;\n",
       "    }\n",
       "\n",
       "    .dataframe thead th {\n",
       "        text-align: left;\n",
       "    }\n",
       "\n",
       "    .dataframe tbody tr th {\n",
       "        vertical-align: top;\n",
       "    }\n",
       "</style>\n",
       "<table border=\"1\" class=\"dataframe\">\n",
       "  <thead>\n",
       "    <tr style=\"text-align: right;\">\n",
       "      <th></th>\n",
       "      <th>DRG Definition</th>\n",
       "      <th>Provider Id</th>\n",
       "      <th>Provider Name</th>\n",
       "      <th>Provider Street Address</th>\n",
       "      <th>Provider Zip Code</th>\n",
       "      <th>Hospital Referral Region Description</th>\n",
       "      <th>Total Discharges</th>\n",
       "      <th>Average Covered Charges</th>\n",
       "      <th>Average Total Payments</th>\n",
       "      <th>Average Medicare Payments</th>\n",
       "      <th>state_fips</th>\n",
       "      <th>state</th>\n",
       "      <th>state_abbr</th>\n",
       "      <th>county</th>\n",
       "      <th>city</th>\n",
       "    </tr>\n",
       "  </thead>\n",
       "  <tbody>\n",
       "    <tr>\n",
       "      <th>0</th>\n",
       "      <td>039 - EXTRACRANIAL PROCEDURES W/O CC/MCC</td>\n",
       "      <td>10001</td>\n",
       "      <td>SOUTHEAST ALABAMA MEDICAL CENTER</td>\n",
       "      <td>1108 ROSS CLARK CIRCLE</td>\n",
       "      <td>36301</td>\n",
       "      <td>AL - Dothan</td>\n",
       "      <td>91</td>\n",
       "      <td>32963.07</td>\n",
       "      <td>5777.24</td>\n",
       "      <td>4763.73</td>\n",
       "      <td>1</td>\n",
       "      <td>Alabama</td>\n",
       "      <td>AL</td>\n",
       "      <td>Houston</td>\n",
       "      <td>Taylor</td>\n",
       "    </tr>\n",
       "    <tr>\n",
       "      <th>1</th>\n",
       "      <td>039 - EXTRACRANIAL PROCEDURES W/O CC/MCC</td>\n",
       "      <td>10005</td>\n",
       "      <td>MARSHALL MEDICAL CENTER SOUTH</td>\n",
       "      <td>2505 U S HIGHWAY 431 NORTH</td>\n",
       "      <td>35957</td>\n",
       "      <td>AL - Birmingham</td>\n",
       "      <td>14</td>\n",
       "      <td>15131.85</td>\n",
       "      <td>5787.57</td>\n",
       "      <td>4976.71</td>\n",
       "      <td>1</td>\n",
       "      <td>Alabama</td>\n",
       "      <td>AL</td>\n",
       "      <td>Marshall</td>\n",
       "      <td>Boaz</td>\n",
       "    </tr>\n",
       "    <tr>\n",
       "      <th>2</th>\n",
       "      <td>039 - EXTRACRANIAL PROCEDURES W/O CC/MCC</td>\n",
       "      <td>10006</td>\n",
       "      <td>ELIZA COFFEE MEMORIAL HOSPITAL</td>\n",
       "      <td>205 MARENGO STREET</td>\n",
       "      <td>35631</td>\n",
       "      <td>AL - Birmingham</td>\n",
       "      <td>24</td>\n",
       "      <td>37560.37</td>\n",
       "      <td>5434.95</td>\n",
       "      <td>4453.79</td>\n",
       "      <td>NaN</td>\n",
       "      <td>NaN</td>\n",
       "      <td>NaN</td>\n",
       "      <td>NaN</td>\n",
       "      <td>NaN</td>\n",
       "    </tr>\n",
       "    <tr>\n",
       "      <th>3</th>\n",
       "      <td>039 - EXTRACRANIAL PROCEDURES W/O CC/MCC</td>\n",
       "      <td>10011</td>\n",
       "      <td>ST VINCENT'S EAST</td>\n",
       "      <td>50 MEDICAL PARK EAST DRIVE</td>\n",
       "      <td>35235</td>\n",
       "      <td>AL - Birmingham</td>\n",
       "      <td>25</td>\n",
       "      <td>13998.28</td>\n",
       "      <td>5417.56</td>\n",
       "      <td>4129.16</td>\n",
       "      <td>1</td>\n",
       "      <td>Alabama</td>\n",
       "      <td>AL</td>\n",
       "      <td>Jefferson</td>\n",
       "      <td>Center point</td>\n",
       "    </tr>\n",
       "    <tr>\n",
       "      <th>4</th>\n",
       "      <td>039 - EXTRACRANIAL PROCEDURES W/O CC/MCC</td>\n",
       "      <td>10016</td>\n",
       "      <td>SHELBY BAPTIST MEDICAL CENTER</td>\n",
       "      <td>1000 FIRST STREET NORTH</td>\n",
       "      <td>35007</td>\n",
       "      <td>AL - Birmingham</td>\n",
       "      <td>18</td>\n",
       "      <td>31633.27</td>\n",
       "      <td>5658.33</td>\n",
       "      <td>4851.44</td>\n",
       "      <td>1</td>\n",
       "      <td>Alabama</td>\n",
       "      <td>AL</td>\n",
       "      <td>Shelby</td>\n",
       "      <td>Keystone</td>\n",
       "    </tr>\n",
       "  </tbody>\n",
       "</table>\n",
       "</div>"
      ],
      "text/plain": [
       "                             DRG Definition Provider Id  \\\n",
       "0  039 - EXTRACRANIAL PROCEDURES W/O CC/MCC       10001   \n",
       "1  039 - EXTRACRANIAL PROCEDURES W/O CC/MCC       10005   \n",
       "2  039 - EXTRACRANIAL PROCEDURES W/O CC/MCC       10006   \n",
       "3  039 - EXTRACRANIAL PROCEDURES W/O CC/MCC       10011   \n",
       "4  039 - EXTRACRANIAL PROCEDURES W/O CC/MCC       10016   \n",
       "\n",
       "                      Provider Name     Provider Street Address  \\\n",
       "0  SOUTHEAST ALABAMA MEDICAL CENTER      1108 ROSS CLARK CIRCLE   \n",
       "1     MARSHALL MEDICAL CENTER SOUTH  2505 U S HIGHWAY 431 NORTH   \n",
       "2    ELIZA COFFEE MEMORIAL HOSPITAL          205 MARENGO STREET   \n",
       "3                 ST VINCENT'S EAST  50 MEDICAL PARK EAST DRIVE   \n",
       "4     SHELBY BAPTIST MEDICAL CENTER     1000 FIRST STREET NORTH   \n",
       "\n",
       "  Provider Zip Code Hospital Referral Region Description  Total Discharges  \\\n",
       "0             36301                          AL - Dothan                91   \n",
       "1             35957                      AL - Birmingham                14   \n",
       "2             35631                      AL - Birmingham                24   \n",
       "3             35235                      AL - Birmingham                25   \n",
       "4             35007                      AL - Birmingham                18   \n",
       "\n",
       "   Average Covered Charges  Average Total Payments  Average Medicare Payments  \\\n",
       "0                 32963.07                 5777.24                    4763.73   \n",
       "1                 15131.85                 5787.57                    4976.71   \n",
       "2                 37560.37                 5434.95                    4453.79   \n",
       "3                 13998.28                 5417.56                    4129.16   \n",
       "4                 31633.27                 5658.33                    4851.44   \n",
       "\n",
       "  state_fips    state state_abbr     county          city  \n",
       "0          1  Alabama         AL    Houston        Taylor  \n",
       "1          1  Alabama         AL   Marshall          Boaz  \n",
       "2        NaN      NaN        NaN        NaN           NaN  \n",
       "3          1  Alabama         AL  Jefferson  Center point  \n",
       "4          1  Alabama         AL     Shelby      Keystone  "
      ]
     },
     "execution_count": 23,
     "metadata": {},
     "output_type": "execute_result"
    }
   ],
   "source": [
    "df_merged.head()"
   ]
  },
  {
   "cell_type": "code",
   "execution_count": 24,
   "metadata": {
    "collapsed": false
   },
   "outputs": [
    {
     "data": {
      "text/plain": [
       "14262"
      ]
     },
     "execution_count": 24,
     "metadata": {},
     "output_type": "execute_result"
    }
   ],
   "source": [
    "len(df_merged[df_merged.state.isnull()])"
   ]
  },
  {
   "cell_type": "code",
   "execution_count": 25,
   "metadata": {
    "collapsed": false
   },
   "outputs": [
    {
     "data": {
      "text/plain": [
       "14262"
      ]
     },
     "execution_count": 25,
     "metadata": {},
     "output_type": "execute_result"
    }
   ],
   "source": [
    "len(df_merged[df_merged.state_abbr.isnull()])"
   ]
  },
  {
   "cell_type": "code",
   "execution_count": 26,
   "metadata": {
    "collapsed": false
   },
   "outputs": [
    {
     "data": {
      "text/plain": [
       "14262"
      ]
     },
     "execution_count": 26,
     "metadata": {},
     "output_type": "execute_result"
    }
   ],
   "source": [
    "len(df_merged[df_merged.county.isnull()])"
   ]
  },
  {
   "cell_type": "code",
   "execution_count": 27,
   "metadata": {
    "collapsed": false
   },
   "outputs": [
    {
     "data": {
      "text/plain": [
       "14363"
      ]
     },
     "execution_count": 27,
     "metadata": {},
     "output_type": "execute_result"
    }
   ],
   "source": [
    "len(df_merged[df_merged.city.isnull()])"
   ]
  },
  {
   "cell_type": "markdown",
   "metadata": {},
   "source": [
    "Get the state_abbr from the column 'Hospital Referral Region Description' letters in front of the '-'. Use a lambda function to split the characters \"AL - Dothan\", then take the first part."
   ]
  },
  {
   "cell_type": "code",
   "execution_count": 28,
   "metadata": {
    "collapsed": false
   },
   "outputs": [
    {
     "data": {
      "text/plain": [
       "0    AL\n",
       "1    AL\n",
       "2    AL\n",
       "3    AL\n",
       "4    AL\n",
       "Name: Hospital Referral Region Description, dtype: object"
      ]
     },
     "execution_count": 28,
     "metadata": {},
     "output_type": "execute_result"
    }
   ],
   "source": [
    "df_merged['Hospital Referral Region Description'].apply(lambda x: x.split(' - ')[0])[0:5]"
   ]
  },
  {
   "cell_type": "code",
   "execution_count": 29,
   "metadata": {
    "collapsed": false
   },
   "outputs": [],
   "source": [
    "df_merged.loc[df_merged.state.isnull(), 'state_abbr'] = df_merged[\n",
    "    'Hospital Referral Region Description'].apply(lambda x : x.split(\" - \")[0])"
   ]
  },
  {
   "cell_type": "markdown",
   "metadata": {},
   "source": [
    "Wait for few seconds, then check whether we still have 'state_abbr' is null "
   ]
  },
  {
   "cell_type": "code",
   "execution_count": 30,
   "metadata": {
    "collapsed": false
   },
   "outputs": [
    {
     "data": {
      "text/plain": [
       "0"
      ]
     },
     "execution_count": 30,
     "metadata": {},
     "output_type": "execute_result"
    }
   ],
   "source": [
    "len(df_merged[df_merged.state_abbr.isnull()])"
   ]
  },
  {
   "cell_type": "markdown",
   "metadata": {},
   "source": [
    "Before fill in the missing 'state' , we can answer the question already."
   ]
  },
  {
   "cell_type": "code",
   "execution_count": 31,
   "metadata": {
    "collapsed": false
   },
   "outputs": [],
   "source": [
    "df_SantaClara=df_merged[df_merged.county=='Santa Clara']"
   ]
  },
  {
   "cell_type": "code",
   "execution_count": 32,
   "metadata": {
    "collapsed": false
   },
   "outputs": [
    {
     "data": {
      "text/plain": [
       "city\n",
       "Gilroy            31\n",
       "Mountain view     81\n",
       "San jose         285\n",
       "Santa clara        8\n",
       "Stanford          87\n",
       "Name: DRG Definition, dtype: int64"
      ]
     },
     "execution_count": 32,
     "metadata": {},
     "output_type": "execute_result"
    }
   ],
   "source": [
    "df_SantaClara.groupby('city')['DRG Definition'].count()"
   ]
  },
  {
   "cell_type": "markdown",
   "metadata": {},
   "source": [
    "Now we have the state_abbr from 1st DataFrame, need to refer to original zip_codes based on state_abbr then find the state name."
   ]
  },
  {
   "cell_type": "code",
   "execution_count": 33,
   "metadata": {
    "collapsed": true
   },
   "outputs": [],
   "source": [
    "zip_codes_temp = zip_codes[['state','state_abbr']]"
   ]
  },
  {
   "cell_type": "code",
   "execution_count": 34,
   "metadata": {
    "collapsed": true
   },
   "outputs": [],
   "source": [
    "d = dict(zip(zip_codes_temp.state_abbr, zip_codes_temp.state))"
   ]
  },
  {
   "cell_type": "code",
   "execution_count": 35,
   "metadata": {
    "collapsed": false
   },
   "outputs": [
    {
     "data": {
      "text/plain": [
       "{'AK': 'Alaska',\n",
       " 'AL': 'Alabama',\n",
       " 'AR': 'Arkansas',\n",
       " 'AZ': 'Arizona',\n",
       " 'CA': 'California',\n",
       " 'CO': 'Colorado',\n",
       " 'CT': 'Connecticut',\n",
       " 'DC': 'District of columbia',\n",
       " 'DE': 'Delaware',\n",
       " 'FL': 'Florida',\n",
       " 'GA': 'Georgia',\n",
       " 'HI': 'Hawaii',\n",
       " 'IA': 'Iowa',\n",
       " 'ID': 'Idaho',\n",
       " 'IL': 'Illinois',\n",
       " 'IN': 'Indiana',\n",
       " 'KS': 'Kansas',\n",
       " 'KY': 'Kentucky',\n",
       " 'LA': 'Louisiana',\n",
       " 'MA': 'Massachusetts',\n",
       " 'MD': 'Maryland',\n",
       " 'ME': 'Maine',\n",
       " 'MI': 'Michigan',\n",
       " 'MN': 'Minnesota',\n",
       " 'MO': 'Missouri',\n",
       " 'MS': 'Mississippi',\n",
       " 'MT': 'Montana',\n",
       " 'NC': 'North carolina',\n",
       " 'ND': 'North dakota',\n",
       " 'NE': 'Nebraska',\n",
       " 'NH': 'New hampshire',\n",
       " 'NJ': 'New jersey',\n",
       " 'NM': 'New mexico',\n",
       " 'NV': 'Nevada',\n",
       " 'NY': 'New york',\n",
       " 'OH': 'Ohio',\n",
       " 'OK': 'Oklahoma',\n",
       " 'OR': 'Oregon',\n",
       " 'PA': 'Pennsylvania',\n",
       " 'RI': 'Rhode island',\n",
       " 'SC': 'South carolina',\n",
       " 'SD': 'South dakota',\n",
       " 'TN': 'Tennessee',\n",
       " 'TX': 'Texas',\n",
       " 'UT': 'Utah',\n",
       " 'VA': 'Virginia',\n",
       " 'VT': 'Vermont',\n",
       " 'WA': 'Washington',\n",
       " 'WI': 'Wisconsin',\n",
       " 'WV': 'West virginia',\n",
       " 'WY': 'Wyoming'}"
      ]
     },
     "execution_count": 35,
     "metadata": {},
     "output_type": "execute_result"
    }
   ],
   "source": [
    "d"
   ]
  },
  {
   "cell_type": "markdown",
   "metadata": {
    "collapsed": true
   },
   "source": [
    "Or ....  \n",
    "\n",
    "d = zip_codes_temp.set_index('state_abbr').T.to_dict('list')\n",
    "\n",
    "df_merged.loc[df_merged.state.isnull(), 'state']= df_merged['state_abbr'].apply(lambda x: d[x][0])"
   ]
  },
  {
   "cell_type": "markdown",
   "metadata": {},
   "source": [
    "check how many 'state' are still null"
   ]
  },
  {
   "cell_type": "code",
   "execution_count": 36,
   "metadata": {
    "collapsed": false
   },
   "outputs": [
    {
     "data": {
      "text/plain": [
       "14262"
      ]
     },
     "execution_count": 36,
     "metadata": {},
     "output_type": "execute_result"
    }
   ],
   "source": [
    "len(df_merged[df_merged.state.isnull()])"
   ]
  },
  {
   "cell_type": "code",
   "execution_count": 37,
   "metadata": {
    "collapsed": false
   },
   "outputs": [],
   "source": [
    "df_merged.loc[df_merged.state.isnull(), 'state']= df_merged['state_abbr'].apply(lambda x: d[x])"
   ]
  },
  {
   "cell_type": "markdown",
   "metadata": {},
   "source": [
    "check how many 'state' are still null"
   ]
  },
  {
   "cell_type": "code",
   "execution_count": 55,
   "metadata": {
    "collapsed": false
   },
   "outputs": [
    {
     "data": {
      "text/plain": [
       "0"
      ]
     },
     "execution_count": 55,
     "metadata": {},
     "output_type": "execute_result"
    }
   ],
   "source": [
    "len(df_merged[df_merged.state.isnull()])"
   ]
  },
  {
   "cell_type": "code",
   "execution_count": 57,
   "metadata": {
    "collapsed": false,
    "scrolled": true
   },
   "outputs": [
    {
     "data": {
      "text/html": [
       "<div>\n",
       "<style>\n",
       "    .dataframe thead tr:only-child th {\n",
       "        text-align: right;\n",
       "    }\n",
       "\n",
       "    .dataframe thead th {\n",
       "        text-align: left;\n",
       "    }\n",
       "\n",
       "    .dataframe tbody tr th {\n",
       "        vertical-align: top;\n",
       "    }\n",
       "</style>\n",
       "<table border=\"1\" class=\"dataframe\">\n",
       "  <thead>\n",
       "    <tr style=\"text-align: right;\">\n",
       "      <th></th>\n",
       "      <th>DRG Definition</th>\n",
       "      <th>Provider Id</th>\n",
       "      <th>Provider Name</th>\n",
       "      <th>Provider Street Address</th>\n",
       "      <th>Provider Zip Code</th>\n",
       "      <th>Hospital Referral Region Description</th>\n",
       "      <th>Total Discharges</th>\n",
       "      <th>Average Covered Charges</th>\n",
       "      <th>Average Total Payments</th>\n",
       "      <th>Average Medicare Payments</th>\n",
       "      <th>state_fips</th>\n",
       "      <th>state</th>\n",
       "      <th>state_abbr</th>\n",
       "      <th>county</th>\n",
       "      <th>city</th>\n",
       "    </tr>\n",
       "  </thead>\n",
       "  <tbody>\n",
       "    <tr>\n",
       "      <th>0</th>\n",
       "      <td>039 - EXTRACRANIAL PROCEDURES W/O CC/MCC</td>\n",
       "      <td>10001</td>\n",
       "      <td>SOUTHEAST ALABAMA MEDICAL CENTER</td>\n",
       "      <td>1108 ROSS CLARK CIRCLE</td>\n",
       "      <td>36301</td>\n",
       "      <td>AL - Dothan</td>\n",
       "      <td>91</td>\n",
       "      <td>32963.07</td>\n",
       "      <td>5777.24</td>\n",
       "      <td>4763.73</td>\n",
       "      <td>1</td>\n",
       "      <td>Alabama</td>\n",
       "      <td>AL</td>\n",
       "      <td>Houston</td>\n",
       "      <td>Taylor</td>\n",
       "    </tr>\n",
       "    <tr>\n",
       "      <th>1</th>\n",
       "      <td>039 - EXTRACRANIAL PROCEDURES W/O CC/MCC</td>\n",
       "      <td>10005</td>\n",
       "      <td>MARSHALL MEDICAL CENTER SOUTH</td>\n",
       "      <td>2505 U S HIGHWAY 431 NORTH</td>\n",
       "      <td>35957</td>\n",
       "      <td>AL - Birmingham</td>\n",
       "      <td>14</td>\n",
       "      <td>15131.85</td>\n",
       "      <td>5787.57</td>\n",
       "      <td>4976.71</td>\n",
       "      <td>1</td>\n",
       "      <td>Alabama</td>\n",
       "      <td>AL</td>\n",
       "      <td>Marshall</td>\n",
       "      <td>Boaz</td>\n",
       "    </tr>\n",
       "    <tr>\n",
       "      <th>2</th>\n",
       "      <td>039 - EXTRACRANIAL PROCEDURES W/O CC/MCC</td>\n",
       "      <td>10006</td>\n",
       "      <td>ELIZA COFFEE MEMORIAL HOSPITAL</td>\n",
       "      <td>205 MARENGO STREET</td>\n",
       "      <td>35631</td>\n",
       "      <td>AL - Birmingham</td>\n",
       "      <td>24</td>\n",
       "      <td>37560.37</td>\n",
       "      <td>5434.95</td>\n",
       "      <td>4453.79</td>\n",
       "      <td>NaN</td>\n",
       "      <td>Alabama</td>\n",
       "      <td>AL</td>\n",
       "      <td>NaN</td>\n",
       "      <td>NaN</td>\n",
       "    </tr>\n",
       "    <tr>\n",
       "      <th>3</th>\n",
       "      <td>039 - EXTRACRANIAL PROCEDURES W/O CC/MCC</td>\n",
       "      <td>10011</td>\n",
       "      <td>ST VINCENT'S EAST</td>\n",
       "      <td>50 MEDICAL PARK EAST DRIVE</td>\n",
       "      <td>35235</td>\n",
       "      <td>AL - Birmingham</td>\n",
       "      <td>25</td>\n",
       "      <td>13998.28</td>\n",
       "      <td>5417.56</td>\n",
       "      <td>4129.16</td>\n",
       "      <td>1</td>\n",
       "      <td>Alabama</td>\n",
       "      <td>AL</td>\n",
       "      <td>Jefferson</td>\n",
       "      <td>Center point</td>\n",
       "    </tr>\n",
       "    <tr>\n",
       "      <th>4</th>\n",
       "      <td>039 - EXTRACRANIAL PROCEDURES W/O CC/MCC</td>\n",
       "      <td>10016</td>\n",
       "      <td>SHELBY BAPTIST MEDICAL CENTER</td>\n",
       "      <td>1000 FIRST STREET NORTH</td>\n",
       "      <td>35007</td>\n",
       "      <td>AL - Birmingham</td>\n",
       "      <td>18</td>\n",
       "      <td>31633.27</td>\n",
       "      <td>5658.33</td>\n",
       "      <td>4851.44</td>\n",
       "      <td>1</td>\n",
       "      <td>Alabama</td>\n",
       "      <td>AL</td>\n",
       "      <td>Shelby</td>\n",
       "      <td>Keystone</td>\n",
       "    </tr>\n",
       "  </tbody>\n",
       "</table>\n",
       "</div>"
      ],
      "text/plain": [
       "                             DRG Definition Provider Id  \\\n",
       "0  039 - EXTRACRANIAL PROCEDURES W/O CC/MCC       10001   \n",
       "1  039 - EXTRACRANIAL PROCEDURES W/O CC/MCC       10005   \n",
       "2  039 - EXTRACRANIAL PROCEDURES W/O CC/MCC       10006   \n",
       "3  039 - EXTRACRANIAL PROCEDURES W/O CC/MCC       10011   \n",
       "4  039 - EXTRACRANIAL PROCEDURES W/O CC/MCC       10016   \n",
       "\n",
       "                      Provider Name     Provider Street Address  \\\n",
       "0  SOUTHEAST ALABAMA MEDICAL CENTER      1108 ROSS CLARK CIRCLE   \n",
       "1     MARSHALL MEDICAL CENTER SOUTH  2505 U S HIGHWAY 431 NORTH   \n",
       "2    ELIZA COFFEE MEMORIAL HOSPITAL          205 MARENGO STREET   \n",
       "3                 ST VINCENT'S EAST  50 MEDICAL PARK EAST DRIVE   \n",
       "4     SHELBY BAPTIST MEDICAL CENTER     1000 FIRST STREET NORTH   \n",
       "\n",
       "  Provider Zip Code Hospital Referral Region Description  Total Discharges  \\\n",
       "0             36301                          AL - Dothan                91   \n",
       "1             35957                      AL - Birmingham                14   \n",
       "2             35631                      AL - Birmingham                24   \n",
       "3             35235                      AL - Birmingham                25   \n",
       "4             35007                      AL - Birmingham                18   \n",
       "\n",
       "   Average Covered Charges  Average Total Payments  Average Medicare Payments  \\\n",
       "0                 32963.07                 5777.24                    4763.73   \n",
       "1                 15131.85                 5787.57                    4976.71   \n",
       "2                 37560.37                 5434.95                    4453.79   \n",
       "3                 13998.28                 5417.56                    4129.16   \n",
       "4                 31633.27                 5658.33                    4851.44   \n",
       "\n",
       "  state_fips    state state_abbr     county          city  \n",
       "0          1  Alabama         AL    Houston        Taylor  \n",
       "1          1  Alabama         AL   Marshall          Boaz  \n",
       "2        NaN  Alabama         AL        NaN           NaN  \n",
       "3          1  Alabama         AL  Jefferson  Center point  \n",
       "4          1  Alabama         AL     Shelby      Keystone  "
      ]
     },
     "execution_count": 57,
     "metadata": {},
     "output_type": "execute_result"
    }
   ],
   "source": [
    "df_merged.head()"
   ]
  },
  {
   "cell_type": "markdown",
   "metadata": {
    "editable": true
   },
   "source": [
    "## Q4\n",
    "4.1 Identify five hospitals and show the hospital name, city and state information that offer lowest spending on lung disease treatment \n",
    "\n",
    "hint 1: there are two keywords can be used to find all 'lung' diseases. \n",
    "\n",
    "hint 2: do not include any RESPIRATORY SYSTEM diseases."
   ]
  },
  {
   "cell_type": "code",
   "execution_count": 39,
   "metadata": {
    "collapsed": true
   },
   "outputs": [],
   "source": [
    "df_lung = df_merged[(df_merged['DRG Definition'].str.contains('PULMONARY')) | (\n",
    "        df_merged['DRG Definition'].str.contains('PNEUMONIA'))]"
   ]
  },
  {
   "cell_type": "markdown",
   "metadata": {},
   "source": [
    "#### If use 'Average Total Payments'"
   ]
  },
  {
   "cell_type": "code",
   "execution_count": 72,
   "metadata": {
    "collapsed": false,
    "scrolled": true
   },
   "outputs": [
    {
     "data": {
      "text/plain": [
       "Provider Name                 city           state   \n",
       "BULLOCK COUNTY HOSPITAL       Union springs  Alabama     4005.230000\n",
       "GROVE HILL MEMORIAL HOSPITAL  Grove hill     Alabama     4114.536667\n",
       "SARTORI MEMORIAL HOSPITAL     Cedar falls    Iowa        4309.490000\n",
       "JACKSON MEDICAL CENTER        Jackson        Alabama     4320.563333\n",
       "ST JOHN OWASSO                Owasso         Oklahoma    4321.625000\n",
       "Name: Average Total Payments, dtype: float64"
      ]
     },
     "execution_count": 72,
     "metadata": {},
     "output_type": "execute_result"
    }
   ],
   "source": [
    "df_lung.groupby(['Provider Name','city','state'])[\n",
    "                'Average Total Payments'].mean().sort_values().head()"
   ]
  },
  {
   "cell_type": "markdown",
   "metadata": {},
   "source": [
    "#### If use 'Average Covered Payments'"
   ]
  },
  {
   "cell_type": "code",
   "execution_count": 40,
   "metadata": {
    "collapsed": false
   },
   "outputs": [
    {
     "data": {
      "text/plain": [
       "Provider Name                 city             state      \n",
       "LAKE WHITNEY MEDICAL CENTER   Bonanza          Texas          4309.226667\n",
       "YALOBUSHA GENERAL HOSPITAL    Water valley     Mississippi    4589.325000\n",
       "J PAUL JONES HOSPITAL         Camden           Alabama        4616.580000\n",
       "EAST CARROLL PARISH HOSPITAL  Lake providence  Louisiana      4765.640000\n",
       "KILMICHAEL HOSPITAL           Kilmichael       Mississippi    4896.420000\n",
       "Name: Average Covered Charges, dtype: float64"
      ]
     },
     "execution_count": 40,
     "metadata": {},
     "output_type": "execute_result"
    }
   ],
   "source": [
    "df_lung.groupby(['Provider Name','city','state'])[\n",
    "                'Average Covered Charges'].mean().sort_values().head()"
   ]
  },
  {
   "cell_type": "markdown",
   "metadata": {
    "deletable": true,
    "editable": true
   },
   "source": [
    "## Q5"
   ]
  },
  {
   "cell_type": "markdown",
   "metadata": {
    "editable": true
   },
   "source": [
    "For a patient who has \"misc disorders of nutrition,metabolism,fluids/electrolytes\", which hospital across the whole United States will be able to offer the lowest cost from average total payments point of view.\n",
    "\n",
    "5.1 Please find that hospital."
   ]
  },
  {
   "cell_type": "code",
   "execution_count": 41,
   "metadata": {
    "collapsed": true
   },
   "outputs": [],
   "source": [
    "P_sympton = \"misc disorders of nutrition,metabolism,fluids/electrolytes\".upper()\n"
   ]
  },
  {
   "cell_type": "code",
   "execution_count": 42,
   "metadata": {
    "collapsed": false
   },
   "outputs": [],
   "source": [
    "df_P_sympton = df_merged[df_merged['DRG Definition'].str.contains(P_sympton)]\n"
   ]
  },
  {
   "cell_type": "code",
   "execution_count": 43,
   "metadata": {
    "collapsed": false,
    "scrolled": true
   },
   "outputs": [
    {
     "data": {
      "text/html": [
       "<div>\n",
       "<style>\n",
       "    .dataframe thead tr:only-child th {\n",
       "        text-align: right;\n",
       "    }\n",
       "\n",
       "    .dataframe thead th {\n",
       "        text-align: left;\n",
       "    }\n",
       "\n",
       "    .dataframe tbody tr th {\n",
       "        vertical-align: top;\n",
       "    }\n",
       "</style>\n",
       "<table border=\"1\" class=\"dataframe\">\n",
       "  <thead>\n",
       "    <tr style=\"text-align: right;\">\n",
       "      <th></th>\n",
       "      <th>DRG Definition</th>\n",
       "      <th>Provider Id</th>\n",
       "      <th>Provider Name</th>\n",
       "      <th>Provider Street Address</th>\n",
       "      <th>Provider Zip Code</th>\n",
       "      <th>Hospital Referral Region Description</th>\n",
       "      <th>Total Discharges</th>\n",
       "      <th>Average Covered Charges</th>\n",
       "      <th>Average Total Payments</th>\n",
       "      <th>Average Medicare Payments</th>\n",
       "      <th>state_fips</th>\n",
       "      <th>state</th>\n",
       "      <th>state_abbr</th>\n",
       "      <th>county</th>\n",
       "      <th>city</th>\n",
       "    </tr>\n",
       "  </thead>\n",
       "  <tbody>\n",
       "    <tr>\n",
       "      <th>134051</th>\n",
       "      <td>641 - MISC DISORDERS OF NUTRITION,METABOLISM,F...</td>\n",
       "      <td>510023</td>\n",
       "      <td>WEIRTON MEDICAL CENTER</td>\n",
       "      <td>601 COLLIERS WAY</td>\n",
       "      <td>26062</td>\n",
       "      <td>PA - Pittsburgh</td>\n",
       "      <td>27</td>\n",
       "      <td>6899.44</td>\n",
       "      <td>3286.11</td>\n",
       "      <td>2409.22</td>\n",
       "      <td>54</td>\n",
       "      <td>West virginia</td>\n",
       "      <td>WV</td>\n",
       "      <td>Hancock</td>\n",
       "      <td>Weirton</td>\n",
       "    </tr>\n",
       "  </tbody>\n",
       "</table>\n",
       "</div>"
      ],
      "text/plain": [
       "                                           DRG Definition Provider Id  \\\n",
       "134051  641 - MISC DISORDERS OF NUTRITION,METABOLISM,F...      510023   \n",
       "\n",
       "                 Provider Name Provider Street Address Provider Zip Code  \\\n",
       "134051  WEIRTON MEDICAL CENTER        601 COLLIERS WAY             26062   \n",
       "\n",
       "       Hospital Referral Region Description  Total Discharges  \\\n",
       "134051                      PA - Pittsburgh                27   \n",
       "\n",
       "        Average Covered Charges  Average Total Payments  \\\n",
       "134051                  6899.44                 3286.11   \n",
       "\n",
       "        Average Medicare Payments state_fips          state state_abbr  \\\n",
       "134051                    2409.22         54  West virginia         WV   \n",
       "\n",
       "         county     city  \n",
       "134051  Hancock  Weirton  "
      ]
     },
     "execution_count": 43,
     "metadata": {},
     "output_type": "execute_result"
    }
   ],
   "source": [
    "df_P_sympton[df_P_sympton['Average Total Payments'] ==\n",
    "             df_P_sympton['Average Total Payments'].min()]"
   ]
  },
  {
   "cell_type": "code",
   "execution_count": 44,
   "metadata": {
    "collapsed": false,
    "scrolled": true
   },
   "outputs": [
    {
     "data": {
      "text/plain": [
       "'WEIRTON MEDICAL CENTER'"
      ]
     },
     "execution_count": 44,
     "metadata": {},
     "output_type": "execute_result"
    }
   ],
   "source": [
    "df_P_sympton[df_P_sympton['Average Total Payments'] ==\n",
    "             df_P_sympton['Average Total Payments'].min()]['Provider Name'].values[0]"
   ]
  },
  {
   "cell_type": "markdown",
   "metadata": {},
   "source": [
    "5.2 From 'Average Covered Charges' point of view, What's the ratio between the city with the highest average and the lowest average ?\n",
    "What are those two cities ?"
   ]
  },
  {
   "cell_type": "code",
   "execution_count": 45,
   "metadata": {
    "collapsed": false
   },
   "outputs": [],
   "source": [
    "nlargest_P = df_P_sympton.groupby('city')['Average Covered Charges'].mean().nlargest(1)"
   ]
  },
  {
   "cell_type": "code",
   "execution_count": 46,
   "metadata": {
    "collapsed": false
   },
   "outputs": [],
   "source": [
    "nsmallest_P = df_P_sympton.groupby('city')['Average Covered Charges'].mean().nsmallest(1)"
   ]
  },
  {
   "cell_type": "code",
   "execution_count": 47,
   "metadata": {
    "collapsed": false
   },
   "outputs": [
    {
     "data": {
      "text/plain": [
       "33.969732375042149"
      ]
     },
     "execution_count": 47,
     "metadata": {},
     "output_type": "execute_result"
    }
   ],
   "source": [
    "nlargest_P.values[0]/nsmallest_P.values[0]"
   ]
  },
  {
   "cell_type": "code",
   "execution_count": 48,
   "metadata": {
    "collapsed": false
   },
   "outputs": [
    {
     "data": {
      "text/plain": [
       "'Stanford'"
      ]
     },
     "execution_count": 48,
     "metadata": {},
     "output_type": "execute_result"
    }
   ],
   "source": [
    "nlargest_P.index[0]"
   ]
  },
  {
   "cell_type": "code",
   "execution_count": 49,
   "metadata": {
    "collapsed": false
   },
   "outputs": [
    {
     "data": {
      "text/plain": [
       "'Dilley'"
      ]
     },
     "execution_count": 49,
     "metadata": {},
     "output_type": "execute_result"
    }
   ],
   "source": [
    "nsmallest_P.index[0]"
   ]
  },
  {
   "cell_type": "markdown",
   "metadata": {
    "editable": true
   },
   "source": [
    "## Q6 "
   ]
  },
  {
   "cell_type": "markdown",
   "metadata": {
    "deletable": true,
    "editable": true
   },
   "source": [
    "6.1 For California, which disease is the most costly one?"
   ]
  },
  {
   "cell_type": "code",
   "execution_count": 50,
   "metadata": {
    "collapsed": false
   },
   "outputs": [
    {
     "data": {
      "text/plain": [
       "DRG Definition\n",
       "870 - SEPTICEMIA OR SEVERE SEPSIS W MV 96+ HOURS    277004.642419\n",
       "Name: Average Covered Charges, dtype: float64"
      ]
     },
     "execution_count": 50,
     "metadata": {},
     "output_type": "execute_result"
    }
   ],
   "source": [
    "df_merged[df_merged.state == \"California\"].groupby('DRG Definition')['Average Covered Charges'].mean().sort_values(ascending=False).head(1)"
   ]
  },
  {
   "cell_type": "markdown",
   "metadata": {
    "deletable": true,
    "editable": true
   },
   "source": [
    "6.2 For each state, find the disease that is the most costly one"
   ]
  },
  {
   "cell_type": "code",
   "execution_count": 54,
   "metadata": {
    "collapsed": false
   },
   "outputs": [
    {
     "data": {
      "text/html": [
       "<div>\n",
       "<style>\n",
       "    .dataframe thead tr:only-child th {\n",
       "        text-align: right;\n",
       "    }\n",
       "\n",
       "    .dataframe thead th {\n",
       "        text-align: left;\n",
       "    }\n",
       "\n",
       "    .dataframe tbody tr th {\n",
       "        vertical-align: top;\n",
       "    }\n",
       "</style>\n",
       "<table border=\"1\" class=\"dataframe\">\n",
       "  <thead>\n",
       "    <tr style=\"text-align: right;\">\n",
       "      <th></th>\n",
       "      <th></th>\n",
       "      <th>Average Covered Charges</th>\n",
       "    </tr>\n",
       "    <tr>\n",
       "      <th>state</th>\n",
       "      <th>DRG Definition</th>\n",
       "      <th></th>\n",
       "    </tr>\n",
       "  </thead>\n",
       "  <tbody>\n",
       "    <tr>\n",
       "      <th>California</th>\n",
       "      <th>870 - SEPTICEMIA OR SEVERE SEPSIS W MV 96+ HOURS</th>\n",
       "      <td>277004.642419</td>\n",
       "    </tr>\n",
       "    <tr>\n",
       "      <th>Nevada</th>\n",
       "      <th>853 - INFECTIOUS &amp; PARASITIC DISEASES W O.R. PROCEDURE W MCC</th>\n",
       "      <td>257844.555000</td>\n",
       "    </tr>\n",
       "    <tr>\n",
       "      <th>New jersey</th>\n",
       "      <th>870 - SEPTICEMIA OR SEVERE SEPSIS W MV 96+ HOURS</th>\n",
       "      <td>247313.996667</td>\n",
       "    </tr>\n",
       "    <tr>\n",
       "      <th>Colorado</th>\n",
       "      <th>207 - RESPIRATORY SYSTEM DIAGNOSIS W VENTILATOR SUPPORT 96+ HOURS</th>\n",
       "      <td>218676.036000</td>\n",
       "    </tr>\n",
       "    <tr>\n",
       "      <th>Pennsylvania</th>\n",
       "      <th>870 - SEPTICEMIA OR SEVERE SEPSIS W MV 96+ HOURS</th>\n",
       "      <td>190952.952105</td>\n",
       "    </tr>\n",
       "    <tr>\n",
       "      <th>Alaska</th>\n",
       "      <th>870 - SEPTICEMIA OR SEVERE SEPSIS W MV 96+ HOURS</th>\n",
       "      <td>190709.900000</td>\n",
       "    </tr>\n",
       "    <tr>\n",
       "      <th>Florida</th>\n",
       "      <th>870 - SEPTICEMIA OR SEVERE SEPSIS W MV 96+ HOURS</th>\n",
       "      <td>181357.381429</td>\n",
       "    </tr>\n",
       "    <tr>\n",
       "      <th>Texas</th>\n",
       "      <th>870 - SEPTICEMIA OR SEVERE SEPSIS W MV 96+ HOURS</th>\n",
       "      <td>180563.502535</td>\n",
       "    </tr>\n",
       "    <tr>\n",
       "      <th>Kansas</th>\n",
       "      <th>870 - SEPTICEMIA OR SEVERE SEPSIS W MV 96+ HOURS</th>\n",
       "      <td>176302.070000</td>\n",
       "    </tr>\n",
       "    <tr>\n",
       "      <th>District of columbia</th>\n",
       "      <th>853 - INFECTIOUS &amp; PARASITIC DISEASES W O.R. PROCEDURE W MCC</th>\n",
       "      <td>172520.977500</td>\n",
       "    </tr>\n",
       "    <tr>\n",
       "      <th>South dakota</th>\n",
       "      <th>870 - SEPTICEMIA OR SEVERE SEPSIS W MV 96+ HOURS</th>\n",
       "      <td>172405.330000</td>\n",
       "    </tr>\n",
       "    <tr>\n",
       "      <th>Arizona</th>\n",
       "      <th>870 - SEPTICEMIA OR SEVERE SEPSIS W MV 96+ HOURS</th>\n",
       "      <td>170820.167500</td>\n",
       "    </tr>\n",
       "    <tr>\n",
       "      <th>Oklahoma</th>\n",
       "      <th>870 - SEPTICEMIA OR SEVERE SEPSIS W MV 96+ HOURS</th>\n",
       "      <td>167452.327273</td>\n",
       "    </tr>\n",
       "    <tr>\n",
       "      <th>Nebraska</th>\n",
       "      <th>853 - INFECTIOUS &amp; PARASITIC DISEASES W O.R. PROCEDURE W MCC</th>\n",
       "      <td>163205.201667</td>\n",
       "    </tr>\n",
       "    <tr>\n",
       "      <th>Alabama</th>\n",
       "      <th>207 - RESPIRATORY SYSTEM DIAGNOSIS W VENTILATOR SUPPORT 96+ HOURS</th>\n",
       "      <td>163033.033810</td>\n",
       "    </tr>\n",
       "    <tr>\n",
       "      <th>Minnesota</th>\n",
       "      <th>870 - SEPTICEMIA OR SEVERE SEPSIS W MV 96+ HOURS</th>\n",
       "      <td>158667.800000</td>\n",
       "    </tr>\n",
       "    <tr>\n",
       "      <th>South carolina</th>\n",
       "      <th>870 - SEPTICEMIA OR SEVERE SEPSIS W MV 96+ HOURS</th>\n",
       "      <td>157255.484000</td>\n",
       "    </tr>\n",
       "    <tr>\n",
       "      <th>Missouri</th>\n",
       "      <th>870 - SEPTICEMIA OR SEVERE SEPSIS W MV 96+ HOURS</th>\n",
       "      <td>156365.340435</td>\n",
       "    </tr>\n",
       "    <tr>\n",
       "      <th>Washington</th>\n",
       "      <th>870 - SEPTICEMIA OR SEVERE SEPSIS W MV 96+ HOURS</th>\n",
       "      <td>154381.747692</td>\n",
       "    </tr>\n",
       "    <tr>\n",
       "      <th>Oregon</th>\n",
       "      <th>870 - SEPTICEMIA OR SEVERE SEPSIS W MV 96+ HOURS</th>\n",
       "      <td>153319.652500</td>\n",
       "    </tr>\n",
       "    <tr>\n",
       "      <th>Rhode island</th>\n",
       "      <th>870 - SEPTICEMIA OR SEVERE SEPSIS W MV 96+ HOURS</th>\n",
       "      <td>146844.600000</td>\n",
       "    </tr>\n",
       "    <tr>\n",
       "      <th>Mississippi</th>\n",
       "      <th>329 - MAJOR SMALL &amp; LARGE BOWEL PROCEDURES W MCC</th>\n",
       "      <td>141065.992778</td>\n",
       "    </tr>\n",
       "    <tr>\n",
       "      <th>Louisiana</th>\n",
       "      <th>853 - INFECTIOUS &amp; PARASITIC DISEASES W O.R. PROCEDURE W MCC</th>\n",
       "      <td>140171.755200</td>\n",
       "    </tr>\n",
       "    <tr>\n",
       "      <th>Hawaii</th>\n",
       "      <th>329 - MAJOR SMALL &amp; LARGE BOWEL PROCEDURES W MCC</th>\n",
       "      <td>138147.285000</td>\n",
       "    </tr>\n",
       "    <tr>\n",
       "      <th>Georgia</th>\n",
       "      <th>870 - SEPTICEMIA OR SEVERE SEPSIS W MV 96+ HOURS</th>\n",
       "      <td>137265.971562</td>\n",
       "    </tr>\n",
       "    <tr>\n",
       "      <th>Illinois</th>\n",
       "      <th>870 - SEPTICEMIA OR SEVERE SEPSIS W MV 96+ HOURS</th>\n",
       "      <td>136386.289200</td>\n",
       "    </tr>\n",
       "    <tr>\n",
       "      <th>Tennessee</th>\n",
       "      <th>870 - SEPTICEMIA OR SEVERE SEPSIS W MV 96+ HOURS</th>\n",
       "      <td>135035.465000</td>\n",
       "    </tr>\n",
       "    <tr>\n",
       "      <th>Connecticut</th>\n",
       "      <th>207 - RESPIRATORY SYSTEM DIAGNOSIS W VENTILATOR SUPPORT 96+ HOURS</th>\n",
       "      <td>133246.514444</td>\n",
       "    </tr>\n",
       "    <tr>\n",
       "      <th>New mexico</th>\n",
       "      <th>207 - RESPIRATORY SYSTEM DIAGNOSIS W VENTILATOR SUPPORT 96+ HOURS</th>\n",
       "      <td>133136.320000</td>\n",
       "    </tr>\n",
       "    <tr>\n",
       "      <th>New hampshire</th>\n",
       "      <th>207 - RESPIRATORY SYSTEM DIAGNOSIS W VENTILATOR SUPPORT 96+ HOURS</th>\n",
       "      <td>132782.463333</td>\n",
       "    </tr>\n",
       "    <tr>\n",
       "      <th>Wyoming</th>\n",
       "      <th>853 - INFECTIOUS &amp; PARASITIC DISEASES W O.R. PROCEDURE W MCC</th>\n",
       "      <td>131640.840000</td>\n",
       "    </tr>\n",
       "    <tr>\n",
       "      <th>Virginia</th>\n",
       "      <th>870 - SEPTICEMIA OR SEVERE SEPSIS W MV 96+ HOURS</th>\n",
       "      <td>127637.295000</td>\n",
       "    </tr>\n",
       "    <tr>\n",
       "      <th>Wisconsin</th>\n",
       "      <th>207 - RESPIRATORY SYSTEM DIAGNOSIS W VENTILATOR SUPPORT 96+ HOURS</th>\n",
       "      <td>126561.048889</td>\n",
       "    </tr>\n",
       "    <tr>\n",
       "      <th>Indiana</th>\n",
       "      <th>870 - SEPTICEMIA OR SEVERE SEPSIS W MV 96+ HOURS</th>\n",
       "      <td>122649.482941</td>\n",
       "    </tr>\n",
       "    <tr>\n",
       "      <th>New york</th>\n",
       "      <th>870 - SEPTICEMIA OR SEVERE SEPSIS W MV 96+ HOURS</th>\n",
       "      <td>121972.016154</td>\n",
       "    </tr>\n",
       "    <tr>\n",
       "      <th>Ohio</th>\n",
       "      <th>870 - SEPTICEMIA OR SEVERE SEPSIS W MV 96+ HOURS</th>\n",
       "      <td>121413.748049</td>\n",
       "    </tr>\n",
       "    <tr>\n",
       "      <th>Iowa</th>\n",
       "      <th>207 - RESPIRATORY SYSTEM DIAGNOSIS W VENTILATOR SUPPORT 96+ HOURS</th>\n",
       "      <td>120564.112500</td>\n",
       "    </tr>\n",
       "    <tr>\n",
       "      <th>Idaho</th>\n",
       "      <th>870 - SEPTICEMIA OR SEVERE SEPSIS W MV 96+ HOURS</th>\n",
       "      <td>117492.085000</td>\n",
       "    </tr>\n",
       "    <tr>\n",
       "      <th>Kentucky</th>\n",
       "      <th>870 - SEPTICEMIA OR SEVERE SEPSIS W MV 96+ HOURS</th>\n",
       "      <td>115098.180000</td>\n",
       "    </tr>\n",
       "    <tr>\n",
       "      <th>Arkansas</th>\n",
       "      <th>329 - MAJOR SMALL &amp; LARGE BOWEL PROCEDURES W MCC</th>\n",
       "      <td>109527.821000</td>\n",
       "    </tr>\n",
       "    <tr>\n",
       "      <th>Delaware</th>\n",
       "      <th>853 - INFECTIOUS &amp; PARASITIC DISEASES W O.R. PROCEDURE W MCC</th>\n",
       "      <td>109214.490000</td>\n",
       "    </tr>\n",
       "    <tr>\n",
       "      <th>Maine</th>\n",
       "      <th>870 - SEPTICEMIA OR SEVERE SEPSIS W MV 96+ HOURS</th>\n",
       "      <td>108023.815000</td>\n",
       "    </tr>\n",
       "    <tr>\n",
       "      <th>Utah</th>\n",
       "      <th>870 - SEPTICEMIA OR SEVERE SEPSIS W MV 96+ HOURS</th>\n",
       "      <td>105081.870000</td>\n",
       "    </tr>\n",
       "    <tr>\n",
       "      <th>North carolina</th>\n",
       "      <th>870 - SEPTICEMIA OR SEVERE SEPSIS W MV 96+ HOURS</th>\n",
       "      <td>101465.634000</td>\n",
       "    </tr>\n",
       "    <tr>\n",
       "      <th>Michigan</th>\n",
       "      <th>870 - SEPTICEMIA OR SEVERE SEPSIS W MV 96+ HOURS</th>\n",
       "      <td>98790.946389</td>\n",
       "    </tr>\n",
       "    <tr>\n",
       "      <th>Massachusetts</th>\n",
       "      <th>870 - SEPTICEMIA OR SEVERE SEPSIS W MV 96+ HOURS</th>\n",
       "      <td>98737.674545</td>\n",
       "    </tr>\n",
       "    <tr>\n",
       "      <th>North dakota</th>\n",
       "      <th>870 - SEPTICEMIA OR SEVERE SEPSIS W MV 96+ HOURS</th>\n",
       "      <td>93062.310000</td>\n",
       "    </tr>\n",
       "    <tr>\n",
       "      <th>Montana</th>\n",
       "      <th>853 - INFECTIOUS &amp; PARASITIC DISEASES W O.R. PROCEDURE W MCC</th>\n",
       "      <td>91724.287500</td>\n",
       "    </tr>\n",
       "    <tr>\n",
       "      <th>West virginia</th>\n",
       "      <th>870 - SEPTICEMIA OR SEVERE SEPSIS W MV 96+ HOURS</th>\n",
       "      <td>91167.078000</td>\n",
       "    </tr>\n",
       "    <tr>\n",
       "      <th>Vermont</th>\n",
       "      <th>207 - RESPIRATORY SYSTEM DIAGNOSIS W VENTILATOR SUPPORT 96+ HOURS</th>\n",
       "      <td>82623.185000</td>\n",
       "    </tr>\n",
       "    <tr>\n",
       "      <th>Maryland</th>\n",
       "      <th>870 - SEPTICEMIA OR SEVERE SEPSIS W MV 96+ HOURS</th>\n",
       "      <td>51667.938636</td>\n",
       "    </tr>\n",
       "  </tbody>\n",
       "</table>\n",
       "</div>"
      ],
      "text/plain": [
       "                                                                         Average Covered Charges\n",
       "state                DRG Definition                                                             \n",
       "California           870 - SEPTICEMIA OR SEVERE SEPSIS W MV 96+ HOURS              277004.642419\n",
       "Nevada               853 - INFECTIOUS & PARASITIC DISEASES W O.R. PR...            257844.555000\n",
       "New jersey           870 - SEPTICEMIA OR SEVERE SEPSIS W MV 96+ HOURS              247313.996667\n",
       "Colorado             207 - RESPIRATORY SYSTEM DIAGNOSIS W VENTILATOR...            218676.036000\n",
       "Pennsylvania         870 - SEPTICEMIA OR SEVERE SEPSIS W MV 96+ HOURS              190952.952105\n",
       "Alaska               870 - SEPTICEMIA OR SEVERE SEPSIS W MV 96+ HOURS              190709.900000\n",
       "Florida              870 - SEPTICEMIA OR SEVERE SEPSIS W MV 96+ HOURS              181357.381429\n",
       "Texas                870 - SEPTICEMIA OR SEVERE SEPSIS W MV 96+ HOURS              180563.502535\n",
       "Kansas               870 - SEPTICEMIA OR SEVERE SEPSIS W MV 96+ HOURS              176302.070000\n",
       "District of columbia 853 - INFECTIOUS & PARASITIC DISEASES W O.R. PR...            172520.977500\n",
       "South dakota         870 - SEPTICEMIA OR SEVERE SEPSIS W MV 96+ HOURS              172405.330000\n",
       "Arizona              870 - SEPTICEMIA OR SEVERE SEPSIS W MV 96+ HOURS              170820.167500\n",
       "Oklahoma             870 - SEPTICEMIA OR SEVERE SEPSIS W MV 96+ HOURS              167452.327273\n",
       "Nebraska             853 - INFECTIOUS & PARASITIC DISEASES W O.R. PR...            163205.201667\n",
       "Alabama              207 - RESPIRATORY SYSTEM DIAGNOSIS W VENTILATOR...            163033.033810\n",
       "Minnesota            870 - SEPTICEMIA OR SEVERE SEPSIS W MV 96+ HOURS              158667.800000\n",
       "South carolina       870 - SEPTICEMIA OR SEVERE SEPSIS W MV 96+ HOURS              157255.484000\n",
       "Missouri             870 - SEPTICEMIA OR SEVERE SEPSIS W MV 96+ HOURS              156365.340435\n",
       "Washington           870 - SEPTICEMIA OR SEVERE SEPSIS W MV 96+ HOURS              154381.747692\n",
       "Oregon               870 - SEPTICEMIA OR SEVERE SEPSIS W MV 96+ HOURS              153319.652500\n",
       "Rhode island         870 - SEPTICEMIA OR SEVERE SEPSIS W MV 96+ HOURS              146844.600000\n",
       "Mississippi          329 - MAJOR SMALL & LARGE BOWEL PROCEDURES W MCC              141065.992778\n",
       "Louisiana            853 - INFECTIOUS & PARASITIC DISEASES W O.R. PR...            140171.755200\n",
       "Hawaii               329 - MAJOR SMALL & LARGE BOWEL PROCEDURES W MCC              138147.285000\n",
       "Georgia              870 - SEPTICEMIA OR SEVERE SEPSIS W MV 96+ HOURS              137265.971562\n",
       "Illinois             870 - SEPTICEMIA OR SEVERE SEPSIS W MV 96+ HOURS              136386.289200\n",
       "Tennessee            870 - SEPTICEMIA OR SEVERE SEPSIS W MV 96+ HOURS              135035.465000\n",
       "Connecticut          207 - RESPIRATORY SYSTEM DIAGNOSIS W VENTILATOR...            133246.514444\n",
       "New mexico           207 - RESPIRATORY SYSTEM DIAGNOSIS W VENTILATOR...            133136.320000\n",
       "New hampshire        207 - RESPIRATORY SYSTEM DIAGNOSIS W VENTILATOR...            132782.463333\n",
       "Wyoming              853 - INFECTIOUS & PARASITIC DISEASES W O.R. PR...            131640.840000\n",
       "Virginia             870 - SEPTICEMIA OR SEVERE SEPSIS W MV 96+ HOURS              127637.295000\n",
       "Wisconsin            207 - RESPIRATORY SYSTEM DIAGNOSIS W VENTILATOR...            126561.048889\n",
       "Indiana              870 - SEPTICEMIA OR SEVERE SEPSIS W MV 96+ HOURS              122649.482941\n",
       "New york             870 - SEPTICEMIA OR SEVERE SEPSIS W MV 96+ HOURS              121972.016154\n",
       "Ohio                 870 - SEPTICEMIA OR SEVERE SEPSIS W MV 96+ HOURS              121413.748049\n",
       "Iowa                 207 - RESPIRATORY SYSTEM DIAGNOSIS W VENTILATOR...            120564.112500\n",
       "Idaho                870 - SEPTICEMIA OR SEVERE SEPSIS W MV 96+ HOURS              117492.085000\n",
       "Kentucky             870 - SEPTICEMIA OR SEVERE SEPSIS W MV 96+ HOURS              115098.180000\n",
       "Arkansas             329 - MAJOR SMALL & LARGE BOWEL PROCEDURES W MCC              109527.821000\n",
       "Delaware             853 - INFECTIOUS & PARASITIC DISEASES W O.R. PR...            109214.490000\n",
       "Maine                870 - SEPTICEMIA OR SEVERE SEPSIS W MV 96+ HOURS              108023.815000\n",
       "Utah                 870 - SEPTICEMIA OR SEVERE SEPSIS W MV 96+ HOURS              105081.870000\n",
       "North carolina       870 - SEPTICEMIA OR SEVERE SEPSIS W MV 96+ HOURS              101465.634000\n",
       "Michigan             870 - SEPTICEMIA OR SEVERE SEPSIS W MV 96+ HOURS               98790.946389\n",
       "Massachusetts        870 - SEPTICEMIA OR SEVERE SEPSIS W MV 96+ HOURS               98737.674545\n",
       "North dakota         870 - SEPTICEMIA OR SEVERE SEPSIS W MV 96+ HOURS               93062.310000\n",
       "Montana              853 - INFECTIOUS & PARASITIC DISEASES W O.R. PR...             91724.287500\n",
       "West virginia        870 - SEPTICEMIA OR SEVERE SEPSIS W MV 96+ HOURS               91167.078000\n",
       "Vermont              207 - RESPIRATORY SYSTEM DIAGNOSIS W VENTILATOR...             82623.185000\n",
       "Maryland             870 - SEPTICEMIA OR SEVERE SEPSIS W MV 96+ HOURS               51667.938636"
      ]
     },
     "execution_count": 54,
     "metadata": {},
     "output_type": "execute_result"
    }
   ],
   "source": [
    "expensive = df_merged.groupby(['state', 'DRG Definition'])[['Average Covered Charges']].mean()\n",
    "expensive.apply(lambda x : x.sort_values(ascending=False)).groupby(level=0).head(1)"
   ]
  },
  {
   "cell_type": "markdown",
   "metadata": {
    "deletable": true,
    "editable": true
   },
   "source": [
    "6.3 Based on the above results, provide your analysis."
   ]
  },
  {
   "cell_type": "markdown",
   "metadata": {
    "collapsed": true,
    "deletable": true,
    "editable": true
   },
   "source": [
    "DRG 870 is the most costly diseases in US. US goverment or health agencies  should do something in public education to reduce the overall cost in the future. "
   ]
  },
  {
   "cell_type": "markdown",
   "metadata": {},
   "source": [
    "## Q7\n",
    "Based on the merged data set, describe the most interesting or unexpected finding you may have. (note: you need to list the related code to back up/prove your statement."
   ]
  },
  {
   "cell_type": "markdown",
   "metadata": {
    "collapsed": true
   },
   "source": [
    "This is something for you to explore/analysis ..."
   ]
  }
 ],
 "metadata": {
  "kernelspec": {
   "display_name": "Python 2",
   "language": "python",
   "name": "python2"
  },
  "language_info": {
   "codemirror_mode": {
    "name": "ipython",
    "version": 2
   },
   "file_extension": ".py",
   "mimetype": "text/x-python",
   "name": "python",
   "nbconvert_exporter": "python",
   "pygments_lexer": "ipython2",
   "version": "2.7.11"
  }
 },
 "nbformat": 4,
 "nbformat_minor": 0
}
