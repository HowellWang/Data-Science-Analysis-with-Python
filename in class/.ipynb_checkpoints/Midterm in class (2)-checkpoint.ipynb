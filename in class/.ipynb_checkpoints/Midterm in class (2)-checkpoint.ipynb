{
 "cells": [
  {
   "cell_type": "markdown",
   "metadata": {
    "deletable": true,
    "editable": true
   },
   "source": [
    "# Midterm"
   ]
  },
  {
   "cell_type": "markdown",
   "metadata": {
    "deletable": true,
    "editable": true
   },
   "source": [
    "<b>Penalties:</b> You will incur penalties if:\n",
    "<ul>\n",
    "<li>Your code is wrong</li>\n",
    "<li>Your code does not work on different data</li>\n",
    "<li>You use for loops or list comprehensions (unless explicitly permitted)</li>\n",
    "</ul>"
   ]
  },
  {
   "cell_type": "code",
   "execution_count": 1,
   "metadata": {
    "collapsed": true,
    "deletable": true,
    "editable": true
   },
   "outputs": [],
   "source": [
    "import pandas as pd\n",
    "from IPython.core.interactiveshell import InteractiveShell\n",
    "InteractiveShell.ast_node_interactivity = \"all\"\n",
    "import warnings\n",
    "warnings.filterwarnings('ignore')"
   ]
  },
  {
   "cell_type": "code",
   "execution_count": 2,
   "metadata": {
    "collapsed": true,
    "deletable": true,
    "editable": true
   },
   "outputs": [],
   "source": [
    "df = pd.read_csv(\"credit.csv\")"
   ]
  },
  {
   "cell_type": "markdown",
   "metadata": {
    "deletable": true,
    "editable": true
   },
   "source": [
    "<p>This data set reports the information of personal credits situation. Each row is associated to a person, whereas the columns report:\n",
    "<ul>\n",
    "<li><b>months_loan_duration</b>: Duration in month\n",
    "<li><b>credit_history</b>: the person's credit history\n",
    "<li><b>purpose</b>: the person's credit purpose\n",
    "<li><b>amount</b>: the person's credit amount\n",
    "<li><b>employment_length</b>: Present employment since\n",
    "<li><b>personal_status</b>: the person's marriage situation\n",
    "<li><b>age, job</b>:the person's age and job situation\n",
    "</ul></p>\n",
    "<p>That is all we need to know about the columns' meaning.</p>"
   ]
  },
  {
   "cell_type": "code",
   "execution_count": 3,
   "metadata": {
    "collapsed": false,
    "deletable": true,
    "editable": true
   },
   "outputs": [
    {
     "data": {
      "text/html": [
       "<div>\n",
       "<style>\n",
       "    .dataframe thead tr:only-child th {\n",
       "        text-align: right;\n",
       "    }\n",
       "\n",
       "    .dataframe thead th {\n",
       "        text-align: left;\n",
       "    }\n",
       "\n",
       "    .dataframe tbody tr th {\n",
       "        vertical-align: top;\n",
       "    }\n",
       "</style>\n",
       "<table border=\"1\" class=\"dataframe\">\n",
       "  <thead>\n",
       "    <tr style=\"text-align: right;\">\n",
       "      <th></th>\n",
       "      <th>months_loan_duration</th>\n",
       "      <th>credit_history</th>\n",
       "      <th>purpose</th>\n",
       "      <th>amount</th>\n",
       "      <th>employment_length</th>\n",
       "      <th>personal_status</th>\n",
       "      <th>property</th>\n",
       "      <th>age</th>\n",
       "      <th>job</th>\n",
       "    </tr>\n",
       "  </thead>\n",
       "  <tbody>\n",
       "    <tr>\n",
       "      <th>0</th>\n",
       "      <td>6</td>\n",
       "      <td>critical</td>\n",
       "      <td>radio/tv</td>\n",
       "      <td>1169</td>\n",
       "      <td>&gt; 7 yrs</td>\n",
       "      <td>single male</td>\n",
       "      <td>real estate</td>\n",
       "      <td>67</td>\n",
       "      <td>skilled employee</td>\n",
       "    </tr>\n",
       "    <tr>\n",
       "      <th>1</th>\n",
       "      <td>48</td>\n",
       "      <td>repaid</td>\n",
       "      <td>radio/tv</td>\n",
       "      <td>5951</td>\n",
       "      <td>1 - 4 yrs</td>\n",
       "      <td>female</td>\n",
       "      <td>real estate</td>\n",
       "      <td>22</td>\n",
       "      <td>skilled employee</td>\n",
       "    </tr>\n",
       "    <tr>\n",
       "      <th>2</th>\n",
       "      <td>12</td>\n",
       "      <td>critical</td>\n",
       "      <td>education</td>\n",
       "      <td>2096</td>\n",
       "      <td>4 - 7 yrs</td>\n",
       "      <td>single male</td>\n",
       "      <td>real estate</td>\n",
       "      <td>49</td>\n",
       "      <td>unskilled resident</td>\n",
       "    </tr>\n",
       "    <tr>\n",
       "      <th>3</th>\n",
       "      <td>42</td>\n",
       "      <td>repaid</td>\n",
       "      <td>furniture</td>\n",
       "      <td>7882</td>\n",
       "      <td>4 - 7 yrs</td>\n",
       "      <td>single male</td>\n",
       "      <td>building society savings</td>\n",
       "      <td>45</td>\n",
       "      <td>skilled employee</td>\n",
       "    </tr>\n",
       "    <tr>\n",
       "      <th>4</th>\n",
       "      <td>24</td>\n",
       "      <td>delayed</td>\n",
       "      <td>car (new)</td>\n",
       "      <td>4870</td>\n",
       "      <td>1 - 4 yrs</td>\n",
       "      <td>single male</td>\n",
       "      <td>unknown/none</td>\n",
       "      <td>53</td>\n",
       "      <td>skilled employee</td>\n",
       "    </tr>\n",
       "    <tr>\n",
       "      <th>5</th>\n",
       "      <td>36</td>\n",
       "      <td>repaid</td>\n",
       "      <td>education</td>\n",
       "      <td>9055</td>\n",
       "      <td>1 - 4 yrs</td>\n",
       "      <td>single male</td>\n",
       "      <td>unknown/none</td>\n",
       "      <td>35</td>\n",
       "      <td>unskilled resident</td>\n",
       "    </tr>\n",
       "    <tr>\n",
       "      <th>6</th>\n",
       "      <td>24</td>\n",
       "      <td>repaid</td>\n",
       "      <td>furniture</td>\n",
       "      <td>2835</td>\n",
       "      <td>&gt; 7 yrs</td>\n",
       "      <td>single male</td>\n",
       "      <td>building society savings</td>\n",
       "      <td>53</td>\n",
       "      <td>skilled employee</td>\n",
       "    </tr>\n",
       "    <tr>\n",
       "      <th>7</th>\n",
       "      <td>36</td>\n",
       "      <td>repaid</td>\n",
       "      <td>car (used)</td>\n",
       "      <td>6948</td>\n",
       "      <td>1 - 4 yrs</td>\n",
       "      <td>single male</td>\n",
       "      <td>other</td>\n",
       "      <td>35</td>\n",
       "      <td>mangement self-employed</td>\n",
       "    </tr>\n",
       "    <tr>\n",
       "      <th>8</th>\n",
       "      <td>12</td>\n",
       "      <td>repaid</td>\n",
       "      <td>radio/tv</td>\n",
       "      <td>3059</td>\n",
       "      <td>4 - 7 yrs</td>\n",
       "      <td>divorced male</td>\n",
       "      <td>real estate</td>\n",
       "      <td>61</td>\n",
       "      <td>unskilled resident</td>\n",
       "    </tr>\n",
       "    <tr>\n",
       "      <th>9</th>\n",
       "      <td>30</td>\n",
       "      <td>critical</td>\n",
       "      <td>car (new)</td>\n",
       "      <td>5234</td>\n",
       "      <td>unemployed</td>\n",
       "      <td>married male</td>\n",
       "      <td>other</td>\n",
       "      <td>28</td>\n",
       "      <td>mangement self-employed</td>\n",
       "    </tr>\n",
       "  </tbody>\n",
       "</table>\n",
       "</div>"
      ],
      "text/plain": [
       "   months_loan_duration credit_history     purpose  amount employment_length  \\\n",
       "0                     6       critical    radio/tv    1169           > 7 yrs   \n",
       "1                    48         repaid    radio/tv    5951         1 - 4 yrs   \n",
       "2                    12       critical   education    2096         4 - 7 yrs   \n",
       "3                    42         repaid   furniture    7882         4 - 7 yrs   \n",
       "4                    24        delayed   car (new)    4870         1 - 4 yrs   \n",
       "5                    36         repaid   education    9055         1 - 4 yrs   \n",
       "6                    24         repaid   furniture    2835           > 7 yrs   \n",
       "7                    36         repaid  car (used)    6948         1 - 4 yrs   \n",
       "8                    12         repaid    radio/tv    3059         4 - 7 yrs   \n",
       "9                    30       critical   car (new)    5234        unemployed   \n",
       "\n",
       "  personal_status                  property  age                      job  \n",
       "0     single male               real estate   67         skilled employee  \n",
       "1          female               real estate   22         skilled employee  \n",
       "2     single male               real estate   49       unskilled resident  \n",
       "3     single male  building society savings   45         skilled employee  \n",
       "4     single male              unknown/none   53         skilled employee  \n",
       "5     single male              unknown/none   35       unskilled resident  \n",
       "6     single male  building society savings   53         skilled employee  \n",
       "7     single male                     other   35  mangement self-employed  \n",
       "8   divorced male               real estate   61       unskilled resident  \n",
       "9    married male                     other   28  mangement self-employed  "
      ]
     },
     "execution_count": 3,
     "metadata": {},
     "output_type": "execute_result"
    }
   ],
   "source": [
    "df.head(10)"
   ]
  },
  {
   "cell_type": "code",
   "execution_count": 4,
   "metadata": {
    "collapsed": false,
    "deletable": true,
    "editable": true
   },
   "outputs": [
    {
     "data": {
      "text/plain": [
       "(1000, 9)"
      ]
     },
     "execution_count": 4,
     "metadata": {},
     "output_type": "execute_result"
    }
   ],
   "source": [
    "df.shape"
   ]
  },
  {
   "cell_type": "markdown",
   "metadata": {
    "deletable": true,
    "editable": true
   },
   "source": [
    "### Question 1"
   ]
  },
  {
   "cell_type": "markdown",
   "metadata": {
    "deletable": true,
    "editable": true
   },
   "source": [
    "How many people whose credit purpose is education and property is real estate?"
   ]
  },
  {
   "cell_type": "code",
   "execution_count": 7,
   "metadata": {
    "collapsed": false,
    "deletable": true,
    "editable": true
   },
   "outputs": [
    {
     "data": {
      "text/plain": [
       "4"
      ]
     },
     "execution_count": 7,
     "metadata": {},
     "output_type": "execute_result"
    }
   ],
   "source": [
    "len(df[(df.purpose == 'education') & (df.property == 'real estate')])"
   ]
  },
  {
   "cell_type": "markdown",
   "metadata": {
    "deletable": true,
    "editable": true
   },
   "source": [
    "### Question 2"
   ]
  },
  {
   "cell_type": "markdown",
   "metadata": {
    "deletable": true,
    "editable": true
   },
   "source": [
    "What's the credit history of the guy who has the maxium amount among the whole dataset? Your code must return <b>only one string</b>."
   ]
  },
  {
   "cell_type": "code",
   "execution_count": 92,
   "metadata": {
    "collapsed": false,
    "deletable": true,
    "editable": true
   },
   "outputs": [
    {
     "data": {
      "text/plain": [
       "'fully repaid'"
      ]
     },
     "execution_count": 92,
     "metadata": {},
     "output_type": "execute_result"
    }
   ],
   "source": [
    "df[df.amount == df.amount.max()].credit_history.values[0]"
   ]
  },
  {
   "cell_type": "markdown",
   "metadata": {
    "deletable": true,
    "editable": true
   },
   "source": [
    "### Question 3"
   ]
  },
  {
   "cell_type": "markdown",
   "metadata": {
    "deletable": true,
    "editable": true
   },
   "source": [
    "What is the proportion of people (0 to 1) who are younger than 30 and have lower than 24 months loan duration?"
   ]
  },
  {
   "cell_type": "code",
   "execution_count": 98,
   "metadata": {
    "collapsed": false,
    "deletable": true,
    "editable": true
   },
   "outputs": [
    {
     "data": {
      "text/plain": [
       "0.219"
      ]
     },
     "execution_count": 98,
     "metadata": {},
     "output_type": "execute_result"
    }
   ],
   "source": [
    "float(len(df[(df.age < 30) & (df.months_loan_duration < 24)])) / 1000"
   ]
  },
  {
   "cell_type": "markdown",
   "metadata": {
    "deletable": true,
    "editable": true
   },
   "source": [
    "### Question 4"
   ]
  },
  {
   "cell_type": "markdown",
   "metadata": {
    "deletable": true,
    "editable": true
   },
   "source": [
    "For each employment_length, report how many of those records have over 30 months loan duration. You must report one entry for each employment_length."
   ]
  },
  {
   "cell_type": "code",
   "execution_count": 20,
   "metadata": {
    "collapsed": false,
    "deletable": true,
    "editable": true
   },
   "outputs": [
    {
     "data": {
      "text/html": [
       "<div>\n",
       "<style>\n",
       "    .dataframe thead tr:only-child th {\n",
       "        text-align: right;\n",
       "    }\n",
       "\n",
       "    .dataframe thead th {\n",
       "        text-align: left;\n",
       "    }\n",
       "\n",
       "    .dataframe tbody tr th {\n",
       "        vertical-align: top;\n",
       "    }\n",
       "</style>\n",
       "<table border=\"1\" class=\"dataframe\">\n",
       "  <thead>\n",
       "    <tr style=\"text-align: right;\">\n",
       "      <th></th>\n",
       "      <th>months_loan_duration</th>\n",
       "      <th>credit_history</th>\n",
       "      <th>purpose</th>\n",
       "      <th>amount</th>\n",
       "      <th>employment_length</th>\n",
       "      <th>personal_status</th>\n",
       "      <th>property</th>\n",
       "      <th>age</th>\n",
       "      <th>job</th>\n",
       "    </tr>\n",
       "  </thead>\n",
       "  <tbody>\n",
       "    <tr>\n",
       "      <th>0</th>\n",
       "      <td>6</td>\n",
       "      <td>critical</td>\n",
       "      <td>radio/tv</td>\n",
       "      <td>1169</td>\n",
       "      <td>&gt; 7 yrs</td>\n",
       "      <td>single male</td>\n",
       "      <td>real estate</td>\n",
       "      <td>67</td>\n",
       "      <td>skilled employee</td>\n",
       "    </tr>\n",
       "    <tr>\n",
       "      <th>1</th>\n",
       "      <td>48</td>\n",
       "      <td>repaid</td>\n",
       "      <td>radio/tv</td>\n",
       "      <td>5951</td>\n",
       "      <td>1 - 4 yrs</td>\n",
       "      <td>female</td>\n",
       "      <td>real estate</td>\n",
       "      <td>22</td>\n",
       "      <td>skilled employee</td>\n",
       "    </tr>\n",
       "  </tbody>\n",
       "</table>\n",
       "</div>"
      ],
      "text/plain": [
       "   months_loan_duration credit_history   purpose  amount employment_length  \\\n",
       "0                     6       critical  radio/tv    1169           > 7 yrs   \n",
       "1                    48         repaid  radio/tv    5951         1 - 4 yrs   \n",
       "\n",
       "  personal_status     property  age               job  \n",
       "0     single male  real estate   67  skilled employee  \n",
       "1          female  real estate   22  skilled employee  "
      ]
     },
     "execution_count": 20,
     "metadata": {},
     "output_type": "execute_result"
    }
   ],
   "source": [
    "df.head(2)"
   ]
  },
  {
   "cell_type": "code",
   "execution_count": 97,
   "metadata": {
    "collapsed": false,
    "deletable": true,
    "editable": true
   },
   "outputs": [
    {
     "data": {
      "text/html": [
       "<div>\n",
       "<style>\n",
       "    .dataframe thead tr:only-child th {\n",
       "        text-align: right;\n",
       "    }\n",
       "\n",
       "    .dataframe thead th {\n",
       "        text-align: left;\n",
       "    }\n",
       "\n",
       "    .dataframe tbody tr th {\n",
       "        vertical-align: top;\n",
       "    }\n",
       "</style>\n",
       "<table border=\"1\" class=\"dataframe\">\n",
       "  <thead>\n",
       "    <tr style=\"text-align: right;\">\n",
       "      <th></th>\n",
       "      <th>months_loan_duration_over30_months_count</th>\n",
       "    </tr>\n",
       "    <tr>\n",
       "      <th>employment_length</th>\n",
       "      <th></th>\n",
       "    </tr>\n",
       "  </thead>\n",
       "  <tbody>\n",
       "    <tr>\n",
       "      <th>0 - 1 yrs</th>\n",
       "      <td>25</td>\n",
       "    </tr>\n",
       "    <tr>\n",
       "      <th>1 - 4 yrs</th>\n",
       "      <td>70</td>\n",
       "    </tr>\n",
       "    <tr>\n",
       "      <th>4 - 7 yrs</th>\n",
       "      <td>48</td>\n",
       "    </tr>\n",
       "    <tr>\n",
       "      <th>&gt; 7 yrs</th>\n",
       "      <td>57</td>\n",
       "    </tr>\n",
       "    <tr>\n",
       "      <th>unemployed</th>\n",
       "      <td>13</td>\n",
       "    </tr>\n",
       "  </tbody>\n",
       "</table>\n",
       "</div>"
      ],
      "text/plain": [
       "                   months_loan_duration_over30_months_count\n",
       "employment_length                                          \n",
       "0 - 1 yrs                                                25\n",
       "1 - 4 yrs                                                70\n",
       "4 - 7 yrs                                                48\n",
       "> 7 yrs                                                  57\n",
       "unemployed                                               13"
      ]
     },
     "execution_count": 97,
     "metadata": {},
     "output_type": "execute_result"
    }
   ],
   "source": [
    "df.groupby(\"employment_length\").agg({'months_loan_duration' : lambda se: len(se[se.values >= 30])}).rename(columns = {'months_loan_duration':'months_loan_duration_over30_months_count'})"
   ]
  },
  {
   "cell_type": "markdown",
   "metadata": {
    "deletable": true,
    "editable": true
   },
   "source": [
    "### Question 5"
   ]
  },
  {
   "cell_type": "markdown",
   "metadata": {
    "deletable": true,
    "editable": true
   },
   "source": [
    "Report the number of differrent purposes in descending order."
   ]
  },
  {
   "cell_type": "code",
   "execution_count": 43,
   "metadata": {
    "collapsed": false,
    "deletable": true,
    "editable": true
   },
   "outputs": [
    {
     "data": {
      "text/plain": [
       "purpose\n",
       "radio/tv               280\n",
       "car (new)              234\n",
       "furniture              181\n",
       "car (used)             103\n",
       "business                97\n",
       "education               50\n",
       "repairs                 22\n",
       "others                  12\n",
       "domestic appliances     12\n",
       "retraining               9\n",
       "Name: purpose, dtype: int64"
      ]
     },
     "execution_count": 43,
     "metadata": {},
     "output_type": "execute_result"
    }
   ],
   "source": [
    "df.groupby('purpose')['purpose'].count().sort_values(ascending = False)"
   ]
  },
  {
   "cell_type": "markdown",
   "metadata": {
    "deletable": true,
    "editable": true
   },
   "source": [
    "### Question 6"
   ]
  },
  {
   "cell_type": "markdown",
   "metadata": {
    "deletable": true,
    "editable": true
   },
   "source": [
    "Find how many <u>distinct</u> age for male. <i>Hint</i>: Series.unique() find the list of unique values in a Series."
   ]
  },
  {
   "cell_type": "code",
   "execution_count": 31,
   "metadata": {
    "collapsed": false,
    "deletable": true,
    "editable": true
   },
   "outputs": [
    {
     "data": {
      "text/plain": [
       "array(['single male', 'female', 'divorced male', 'married male'], dtype=object)"
      ]
     },
     "execution_count": 31,
     "metadata": {},
     "output_type": "execute_result"
    }
   ],
   "source": [
    "df.personal_status.unique()"
   ]
  },
  {
   "cell_type": "code",
   "execution_count": 35,
   "metadata": {
    "collapsed": false,
    "deletable": true,
    "editable": true
   },
   "outputs": [
    {
     "data": {
      "text/plain": [
       "array([67, 49, 45, 53, 35, 61, 28, 60, 25, 31, 48, 44, 26, 36, 39, 34, 63,\n",
       "       27, 30, 57, 37, 24, 29, 52, 50, 22, 46, 51, 40, 66, 47, 56, 54, 20,\n",
       "       58, 41, 32, 42, 38, 70, 33, 65, 68, 21, 43, 55, 23, 75, 74, 64, 62,\n",
       "       59])"
      ]
     },
     "execution_count": 35,
     "metadata": {},
     "output_type": "execute_result"
    }
   ],
   "source": [
    "df[df.personal_status != 'female' ].age.unique()"
   ]
  },
  {
   "cell_type": "markdown",
   "metadata": {
    "deletable": true,
    "editable": true
   },
   "source": [
    "### Question 7"
   ]
  },
  {
   "cell_type": "markdown",
   "metadata": {
    "collapsed": true,
    "deletable": true,
    "editable": true
   },
   "source": [
    "For each combination of <i>employment_length</i> and <i>job</i>, what's the average, minimum, and maximum number of amount?"
   ]
  },
  {
   "cell_type": "code",
   "execution_count": 41,
   "metadata": {
    "collapsed": false,
    "deletable": true,
    "editable": true
   },
   "outputs": [
    {
     "data": {
      "text/html": [
       "<div>\n",
       "<style>\n",
       "    .dataframe thead tr:only-child th {\n",
       "        text-align: right;\n",
       "    }\n",
       "\n",
       "    .dataframe thead th {\n",
       "        text-align: left;\n",
       "    }\n",
       "\n",
       "    .dataframe tbody tr th {\n",
       "        vertical-align: top;\n",
       "    }\n",
       "</style>\n",
       "<table border=\"1\" class=\"dataframe\">\n",
       "  <thead>\n",
       "    <tr style=\"text-align: right;\">\n",
       "      <th></th>\n",
       "      <th></th>\n",
       "      <th>mean</th>\n",
       "      <th>min</th>\n",
       "      <th>max</th>\n",
       "    </tr>\n",
       "    <tr>\n",
       "      <th>employment_length</th>\n",
       "      <th>job</th>\n",
       "      <th></th>\n",
       "      <th></th>\n",
       "      <th></th>\n",
       "    </tr>\n",
       "  </thead>\n",
       "  <tbody>\n",
       "    <tr>\n",
       "      <th rowspan=\"4\" valign=\"top\">0 - 1 yrs</th>\n",
       "      <th>mangement self-employed</th>\n",
       "      <td>3612.000000</td>\n",
       "      <td>1337</td>\n",
       "      <td>9398</td>\n",
       "    </tr>\n",
       "    <tr>\n",
       "      <th>skilled employee</th>\n",
       "      <td>3045.532710</td>\n",
       "      <td>343</td>\n",
       "      <td>15945</td>\n",
       "    </tr>\n",
       "    <tr>\n",
       "      <th>unemployed non-resident</th>\n",
       "      <td>1727.000000</td>\n",
       "      <td>609</td>\n",
       "      <td>3990</td>\n",
       "    </tr>\n",
       "    <tr>\n",
       "      <th>unskilled resident</th>\n",
       "      <td>2625.522727</td>\n",
       "      <td>454</td>\n",
       "      <td>11998</td>\n",
       "    </tr>\n",
       "    <tr>\n",
       "      <th rowspan=\"4\" valign=\"top\">1 - 4 yrs</th>\n",
       "      <th>mangement self-employed</th>\n",
       "      <td>6048.071429</td>\n",
       "      <td>1107</td>\n",
       "      <td>18424</td>\n",
       "    </tr>\n",
       "    <tr>\n",
       "      <th>skilled employee</th>\n",
       "      <td>2993.347826</td>\n",
       "      <td>409</td>\n",
       "      <td>15672</td>\n",
       "    </tr>\n",
       "    <tr>\n",
       "      <th>unemployed non-resident</th>\n",
       "      <td>1299.000000</td>\n",
       "      <td>1299</td>\n",
       "      <td>1299</td>\n",
       "    </tr>\n",
       "    <tr>\n",
       "      <th>unskilled resident</th>\n",
       "      <td>2504.462500</td>\n",
       "      <td>250</td>\n",
       "      <td>11590</td>\n",
       "    </tr>\n",
       "    <tr>\n",
       "      <th rowspan=\"3\" valign=\"top\">4 - 7 yrs</th>\n",
       "      <th>mangement self-employed</th>\n",
       "      <td>5958.238095</td>\n",
       "      <td>1199</td>\n",
       "      <td>14179</td>\n",
       "    </tr>\n",
       "    <tr>\n",
       "      <th>skilled employee</th>\n",
       "      <td>3524.319328</td>\n",
       "      <td>609</td>\n",
       "      <td>15653</td>\n",
       "    </tr>\n",
       "    <tr>\n",
       "      <th>unskilled resident</th>\n",
       "      <td>2417.000000</td>\n",
       "      <td>385</td>\n",
       "      <td>9857</td>\n",
       "    </tr>\n",
       "    <tr>\n",
       "      <th rowspan=\"3\" valign=\"top\">&gt; 7 yrs</th>\n",
       "      <th>mangement self-employed</th>\n",
       "      <td>5446.340000</td>\n",
       "      <td>629</td>\n",
       "      <td>14896</td>\n",
       "    </tr>\n",
       "    <tr>\n",
       "      <th>skilled employee</th>\n",
       "      <td>2907.537037</td>\n",
       "      <td>338</td>\n",
       "      <td>11816</td>\n",
       "    </tr>\n",
       "    <tr>\n",
       "      <th>unskilled resident</th>\n",
       "      <td>1768.097561</td>\n",
       "      <td>339</td>\n",
       "      <td>6143</td>\n",
       "    </tr>\n",
       "    <tr>\n",
       "      <th rowspan=\"4\" valign=\"top\">unemployed</th>\n",
       "      <th>mangement self-employed</th>\n",
       "      <td>5450.757576</td>\n",
       "      <td>1050</td>\n",
       "      <td>15857</td>\n",
       "    </tr>\n",
       "    <tr>\n",
       "      <th>skilled employee</th>\n",
       "      <td>2495.916667</td>\n",
       "      <td>433</td>\n",
       "      <td>5293</td>\n",
       "    </tr>\n",
       "    <tr>\n",
       "      <th>unemployed non-resident</th>\n",
       "      <td>3153.687500</td>\n",
       "      <td>672</td>\n",
       "      <td>14555</td>\n",
       "    </tr>\n",
       "    <tr>\n",
       "      <th>unskilled resident</th>\n",
       "      <td>1154.000000</td>\n",
       "      <td>1154</td>\n",
       "      <td>1154</td>\n",
       "    </tr>\n",
       "  </tbody>\n",
       "</table>\n",
       "</div>"
      ],
      "text/plain": [
       "                                                  mean   min    max\n",
       "employment_length job                                              \n",
       "0 - 1 yrs         mangement self-employed  3612.000000  1337   9398\n",
       "                  skilled employee         3045.532710   343  15945\n",
       "                  unemployed non-resident  1727.000000   609   3990\n",
       "                  unskilled resident       2625.522727   454  11998\n",
       "1 - 4 yrs         mangement self-employed  6048.071429  1107  18424\n",
       "                  skilled employee         2993.347826   409  15672\n",
       "                  unemployed non-resident  1299.000000  1299   1299\n",
       "                  unskilled resident       2504.462500   250  11590\n",
       "4 - 7 yrs         mangement self-employed  5958.238095  1199  14179\n",
       "                  skilled employee         3524.319328   609  15653\n",
       "                  unskilled resident       2417.000000   385   9857\n",
       "> 7 yrs           mangement self-employed  5446.340000   629  14896\n",
       "                  skilled employee         2907.537037   338  11816\n",
       "                  unskilled resident       1768.097561   339   6143\n",
       "unemployed        mangement self-employed  5450.757576  1050  15857\n",
       "                  skilled employee         2495.916667   433   5293\n",
       "                  unemployed non-resident  3153.687500   672  14555\n",
       "                  unskilled resident       1154.000000  1154   1154"
      ]
     },
     "execution_count": 41,
     "metadata": {},
     "output_type": "execute_result"
    }
   ],
   "source": [
    "df.groupby(['employment_length','job'])['amount'].agg(['mean','min', 'max'])"
   ]
  },
  {
   "cell_type": "markdown",
   "metadata": {
    "deletable": true,
    "editable": true
   },
   "source": [
    "### Question 8"
   ]
  },
  {
   "cell_type": "markdown",
   "metadata": {
    "deletable": true,
    "editable": true
   },
   "source": [
    "Let us define \"average amount of an age\" as the average amount of that age. Find the age group of which the average amount is 20% higher than the average amount of all records. Report both the age and its average amount."
   ]
  },
  {
   "cell_type": "code",
   "execution_count": 44,
   "metadata": {
    "collapsed": false,
    "deletable": true,
    "editable": true
   },
   "outputs": [
    {
     "data": {
      "text/html": [
       "<div>\n",
       "<style>\n",
       "    .dataframe thead tr:only-child th {\n",
       "        text-align: right;\n",
       "    }\n",
       "\n",
       "    .dataframe thead th {\n",
       "        text-align: left;\n",
       "    }\n",
       "\n",
       "    .dataframe tbody tr th {\n",
       "        vertical-align: top;\n",
       "    }\n",
       "</style>\n",
       "<table border=\"1\" class=\"dataframe\">\n",
       "  <thead>\n",
       "    <tr style=\"text-align: right;\">\n",
       "      <th></th>\n",
       "      <th>months_loan_duration</th>\n",
       "      <th>credit_history</th>\n",
       "      <th>purpose</th>\n",
       "      <th>amount</th>\n",
       "      <th>employment_length</th>\n",
       "      <th>personal_status</th>\n",
       "      <th>property</th>\n",
       "      <th>age</th>\n",
       "      <th>job</th>\n",
       "    </tr>\n",
       "  </thead>\n",
       "  <tbody>\n",
       "    <tr>\n",
       "      <th>0</th>\n",
       "      <td>6</td>\n",
       "      <td>critical</td>\n",
       "      <td>radio/tv</td>\n",
       "      <td>1169</td>\n",
       "      <td>&gt; 7 yrs</td>\n",
       "      <td>single male</td>\n",
       "      <td>real estate</td>\n",
       "      <td>67</td>\n",
       "      <td>skilled employee</td>\n",
       "    </tr>\n",
       "    <tr>\n",
       "      <th>1</th>\n",
       "      <td>48</td>\n",
       "      <td>repaid</td>\n",
       "      <td>radio/tv</td>\n",
       "      <td>5951</td>\n",
       "      <td>1 - 4 yrs</td>\n",
       "      <td>female</td>\n",
       "      <td>real estate</td>\n",
       "      <td>22</td>\n",
       "      <td>skilled employee</td>\n",
       "    </tr>\n",
       "  </tbody>\n",
       "</table>\n",
       "</div>"
      ],
      "text/plain": [
       "   months_loan_duration credit_history   purpose  amount employment_length  \\\n",
       "0                     6       critical  radio/tv    1169           > 7 yrs   \n",
       "1                    48         repaid  radio/tv    5951         1 - 4 yrs   \n",
       "\n",
       "  personal_status     property  age               job  \n",
       "0     single male  real estate   67  skilled employee  \n",
       "1          female  real estate   22  skilled employee  "
      ]
     },
     "execution_count": 44,
     "metadata": {},
     "output_type": "execute_result"
    }
   ],
   "source": [
    "df.head(2)"
   ]
  },
  {
   "cell_type": "code",
   "execution_count": 46,
   "metadata": {
    "collapsed": false,
    "deletable": true,
    "editable": true
   },
   "outputs": [],
   "source": [
    "age_amount_se = df.groupby('age')['amount'].mean()"
   ]
  },
  {
   "cell_type": "code",
   "execution_count": 48,
   "metadata": {
    "collapsed": false,
    "deletable": true,
    "editable": true
   },
   "outputs": [],
   "source": [
    "average = df.amount.mean()"
   ]
  },
  {
   "cell_type": "code",
   "execution_count": 51,
   "metadata": {
    "collapsed": false,
    "deletable": true,
    "editable": true
   },
   "outputs": [
    {
     "data": {
      "text/plain": [
       "age\n",
       "30    3966.875000\n",
       "42    4211.318182\n",
       "44    4236.764706\n",
       "45    4453.933333\n",
       "53    4770.428571\n",
       "58    5219.000000\n",
       "59    4275.000000\n",
       "60    4777.833333\n",
       "63    4753.125000\n",
       "68    7610.666667\n",
       "70    7308.000000\n",
       "75    3994.500000\n",
       "Name: amount, dtype: float64"
      ]
     },
     "execution_count": 51,
     "metadata": {},
     "output_type": "execute_result"
    }
   ],
   "source": [
    "age_amount_se[((age_amount_se - average) / average )> 0.2]"
   ]
  },
  {
   "cell_type": "markdown",
   "metadata": {
    "deletable": true,
    "editable": true
   },
   "source": [
    "### Question 9"
   ]
  },
  {
   "cell_type": "markdown",
   "metadata": {
    "deletable": true,
    "editable": true
   },
   "source": [
    "Display only those columns that, across the whole data set, contain more than 6 distinct values. You can use for loops or list comprehension for this problem. Hint: the method nunique() returns the number of unique values in a Series."
   ]
  },
  {
   "cell_type": "code",
   "execution_count": 87,
   "metadata": {
    "collapsed": false,
    "deletable": true,
    "editable": true
   },
   "outputs": [
    {
     "data": {
      "text/plain": [
       "'months_loan_duration'"
      ]
     },
     "execution_count": 87,
     "metadata": {},
     "output_type": "execute_result"
    },
    {
     "data": {
      "text/plain": [
       "'purpose'"
      ]
     },
     "execution_count": 87,
     "metadata": {},
     "output_type": "execute_result"
    },
    {
     "data": {
      "text/plain": [
       "'amount'"
      ]
     },
     "execution_count": 87,
     "metadata": {},
     "output_type": "execute_result"
    },
    {
     "data": {
      "text/plain": [
       "'age'"
      ]
     },
     "execution_count": 87,
     "metadata": {},
     "output_type": "execute_result"
    },
    {
     "data": {
      "text/plain": [
       "'loan_duration_per_year_of_age'"
      ]
     },
     "execution_count": 87,
     "metadata": {},
     "output_type": "execute_result"
    }
   ],
   "source": [
    "for column in df.columns:\n",
    "    if df[column].nunique() > 6:\n",
    "        column       "
   ]
  },
  {
   "cell_type": "markdown",
   "metadata": {
    "deletable": true,
    "editable": true
   },
   "source": [
    "### Question 10"
   ]
  },
  {
   "cell_type": "markdown",
   "metadata": {
    "deletable": true,
    "editable": true
   },
   "source": [
    "A metric we are interested in is the \"person's loan duration per year of age\", which is computed as loan duration / age. Among those amount higher than average , show the details of the person (or people in case of ties) who has/have the largest number of loan duration per year of age."
   ]
  },
  {
   "cell_type": "markdown",
   "metadata": {
    "deletable": true,
    "editable": true
   },
   "source": [
    "\"person's loan duration per year of age\"这个Metric很拗口， 而且很不好理解，虽然告诉了怎么计算，但是用一个人的借的贷的周期除以他现在的年纪感觉不是什么有用的指标。 题可以做出来，但是会给人感觉很混乱。 感觉这道题可以放弃然后重出一道"
   ]
  },
  {
   "cell_type": "code",
   "execution_count": 80,
   "metadata": {
    "collapsed": false,
    "deletable": true,
    "editable": true
   },
   "outputs": [
    {
     "data": {
      "text/html": [
       "<div>\n",
       "<style>\n",
       "    .dataframe thead tr:only-child th {\n",
       "        text-align: right;\n",
       "    }\n",
       "\n",
       "    .dataframe thead th {\n",
       "        text-align: left;\n",
       "    }\n",
       "\n",
       "    .dataframe tbody tr th {\n",
       "        vertical-align: top;\n",
       "    }\n",
       "</style>\n",
       "<table border=\"1\" class=\"dataframe\">\n",
       "  <thead>\n",
       "    <tr style=\"text-align: right;\">\n",
       "      <th></th>\n",
       "      <th>months_loan_duration</th>\n",
       "      <th>credit_history</th>\n",
       "      <th>purpose</th>\n",
       "      <th>amount</th>\n",
       "      <th>employment_length</th>\n",
       "      <th>personal_status</th>\n",
       "      <th>property</th>\n",
       "      <th>age</th>\n",
       "      <th>job</th>\n",
       "      <th>loan_duration_per_year_of_age</th>\n",
       "    </tr>\n",
       "  </thead>\n",
       "  <tbody>\n",
       "    <tr>\n",
       "      <th>0</th>\n",
       "      <td>6</td>\n",
       "      <td>critical</td>\n",
       "      <td>radio/tv</td>\n",
       "      <td>1169</td>\n",
       "      <td>&gt; 7 yrs</td>\n",
       "      <td>single male</td>\n",
       "      <td>real estate</td>\n",
       "      <td>67</td>\n",
       "      <td>skilled employee</td>\n",
       "      <td>0.089552</td>\n",
       "    </tr>\n",
       "    <tr>\n",
       "      <th>1</th>\n",
       "      <td>48</td>\n",
       "      <td>repaid</td>\n",
       "      <td>radio/tv</td>\n",
       "      <td>5951</td>\n",
       "      <td>1 - 4 yrs</td>\n",
       "      <td>female</td>\n",
       "      <td>real estate</td>\n",
       "      <td>22</td>\n",
       "      <td>skilled employee</td>\n",
       "      <td>2.181818</td>\n",
       "    </tr>\n",
       "  </tbody>\n",
       "</table>\n",
       "</div>"
      ],
      "text/plain": [
       "   months_loan_duration credit_history   purpose  amount employment_length  \\\n",
       "0                     6       critical  radio/tv    1169           > 7 yrs   \n",
       "1                    48         repaid  radio/tv    5951         1 - 4 yrs   \n",
       "\n",
       "  personal_status     property  age               job  \\\n",
       "0     single male  real estate   67  skilled employee   \n",
       "1          female  real estate   22  skilled employee   \n",
       "\n",
       "   loan_duration_per_year_of_age  \n",
       "0                       0.089552  \n",
       "1                       2.181818  "
      ]
     },
     "execution_count": 80,
     "metadata": {},
     "output_type": "execute_result"
    }
   ],
   "source": [
    "df.head(2)"
   ]
  },
  {
   "cell_type": "code",
   "execution_count": 79,
   "metadata": {
    "collapsed": false,
    "deletable": true,
    "editable": true
   },
   "outputs": [],
   "source": [
    "df['loan_duration_per_year_of_age'] = df.months_loan_duration / df.age"
   ]
  },
  {
   "cell_type": "code",
   "execution_count": 83,
   "metadata": {
    "collapsed": false,
    "deletable": true,
    "editable": true
   },
   "outputs": [],
   "source": [
    "df2 = df[df.amount  > df.amount.mean()]"
   ]
  },
  {
   "cell_type": "code",
   "execution_count": 86,
   "metadata": {
    "collapsed": false,
    "deletable": true,
    "editable": true
   },
   "outputs": [
    {
     "data": {
      "text/html": [
       "<div>\n",
       "<style>\n",
       "    .dataframe thead tr:only-child th {\n",
       "        text-align: right;\n",
       "    }\n",
       "\n",
       "    .dataframe thead th {\n",
       "        text-align: left;\n",
       "    }\n",
       "\n",
       "    .dataframe tbody tr th {\n",
       "        vertical-align: top;\n",
       "    }\n",
       "</style>\n",
       "<table border=\"1\" class=\"dataframe\">\n",
       "  <thead>\n",
       "    <tr style=\"text-align: right;\">\n",
       "      <th></th>\n",
       "      <th>months_loan_duration</th>\n",
       "      <th>credit_history</th>\n",
       "      <th>purpose</th>\n",
       "      <th>amount</th>\n",
       "      <th>employment_length</th>\n",
       "      <th>personal_status</th>\n",
       "      <th>property</th>\n",
       "      <th>age</th>\n",
       "      <th>job</th>\n",
       "      <th>loan_duration_per_year_of_age</th>\n",
       "    </tr>\n",
       "  </thead>\n",
       "  <tbody>\n",
       "    <tr>\n",
       "      <th>677</th>\n",
       "      <td>72</td>\n",
       "      <td>repaid</td>\n",
       "      <td>radio/tv</td>\n",
       "      <td>5595</td>\n",
       "      <td>1 - 4 yrs</td>\n",
       "      <td>married male</td>\n",
       "      <td>other</td>\n",
       "      <td>24</td>\n",
       "      <td>skilled employee</td>\n",
       "      <td>3.0</td>\n",
       "    </tr>\n",
       "  </tbody>\n",
       "</table>\n",
       "</div>"
      ],
      "text/plain": [
       "     months_loan_duration credit_history   purpose  amount employment_length  \\\n",
       "677                    72         repaid  radio/tv    5595         1 - 4 yrs   \n",
       "\n",
       "    personal_status property  age               job  \\\n",
       "677    married male    other   24  skilled employee   \n",
       "\n",
       "     loan_duration_per_year_of_age  \n",
       "677                            3.0  "
      ]
     },
     "execution_count": 86,
     "metadata": {},
     "output_type": "execute_result"
    }
   ],
   "source": [
    "df2[df2.loan_duration_per_year_of_age == df2.loan_duration_per_year_of_age.max()]"
   ]
  },
  {
   "cell_type": "code",
   "execution_count": null,
   "metadata": {
    "collapsed": true,
    "deletable": true,
    "editable": true
   },
   "outputs": [],
   "source": []
  }
 ],
 "metadata": {
  "kernelspec": {
   "display_name": "Python 2",
   "language": "python",
   "name": "python2"
  },
  "language_info": {
   "codemirror_mode": {
    "name": "ipython",
    "version": 2
   },
   "file_extension": ".py",
   "mimetype": "text/x-python",
   "name": "python",
   "nbconvert_exporter": "python",
   "pygments_lexer": "ipython2",
   "version": "2.7.11"
  }
 },
 "nbformat": 4,
 "nbformat_minor": 0
}
