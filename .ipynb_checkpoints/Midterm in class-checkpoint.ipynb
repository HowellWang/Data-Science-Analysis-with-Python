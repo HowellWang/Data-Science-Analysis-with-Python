{
 "cells": [
  {
   "cell_type": "markdown",
   "metadata": {
    "deletable": true,
    "editable": true
   },
   "source": [
    "# Midterm"
   ]
  },
  {
   "cell_type": "markdown",
   "metadata": {
    "deletable": true,
    "editable": true
   },
   "source": [
    "<b>Penalties:</b> You will incur penalties if:\n",
    "<ul>\n",
    "<li>Your code is wrong</li>\n",
    "<li>Your code does not work on different data</li>\n",
    "<li>You use for loops or list comprehensions (unless explicitly permitted)</li>\n",
    "</ul>"
   ]
  },
  {
   "cell_type": "code",
   "execution_count": 1,
   "metadata": {
    "collapsed": true,
    "deletable": true,
    "editable": true
   },
   "outputs": [],
   "source": [
    "import pandas as pd\n",
    "from IPython.core.interactiveshell import InteractiveShell\n",
    "InteractiveShell.ast_node_interactivity = \"all\"\n",
    "import warnings\n",
    "warnings.filterwarnings('ignore')"
   ]
  },
  {
   "cell_type": "code",
   "execution_count": 2,
   "metadata": {
    "collapsed": true,
    "deletable": true,
    "editable": true
   },
   "outputs": [],
   "source": [
    "df = pd.read_csv(\"credit.csv\")"
   ]
  },
  {
   "cell_type": "markdown",
   "metadata": {
    "deletable": true,
    "editable": true
   },
   "source": [
    "<p>This data set reports the information of personal credits situation. Each row is associated to a person, whereas the columns report:\n",
    "<ul>\n",
    "<li><b>months_loan_duration</b>: Duration in month\n",
    "<li><b>credit_history</b>: the person's credit history\n",
    "<li><b>purpose</b>: the person's credit purpose\n",
    "<li><b>employment_length</b>: the person's credit amount\n",
    "<li><b>employment_length</b>: Present employment since\n",
    "<li><b>personal_status</b>: length of the marriage, in years\n",
    "<li><b>affairs</b>:time spent, in hours/week, in extra-marital affairs \n",
    "</ul></p>\n",
    "<p>That is all we need to know about the columns' meaning.</p>"
   ]
  },
  {
   "cell_type": "code",
   "execution_count": 3,
   "metadata": {
    "collapsed": false,
    "deletable": true,
    "editable": true
   },
   "outputs": [
    {
     "data": {
      "text/html": [
       "<div>\n",
       "<style>\n",
       "    .dataframe thead tr:only-child th {\n",
       "        text-align: right;\n",
       "    }\n",
       "\n",
       "    .dataframe thead th {\n",
       "        text-align: left;\n",
       "    }\n",
       "\n",
       "    .dataframe tbody tr th {\n",
       "        vertical-align: top;\n",
       "    }\n",
       "</style>\n",
       "<table border=\"1\" class=\"dataframe\">\n",
       "  <thead>\n",
       "    <tr style=\"text-align: right;\">\n",
       "      <th></th>\n",
       "      <th>months_loan_duration</th>\n",
       "      <th>credit_history</th>\n",
       "      <th>purpose</th>\n",
       "      <th>amount</th>\n",
       "      <th>employment_length</th>\n",
       "      <th>personal_status</th>\n",
       "      <th>property</th>\n",
       "      <th>age</th>\n",
       "      <th>job</th>\n",
       "    </tr>\n",
       "  </thead>\n",
       "  <tbody>\n",
       "    <tr>\n",
       "      <th>0</th>\n",
       "      <td>6</td>\n",
       "      <td>critical</td>\n",
       "      <td>radio/tv</td>\n",
       "      <td>1169</td>\n",
       "      <td>&gt; 7 yrs</td>\n",
       "      <td>single male</td>\n",
       "      <td>real estate</td>\n",
       "      <td>67</td>\n",
       "      <td>skilled employee</td>\n",
       "    </tr>\n",
       "    <tr>\n",
       "      <th>1</th>\n",
       "      <td>48</td>\n",
       "      <td>repaid</td>\n",
       "      <td>radio/tv</td>\n",
       "      <td>5951</td>\n",
       "      <td>1 - 4 yrs</td>\n",
       "      <td>female</td>\n",
       "      <td>real estate</td>\n",
       "      <td>22</td>\n",
       "      <td>skilled employee</td>\n",
       "    </tr>\n",
       "    <tr>\n",
       "      <th>2</th>\n",
       "      <td>12</td>\n",
       "      <td>critical</td>\n",
       "      <td>education</td>\n",
       "      <td>2096</td>\n",
       "      <td>4 - 7 yrs</td>\n",
       "      <td>single male</td>\n",
       "      <td>real estate</td>\n",
       "      <td>49</td>\n",
       "      <td>unskilled resident</td>\n",
       "    </tr>\n",
       "    <tr>\n",
       "      <th>3</th>\n",
       "      <td>42</td>\n",
       "      <td>repaid</td>\n",
       "      <td>furniture</td>\n",
       "      <td>7882</td>\n",
       "      <td>4 - 7 yrs</td>\n",
       "      <td>single male</td>\n",
       "      <td>building society savings</td>\n",
       "      <td>45</td>\n",
       "      <td>skilled employee</td>\n",
       "    </tr>\n",
       "    <tr>\n",
       "      <th>4</th>\n",
       "      <td>24</td>\n",
       "      <td>delayed</td>\n",
       "      <td>car (new)</td>\n",
       "      <td>4870</td>\n",
       "      <td>1 - 4 yrs</td>\n",
       "      <td>single male</td>\n",
       "      <td>unknown/none</td>\n",
       "      <td>53</td>\n",
       "      <td>skilled employee</td>\n",
       "    </tr>\n",
       "    <tr>\n",
       "      <th>5</th>\n",
       "      <td>36</td>\n",
       "      <td>repaid</td>\n",
       "      <td>education</td>\n",
       "      <td>9055</td>\n",
       "      <td>1 - 4 yrs</td>\n",
       "      <td>single male</td>\n",
       "      <td>unknown/none</td>\n",
       "      <td>35</td>\n",
       "      <td>unskilled resident</td>\n",
       "    </tr>\n",
       "    <tr>\n",
       "      <th>6</th>\n",
       "      <td>24</td>\n",
       "      <td>repaid</td>\n",
       "      <td>furniture</td>\n",
       "      <td>2835</td>\n",
       "      <td>&gt; 7 yrs</td>\n",
       "      <td>single male</td>\n",
       "      <td>building society savings</td>\n",
       "      <td>53</td>\n",
       "      <td>skilled employee</td>\n",
       "    </tr>\n",
       "    <tr>\n",
       "      <th>7</th>\n",
       "      <td>36</td>\n",
       "      <td>repaid</td>\n",
       "      <td>car (used)</td>\n",
       "      <td>6948</td>\n",
       "      <td>1 - 4 yrs</td>\n",
       "      <td>single male</td>\n",
       "      <td>other</td>\n",
       "      <td>35</td>\n",
       "      <td>mangement self-employed</td>\n",
       "    </tr>\n",
       "    <tr>\n",
       "      <th>8</th>\n",
       "      <td>12</td>\n",
       "      <td>repaid</td>\n",
       "      <td>radio/tv</td>\n",
       "      <td>3059</td>\n",
       "      <td>4 - 7 yrs</td>\n",
       "      <td>divorced male</td>\n",
       "      <td>real estate</td>\n",
       "      <td>61</td>\n",
       "      <td>unskilled resident</td>\n",
       "    </tr>\n",
       "    <tr>\n",
       "      <th>9</th>\n",
       "      <td>30</td>\n",
       "      <td>critical</td>\n",
       "      <td>car (new)</td>\n",
       "      <td>5234</td>\n",
       "      <td>unemployed</td>\n",
       "      <td>married male</td>\n",
       "      <td>other</td>\n",
       "      <td>28</td>\n",
       "      <td>mangement self-employed</td>\n",
       "    </tr>\n",
       "  </tbody>\n",
       "</table>\n",
       "</div>"
      ],
      "text/plain": [
       "   months_loan_duration credit_history     purpose  amount employment_length  \\\n",
       "0                     6       critical    radio/tv    1169           > 7 yrs   \n",
       "1                    48         repaid    radio/tv    5951         1 - 4 yrs   \n",
       "2                    12       critical   education    2096         4 - 7 yrs   \n",
       "3                    42         repaid   furniture    7882         4 - 7 yrs   \n",
       "4                    24        delayed   car (new)    4870         1 - 4 yrs   \n",
       "5                    36         repaid   education    9055         1 - 4 yrs   \n",
       "6                    24         repaid   furniture    2835           > 7 yrs   \n",
       "7                    36         repaid  car (used)    6948         1 - 4 yrs   \n",
       "8                    12         repaid    radio/tv    3059         4 - 7 yrs   \n",
       "9                    30       critical   car (new)    5234        unemployed   \n",
       "\n",
       "  personal_status                  property  age                      job  \n",
       "0     single male               real estate   67         skilled employee  \n",
       "1          female               real estate   22         skilled employee  \n",
       "2     single male               real estate   49       unskilled resident  \n",
       "3     single male  building society savings   45         skilled employee  \n",
       "4     single male              unknown/none   53         skilled employee  \n",
       "5     single male              unknown/none   35       unskilled resident  \n",
       "6     single male  building society savings   53         skilled employee  \n",
       "7     single male                     other   35  mangement self-employed  \n",
       "8   divorced male               real estate   61       unskilled resident  \n",
       "9    married male                     other   28  mangement self-employed  "
      ]
     },
     "execution_count": 3,
     "metadata": {},
     "output_type": "execute_result"
    }
   ],
   "source": [
    "df.head(10)"
   ]
  },
  {
   "cell_type": "code",
   "execution_count": 4,
   "metadata": {
    "collapsed": false,
    "deletable": true,
    "editable": true
   },
   "outputs": [
    {
     "data": {
      "text/plain": [
       "(1000, 9)"
      ]
     },
     "execution_count": 4,
     "metadata": {},
     "output_type": "execute_result"
    }
   ],
   "source": [
    "df.shape"
   ]
  },
  {
   "cell_type": "markdown",
   "metadata": {
    "deletable": true,
    "editable": true
   },
   "source": [
    "### Question 1"
   ]
  },
  {
   "cell_type": "markdown",
   "metadata": {
    "deletable": true,
    "editable": true
   },
   "source": [
    "How many people whose credit purpose is education and property is real estate?"
   ]
  },
  {
   "cell_type": "code",
   "execution_count": null,
   "metadata": {
    "collapsed": true
   },
   "outputs": [],
   "source": []
  },
  {
   "cell_type": "markdown",
   "metadata": {
    "deletable": true,
    "editable": true
   },
   "source": [
    "### Question 2"
   ]
  },
  {
   "cell_type": "markdown",
   "metadata": {
    "deletable": true,
    "editable": true
   },
   "source": [
    "What's the credit history of the guy who has the maxium amount among the whole dataset? Your code must return <b>only one string</b>."
   ]
  },
  {
   "cell_type": "code",
   "execution_count": null,
   "metadata": {
    "collapsed": true
   },
   "outputs": [],
   "source": []
  },
  {
   "cell_type": "markdown",
   "metadata": {
    "deletable": true,
    "editable": true
   },
   "source": [
    "### Question 3"
   ]
  },
  {
   "cell_type": "markdown",
   "metadata": {
    "deletable": true,
    "editable": true
   },
   "source": [
    "What is the proportion of people (0 to 1) who are younger than 30 and have lower than 24 months loan duration?"
   ]
  },
  {
   "cell_type": "code",
   "execution_count": null,
   "metadata": {
    "collapsed": true
   },
   "outputs": [],
   "source": []
  },
  {
   "cell_type": "markdown",
   "metadata": {
    "deletable": true,
    "editable": true
   },
   "source": [
    "### Question 4"
   ]
  },
  {
   "cell_type": "markdown",
   "metadata": {
    "deletable": true,
    "editable": true
   },
   "source": [
    "For each employment_length, report the number of property whose master have over 30 months loan duration. You must report one entry for each existing province.\n",
    "\n"
   ]
  },
  {
   "cell_type": "code",
   "execution_count": null,
   "metadata": {
    "collapsed": true
   },
   "outputs": [],
   "source": []
  },
  {
   "cell_type": "markdown",
   "metadata": {
    "deletable": true,
    "editable": true
   },
   "source": [
    "### Question 5"
   ]
  },
  {
   "cell_type": "markdown",
   "metadata": {
    "deletable": true,
    "editable": true
   },
   "source": [
    "What is the popular purpose group? Please give then decreasing order."
   ]
  },
  {
   "cell_type": "code",
   "execution_count": null,
   "metadata": {
    "collapsed": true
   },
   "outputs": [],
   "source": []
  },
  {
   "cell_type": "markdown",
   "metadata": {
    "deletable": true,
    "editable": true
   },
   "source": [
    "### Question 6"
   ]
  },
  {
   "cell_type": "markdown",
   "metadata": {
    "deletable": true,
    "editable": true
   },
   "source": [
    "Find how many <u>distinct</u> age for male. <i>Hint</i>: Series.unique() find the list of unique values in a Series."
   ]
  },
  {
   "cell_type": "code",
   "execution_count": null,
   "metadata": {
    "collapsed": true
   },
   "outputs": [],
   "source": []
  },
  {
   "cell_type": "markdown",
   "metadata": {
    "deletable": true,
    "editable": true
   },
   "source": [
    "### Question 7"
   ]
  },
  {
   "cell_type": "markdown",
   "metadata": {
    "collapsed": true,
    "deletable": true,
    "editable": true
   },
   "source": [
    "For each combination of <i>employment_length</i> and <i>job</i>, what's the average, minimum, and maximum number of amount?"
   ]
  },
  {
   "cell_type": "code",
   "execution_count": null,
   "metadata": {
    "collapsed": true
   },
   "outputs": [],
   "source": []
  },
  {
   "cell_type": "markdown",
   "metadata": {
    "deletable": true,
    "editable": true
   },
   "source": [
    "### Question 8"
   ]
  },
  {
   "cell_type": "markdown",
   "metadata": {
    "deletable": true,
    "editable": true
   },
   "source": [
    "Let us define \"average amount of an age\" as the average amount of that age. Find the age whose amount is over 20% higher than the average amount of an age (computed throughout the whole data set). Report both the age and its average amount."
   ]
  },
  {
   "cell_type": "code",
   "execution_count": null,
   "metadata": {
    "collapsed": true
   },
   "outputs": [],
   "source": []
  },
  {
   "cell_type": "markdown",
   "metadata": {
    "deletable": true,
    "editable": true
   },
   "source": [
    "### Question 9"
   ]
  },
  {
   "cell_type": "markdown",
   "metadata": {
    "deletable": true,
    "editable": true
   },
   "source": [
    "Display only those columns that, across the whole data set, contain more than 6 distinct values. You can use for loops or list comprehension for this problem. Hint: the method nunique() returns the number of unique values in a Series."
   ]
  },
  {
   "cell_type": "code",
   "execution_count": null,
   "metadata": {
    "collapsed": true
   },
   "outputs": [],
   "source": []
  },
  {
   "cell_type": "markdown",
   "metadata": {
    "deletable": true,
    "editable": true
   },
   "source": [
    "### Question 10"
   ]
  },
  {
   "cell_type": "markdown",
   "metadata": {
    "deletable": true,
    "editable": true
   },
   "source": [
    "A metric we are interested in is the \"person's loan duration per year of age\", which is computed as loan duration / age. Among those amount higher than average , show the details of the person (or people in case of ties) who has/have the largest number of loan duration per year of age."
   ]
  },
  {
   "cell_type": "code",
   "execution_count": null,
   "metadata": {
    "collapsed": true,
    "deletable": true,
    "editable": true
   },
   "outputs": [],
   "source": []
  }
 ],
 "metadata": {
  "kernelspec": {
   "display_name": "Python 2",
   "language": "python",
   "name": "python2"
  },
  "language_info": {
   "codemirror_mode": {
    "name": "ipython",
    "version": 2
   },
   "file_extension": ".py",
   "mimetype": "text/x-python",
   "name": "python",
   "nbconvert_exporter": "python",
   "pygments_lexer": "ipython2",
   "version": "2.7.11"
  }
 },
 "nbformat": 4,
 "nbformat_minor": 0
}
